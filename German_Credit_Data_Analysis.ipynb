{
 "cells": [
  {
   "cell_type": "code",
   "execution_count": 1,
   "metadata": {},
   "outputs": [],
   "source": [
    "# import libraries\n",
    "\n",
    "import pandas as pd\n",
    "import numpy as np\n",
    "import seaborn as sns\n",
    "import matplotlib.pyplot as plt\n",
    "%matplotlib inline"
   ]
  },
  {
   "cell_type": "code",
   "execution_count": 2,
   "metadata": {},
   "outputs": [],
   "source": [
    "# read the data\n",
    "\n",
    "data = pd.read_csv('german_credit_data.csv')"
   ]
  },
  {
   "cell_type": "code",
   "execution_count": 3,
   "metadata": {},
   "outputs": [
    {
     "data": {
      "text/plain": [
       "(1000, 11)"
      ]
     },
     "execution_count": 3,
     "metadata": {},
     "output_type": "execute_result"
    }
   ],
   "source": [
    "# dataframe exploration\n",
    "\n",
    "data.shape"
   ]
  },
  {
   "cell_type": "code",
   "execution_count": 4,
   "metadata": {},
   "outputs": [
    {
     "data": {
      "text/html": [
       "<div>\n",
       "<style scoped>\n",
       "    .dataframe tbody tr th:only-of-type {\n",
       "        vertical-align: middle;\n",
       "    }\n",
       "\n",
       "    .dataframe tbody tr th {\n",
       "        vertical-align: top;\n",
       "    }\n",
       "\n",
       "    .dataframe thead th {\n",
       "        text-align: right;\n",
       "    }\n",
       "</style>\n",
       "<table border=\"1\" class=\"dataframe\">\n",
       "  <thead>\n",
       "    <tr style=\"text-align: right;\">\n",
       "      <th></th>\n",
       "      <th>Unnamed: 0</th>\n",
       "      <th>Age</th>\n",
       "      <th>Sex</th>\n",
       "      <th>Job</th>\n",
       "      <th>Housing</th>\n",
       "      <th>Saving accounts</th>\n",
       "      <th>Checking account</th>\n",
       "      <th>Credit amount</th>\n",
       "      <th>Duration</th>\n",
       "      <th>Purpose</th>\n",
       "      <th>Risk</th>\n",
       "    </tr>\n",
       "  </thead>\n",
       "  <tbody>\n",
       "    <tr>\n",
       "      <th>0</th>\n",
       "      <td>0</td>\n",
       "      <td>67</td>\n",
       "      <td>male</td>\n",
       "      <td>2</td>\n",
       "      <td>own</td>\n",
       "      <td>NaN</td>\n",
       "      <td>little</td>\n",
       "      <td>1169</td>\n",
       "      <td>6</td>\n",
       "      <td>radio/TV</td>\n",
       "      <td>good</td>\n",
       "    </tr>\n",
       "    <tr>\n",
       "      <th>1</th>\n",
       "      <td>1</td>\n",
       "      <td>22</td>\n",
       "      <td>female</td>\n",
       "      <td>2</td>\n",
       "      <td>own</td>\n",
       "      <td>little</td>\n",
       "      <td>moderate</td>\n",
       "      <td>5951</td>\n",
       "      <td>48</td>\n",
       "      <td>radio/TV</td>\n",
       "      <td>bad</td>\n",
       "    </tr>\n",
       "  </tbody>\n",
       "</table>\n",
       "</div>"
      ],
      "text/plain": [
       "   Unnamed: 0  Age     Sex  Job Housing Saving accounts Checking account  \\\n",
       "0           0   67    male    2     own             NaN           little   \n",
       "1           1   22  female    2     own          little         moderate   \n",
       "\n",
       "   Credit amount  Duration   Purpose  Risk  \n",
       "0           1169         6  radio/TV  good  \n",
       "1           5951        48  radio/TV   bad  "
      ]
     },
     "execution_count": 4,
     "metadata": {},
     "output_type": "execute_result"
    }
   ],
   "source": [
    "data.head(2)"
   ]
  },
  {
   "cell_type": "markdown",
   "metadata": {},
   "source": [
    "first column seems to be unwanted, as it is similar to the index, so lets drop that column."
   ]
  },
  {
   "cell_type": "code",
   "execution_count": 3,
   "metadata": {},
   "outputs": [],
   "source": [
    "del data['Unnamed: 0']"
   ]
  },
  {
   "cell_type": "code",
   "execution_count": 6,
   "metadata": {},
   "outputs": [
    {
     "data": {
      "text/html": [
       "<div>\n",
       "<style scoped>\n",
       "    .dataframe tbody tr th:only-of-type {\n",
       "        vertical-align: middle;\n",
       "    }\n",
       "\n",
       "    .dataframe tbody tr th {\n",
       "        vertical-align: top;\n",
       "    }\n",
       "\n",
       "    .dataframe thead th {\n",
       "        text-align: right;\n",
       "    }\n",
       "</style>\n",
       "<table border=\"1\" class=\"dataframe\">\n",
       "  <thead>\n",
       "    <tr style=\"text-align: right;\">\n",
       "      <th></th>\n",
       "      <th>Age</th>\n",
       "      <th>Sex</th>\n",
       "      <th>Job</th>\n",
       "      <th>Housing</th>\n",
       "      <th>Saving accounts</th>\n",
       "      <th>Checking account</th>\n",
       "      <th>Credit amount</th>\n",
       "      <th>Duration</th>\n",
       "      <th>Purpose</th>\n",
       "      <th>Risk</th>\n",
       "    </tr>\n",
       "  </thead>\n",
       "  <tbody>\n",
       "    <tr>\n",
       "      <th>0</th>\n",
       "      <td>67</td>\n",
       "      <td>male</td>\n",
       "      <td>2</td>\n",
       "      <td>own</td>\n",
       "      <td>NaN</td>\n",
       "      <td>little</td>\n",
       "      <td>1169</td>\n",
       "      <td>6</td>\n",
       "      <td>radio/TV</td>\n",
       "      <td>good</td>\n",
       "    </tr>\n",
       "    <tr>\n",
       "      <th>1</th>\n",
       "      <td>22</td>\n",
       "      <td>female</td>\n",
       "      <td>2</td>\n",
       "      <td>own</td>\n",
       "      <td>little</td>\n",
       "      <td>moderate</td>\n",
       "      <td>5951</td>\n",
       "      <td>48</td>\n",
       "      <td>radio/TV</td>\n",
       "      <td>bad</td>\n",
       "    </tr>\n",
       "  </tbody>\n",
       "</table>\n",
       "</div>"
      ],
      "text/plain": [
       "   Age     Sex  Job Housing Saving accounts Checking account  Credit amount  \\\n",
       "0   67    male    2     own             NaN           little           1169   \n",
       "1   22  female    2     own          little         moderate           5951   \n",
       "\n",
       "   Duration   Purpose  Risk  \n",
       "0         6  radio/TV  good  \n",
       "1        48  radio/TV   bad  "
      ]
     },
     "execution_count": 6,
     "metadata": {},
     "output_type": "execute_result"
    }
   ],
   "source": [
    "data.head(2)"
   ]
  },
  {
   "cell_type": "code",
   "execution_count": 7,
   "metadata": {},
   "outputs": [
    {
     "name": "stdout",
     "output_type": "stream",
     "text": [
      "<class 'pandas.core.frame.DataFrame'>\n",
      "RangeIndex: 1000 entries, 0 to 999\n",
      "Data columns (total 10 columns):\n",
      "Age                 1000 non-null int64\n",
      "Sex                 1000 non-null object\n",
      "Job                 1000 non-null int64\n",
      "Housing             1000 non-null object\n",
      "Saving accounts     817 non-null object\n",
      "Checking account    606 non-null object\n",
      "Credit amount       1000 non-null int64\n",
      "Duration            1000 non-null int64\n",
      "Purpose             1000 non-null object\n",
      "Risk                1000 non-null object\n",
      "dtypes: int64(4), object(6)\n",
      "memory usage: 78.2+ KB\n"
     ]
    }
   ],
   "source": [
    "# lets findout some more relative information about datas \n",
    "\n",
    "data.info()"
   ]
  },
  {
   "cell_type": "markdown",
   "metadata": {},
   "source": [
    "Now it's clear that we have two datatypes in our dataframe, 4 columns with int64 datatype and 6 columns with object datatype,\n",
    "also its clearly visible that \"Saving accounts\" & \"Checking account\" columns have 183 & 394 missing values respectively."
   ]
  },
  {
   "cell_type": "code",
   "execution_count": 9,
   "metadata": {},
   "outputs": [
    {
     "data": {
      "text/html": [
       "<div>\n",
       "<style scoped>\n",
       "    .dataframe tbody tr th:only-of-type {\n",
       "        vertical-align: middle;\n",
       "    }\n",
       "\n",
       "    .dataframe tbody tr th {\n",
       "        vertical-align: top;\n",
       "    }\n",
       "\n",
       "    .dataframe thead th {\n",
       "        text-align: right;\n",
       "    }\n",
       "</style>\n",
       "<table border=\"1\" class=\"dataframe\">\n",
       "  <thead>\n",
       "    <tr style=\"text-align: right;\">\n",
       "      <th></th>\n",
       "      <th>Age</th>\n",
       "      <th>Sex</th>\n",
       "      <th>Job</th>\n",
       "      <th>Housing</th>\n",
       "      <th>Saving accounts</th>\n",
       "      <th>Checking account</th>\n",
       "      <th>Credit amount</th>\n",
       "      <th>Duration</th>\n",
       "      <th>Purpose</th>\n",
       "      <th>Risk</th>\n",
       "    </tr>\n",
       "  </thead>\n",
       "  <tbody>\n",
       "    <tr>\n",
       "      <th>count</th>\n",
       "      <td>1000.000000</td>\n",
       "      <td>1000</td>\n",
       "      <td>1000.000000</td>\n",
       "      <td>1000</td>\n",
       "      <td>817</td>\n",
       "      <td>606</td>\n",
       "      <td>1000.000000</td>\n",
       "      <td>1000.000000</td>\n",
       "      <td>1000</td>\n",
       "      <td>1000</td>\n",
       "    </tr>\n",
       "    <tr>\n",
       "      <th>unique</th>\n",
       "      <td>NaN</td>\n",
       "      <td>2</td>\n",
       "      <td>NaN</td>\n",
       "      <td>3</td>\n",
       "      <td>4</td>\n",
       "      <td>3</td>\n",
       "      <td>NaN</td>\n",
       "      <td>NaN</td>\n",
       "      <td>8</td>\n",
       "      <td>2</td>\n",
       "    </tr>\n",
       "    <tr>\n",
       "      <th>top</th>\n",
       "      <td>NaN</td>\n",
       "      <td>male</td>\n",
       "      <td>NaN</td>\n",
       "      <td>own</td>\n",
       "      <td>little</td>\n",
       "      <td>little</td>\n",
       "      <td>NaN</td>\n",
       "      <td>NaN</td>\n",
       "      <td>car</td>\n",
       "      <td>good</td>\n",
       "    </tr>\n",
       "    <tr>\n",
       "      <th>freq</th>\n",
       "      <td>NaN</td>\n",
       "      <td>690</td>\n",
       "      <td>NaN</td>\n",
       "      <td>713</td>\n",
       "      <td>603</td>\n",
       "      <td>274</td>\n",
       "      <td>NaN</td>\n",
       "      <td>NaN</td>\n",
       "      <td>337</td>\n",
       "      <td>700</td>\n",
       "    </tr>\n",
       "    <tr>\n",
       "      <th>mean</th>\n",
       "      <td>35.546000</td>\n",
       "      <td>NaN</td>\n",
       "      <td>1.904000</td>\n",
       "      <td>NaN</td>\n",
       "      <td>NaN</td>\n",
       "      <td>NaN</td>\n",
       "      <td>3271.258000</td>\n",
       "      <td>20.903000</td>\n",
       "      <td>NaN</td>\n",
       "      <td>NaN</td>\n",
       "    </tr>\n",
       "    <tr>\n",
       "      <th>std</th>\n",
       "      <td>11.375469</td>\n",
       "      <td>NaN</td>\n",
       "      <td>0.653614</td>\n",
       "      <td>NaN</td>\n",
       "      <td>NaN</td>\n",
       "      <td>NaN</td>\n",
       "      <td>2822.736876</td>\n",
       "      <td>12.058814</td>\n",
       "      <td>NaN</td>\n",
       "      <td>NaN</td>\n",
       "    </tr>\n",
       "    <tr>\n",
       "      <th>min</th>\n",
       "      <td>19.000000</td>\n",
       "      <td>NaN</td>\n",
       "      <td>0.000000</td>\n",
       "      <td>NaN</td>\n",
       "      <td>NaN</td>\n",
       "      <td>NaN</td>\n",
       "      <td>250.000000</td>\n",
       "      <td>4.000000</td>\n",
       "      <td>NaN</td>\n",
       "      <td>NaN</td>\n",
       "    </tr>\n",
       "    <tr>\n",
       "      <th>25%</th>\n",
       "      <td>27.000000</td>\n",
       "      <td>NaN</td>\n",
       "      <td>2.000000</td>\n",
       "      <td>NaN</td>\n",
       "      <td>NaN</td>\n",
       "      <td>NaN</td>\n",
       "      <td>1365.500000</td>\n",
       "      <td>12.000000</td>\n",
       "      <td>NaN</td>\n",
       "      <td>NaN</td>\n",
       "    </tr>\n",
       "    <tr>\n",
       "      <th>50%</th>\n",
       "      <td>33.000000</td>\n",
       "      <td>NaN</td>\n",
       "      <td>2.000000</td>\n",
       "      <td>NaN</td>\n",
       "      <td>NaN</td>\n",
       "      <td>NaN</td>\n",
       "      <td>2319.500000</td>\n",
       "      <td>18.000000</td>\n",
       "      <td>NaN</td>\n",
       "      <td>NaN</td>\n",
       "    </tr>\n",
       "    <tr>\n",
       "      <th>75%</th>\n",
       "      <td>42.000000</td>\n",
       "      <td>NaN</td>\n",
       "      <td>2.000000</td>\n",
       "      <td>NaN</td>\n",
       "      <td>NaN</td>\n",
       "      <td>NaN</td>\n",
       "      <td>3972.250000</td>\n",
       "      <td>24.000000</td>\n",
       "      <td>NaN</td>\n",
       "      <td>NaN</td>\n",
       "    </tr>\n",
       "    <tr>\n",
       "      <th>max</th>\n",
       "      <td>75.000000</td>\n",
       "      <td>NaN</td>\n",
       "      <td>3.000000</td>\n",
       "      <td>NaN</td>\n",
       "      <td>NaN</td>\n",
       "      <td>NaN</td>\n",
       "      <td>18424.000000</td>\n",
       "      <td>72.000000</td>\n",
       "      <td>NaN</td>\n",
       "      <td>NaN</td>\n",
       "    </tr>\n",
       "  </tbody>\n",
       "</table>\n",
       "</div>"
      ],
      "text/plain": [
       "                Age   Sex          Job Housing Saving accounts  \\\n",
       "count   1000.000000  1000  1000.000000    1000             817   \n",
       "unique          NaN     2          NaN       3               4   \n",
       "top             NaN  male          NaN     own          little   \n",
       "freq            NaN   690          NaN     713             603   \n",
       "mean      35.546000   NaN     1.904000     NaN             NaN   \n",
       "std       11.375469   NaN     0.653614     NaN             NaN   \n",
       "min       19.000000   NaN     0.000000     NaN             NaN   \n",
       "25%       27.000000   NaN     2.000000     NaN             NaN   \n",
       "50%       33.000000   NaN     2.000000     NaN             NaN   \n",
       "75%       42.000000   NaN     2.000000     NaN             NaN   \n",
       "max       75.000000   NaN     3.000000     NaN             NaN   \n",
       "\n",
       "       Checking account  Credit amount     Duration Purpose  Risk  \n",
       "count               606    1000.000000  1000.000000    1000  1000  \n",
       "unique                3            NaN          NaN       8     2  \n",
       "top              little            NaN          NaN     car  good  \n",
       "freq                274            NaN          NaN     337   700  \n",
       "mean                NaN    3271.258000    20.903000     NaN   NaN  \n",
       "std                 NaN    2822.736876    12.058814     NaN   NaN  \n",
       "min                 NaN     250.000000     4.000000     NaN   NaN  \n",
       "25%                 NaN    1365.500000    12.000000     NaN   NaN  \n",
       "50%                 NaN    2319.500000    18.000000     NaN   NaN  \n",
       "75%                 NaN    3972.250000    24.000000     NaN   NaN  \n",
       "max                 NaN   18424.000000    72.000000     NaN   NaN  "
      ]
     },
     "execution_count": 9,
     "metadata": {},
     "output_type": "execute_result"
    }
   ],
   "source": [
    "# lets explore some statistical details\n",
    "\n",
    "data.describe(include='all')"
   ]
  },
  {
   "cell_type": "markdown",
   "metadata": {},
   "source": [
    "From above result we can say that data is not balanced as out of 1000 records of target variable 700 belongs to one category \"good\". Also Credit amount data is +ve skewed."
   ]
  },
  {
   "cell_type": "code",
   "execution_count": 10,
   "metadata": {},
   "outputs": [],
   "source": [
    "# lets find out some relationship "
   ]
  },
  {
   "cell_type": "code",
   "execution_count": 11,
   "metadata": {},
   "outputs": [
    {
     "data": {
      "text/html": [
       "<div>\n",
       "<style scoped>\n",
       "    .dataframe tbody tr th:only-of-type {\n",
       "        vertical-align: middle;\n",
       "    }\n",
       "\n",
       "    .dataframe tbody tr th {\n",
       "        vertical-align: top;\n",
       "    }\n",
       "\n",
       "    .dataframe thead th {\n",
       "        text-align: right;\n",
       "    }\n",
       "</style>\n",
       "<table border=\"1\" class=\"dataframe\">\n",
       "  <thead>\n",
       "    <tr style=\"text-align: right;\">\n",
       "      <th></th>\n",
       "      <th>Age</th>\n",
       "      <th>Job</th>\n",
       "      <th>Credit amount</th>\n",
       "      <th>Duration</th>\n",
       "    </tr>\n",
       "  </thead>\n",
       "  <tbody>\n",
       "    <tr>\n",
       "      <th>Age</th>\n",
       "      <td>1.000000</td>\n",
       "      <td>0.015673</td>\n",
       "      <td>0.032716</td>\n",
       "      <td>-0.036136</td>\n",
       "    </tr>\n",
       "    <tr>\n",
       "      <th>Job</th>\n",
       "      <td>0.015673</td>\n",
       "      <td>1.000000</td>\n",
       "      <td>0.285385</td>\n",
       "      <td>0.210910</td>\n",
       "    </tr>\n",
       "    <tr>\n",
       "      <th>Credit amount</th>\n",
       "      <td>0.032716</td>\n",
       "      <td>0.285385</td>\n",
       "      <td>1.000000</td>\n",
       "      <td>0.624984</td>\n",
       "    </tr>\n",
       "    <tr>\n",
       "      <th>Duration</th>\n",
       "      <td>-0.036136</td>\n",
       "      <td>0.210910</td>\n",
       "      <td>0.624984</td>\n",
       "      <td>1.000000</td>\n",
       "    </tr>\n",
       "  </tbody>\n",
       "</table>\n",
       "</div>"
      ],
      "text/plain": [
       "                    Age       Job  Credit amount  Duration\n",
       "Age            1.000000  0.015673       0.032716 -0.036136\n",
       "Job            0.015673  1.000000       0.285385  0.210910\n",
       "Credit amount  0.032716  0.285385       1.000000  0.624984\n",
       "Duration      -0.036136  0.210910       0.624984  1.000000"
      ]
     },
     "execution_count": 11,
     "metadata": {},
     "output_type": "execute_result"
    }
   ],
   "source": [
    "data.corr()"
   ]
  },
  {
   "cell_type": "markdown",
   "metadata": {},
   "source": [
    "for the moment we can say that there is a +ve relation between \"Credit amount\" and \"Duration\" columns.\n",
    "we will dig deeper into this again, after we made few changes."
   ]
  },
  {
   "cell_type": "code",
   "execution_count": 12,
   "metadata": {},
   "outputs": [],
   "source": [
    "# lets try to find out Relation/Pattern of Independent variable with Target varible"
   ]
  },
  {
   "cell_type": "markdown",
   "metadata": {},
   "source": [
    "Before that lets divide Age into bins"
   ]
  },
  {
   "cell_type": "code",
   "execution_count": 3,
   "metadata": {},
   "outputs": [],
   "source": [
    "data['Age_group'] = pd.qcut(data.Age, q=4)"
   ]
  },
  {
   "cell_type": "code",
   "execution_count": 14,
   "metadata": {},
   "outputs": [
    {
     "data": {
      "text/plain": [
       "(18.999, 27.0]    291\n",
       "(33.0, 42.0]      249\n",
       "(42.0, 75.0]      235\n",
       "(27.0, 33.0]      225\n",
       "Name: Age_group, dtype: int64"
      ]
     },
     "execution_count": 14,
     "metadata": {},
     "output_type": "execute_result"
    }
   ],
   "source": [
    "data['Age_group'].value_counts()"
   ]
  },
  {
   "cell_type": "code",
   "execution_count": 15,
   "metadata": {},
   "outputs": [],
   "source": [
    "# we will use crosstab, pivot table and plot method to find the insight"
   ]
  },
  {
   "cell_type": "code",
   "execution_count": 16,
   "metadata": {},
   "outputs": [
    {
     "data": {
      "image/png": "[encoded data removed]",
      "text/plain": [
       "<Figure size 432x288 with 1 Axes>"
      ]
     },
     "metadata": {},
     "output_type": "display_data"
    }
   ],
   "source": [
    "pd.crosstab(data['Age_group'], data.Risk).plot(kind='bar')\n",
    "plt.show()"
   ]
  },
  {
   "cell_type": "code",
   "execution_count": 18,
   "metadata": {
    "scrolled": true
   },
   "outputs": [
    {
     "data": {
      "image/png": "[encoded data removed]",
      "text/plain": [
       "<Figure size 432x288 with 1 Axes>"
      ]
     },
     "metadata": {},
     "output_type": "display_data"
    }
   ],
   "source": [
    "pd.crosstab(data.Job, data.Risk).plot(kind='bar')\n",
    "plt.show()"
   ]
  },
  {
   "cell_type": "markdown",
   "metadata": {},
   "source": [
    "from the above graph, we can say that Person from job category 2 tends to have more loan compare than the others."
   ]
  },
  {
   "cell_type": "code",
   "execution_count": 19,
   "metadata": {},
   "outputs": [
    {
     "data": {
      "image/png": "[encoded data removed]",
      "text/plain": [
       "<Figure size 432x288 with 1 Axes>"
      ]
     },
     "metadata": {},
     "output_type": "display_data"
    }
   ],
   "source": [
    "pd.crosstab(data.Housing, data.Risk).plot(kind='bar')\n",
    "plt.show()"
   ]
  },
  {
   "cell_type": "markdown",
   "metadata": {},
   "source": [
    "from the above graph, we can say that Person having \"own housing\" have more loans compare to others, also person from \"free housing\" group has comparitibly more defaulter ration then others."
   ]
  },
  {
   "cell_type": "code",
   "execution_count": 20,
   "metadata": {
    "scrolled": true
   },
   "outputs": [
    {
     "data": {
      "image/png": "[encoded data removed]",
      "text/plain": [
       "<Figure size 432x288 with 1 Axes>"
      ]
     },
     "metadata": {},
     "output_type": "display_data"
    }
   ],
   "source": [
    "pd.crosstab(data['Saving accounts'], data.Risk).plot(kind='bar')\n",
    "plt.show()"
   ]
  },
  {
   "cell_type": "markdown",
   "metadata": {},
   "source": [
    "from the above graph we can say that Person having \"little\" Saving accounts have more loan, whereas \"rich\" have the minimun loan"
   ]
  },
  {
   "cell_type": "code",
   "execution_count": 21,
   "metadata": {
    "scrolled": true
   },
   "outputs": [
    {
     "data": {
      "image/png": "[encoded data removed]",
      "text/plain": [
       "<Figure size 432x288 with 1 Axes>"
      ]
     },
     "metadata": {},
     "output_type": "display_data"
    }
   ],
   "source": [
    "pd.crosstab(data['Checking account'], data.Risk).plot(kind='bar')\n",
    "plt.show()"
   ]
  },
  {
   "cell_type": "markdown",
   "metadata": {},
   "source": [
    "from the above graph, we can say that \"little\" checking account group has more default ratio whereas \"rich\" checking account has minimum default ratio."
   ]
  },
  {
   "cell_type": "code",
   "execution_count": 22,
   "metadata": {},
   "outputs": [
    {
     "data": {
      "image/png": "[encoded data removed]",
      "text/plain": [
       "<Figure size 432x288 with 1 Axes>"
      ]
     },
     "metadata": {},
     "output_type": "display_data"
    }
   ],
   "source": [
    "pd.crosstab(data.Duration, data.Risk).plot(kind='bar')\n",
    "plt.show()"
   ]
  },
  {
   "cell_type": "code",
   "execution_count": 23,
   "metadata": {
    "scrolled": true
   },
   "outputs": [
    {
     "data": {
      "image/png": "[encoded data removed]",
      "text/plain": [
       "<Figure size 432x288 with 1 Axes>"
      ]
     },
     "metadata": {},
     "output_type": "display_data"
    }
   ],
   "source": [
    "pd.crosstab(data.Purpose, data.Risk).plot(kind='bar')\n",
    "plt.show()"
   ]
  },
  {
   "cell_type": "markdown",
   "metadata": {},
   "source": [
    "from the above graph, it seems that max no of loan is taken for Car purchasing."
   ]
  },
  {
   "cell_type": "code",
   "execution_count": 24,
   "metadata": {},
   "outputs": [
    {
     "data": {
      "image/png": "[encoded data removed]",
      "text/plain": [
       "<Figure size 432x288 with 1 Axes>"
      ]
     },
     "metadata": {},
     "output_type": "display_data"
    }
   ],
   "source": [
    "pd.crosstab(data.Sex,data.Risk).plot(kind='bar')\n",
    "plt.show()"
   ]
  },
  {
   "cell_type": "markdown",
   "metadata": {},
   "source": [
    "from the above graph, it seems default ratio is more in female category compared to male."
   ]
  },
  {
   "cell_type": "code",
   "execution_count": null,
   "metadata": {},
   "outputs": [],
   "source": []
  },
  {
   "cell_type": "markdown",
   "metadata": {},
   "source": [
    "After above analysis, we found some relationship like Job category 2, Saving accounts and checking asccount group \"little\" has something to do. \n",
    "To make picture more clear let's do some more analysis."
   ]
  },
  {
   "cell_type": "code",
   "execution_count": 35,
   "metadata": {},
   "outputs": [
    {
     "data": {
      "text/html": [
       "<div>\n",
       "<style scoped>\n",
       "    .dataframe tbody tr th:only-of-type {\n",
       "        vertical-align: middle;\n",
       "    }\n",
       "\n",
       "    .dataframe tbody tr th {\n",
       "        vertical-align: top;\n",
       "    }\n",
       "\n",
       "    .dataframe thead th {\n",
       "        text-align: right;\n",
       "    }\n",
       "</style>\n",
       "<table border=\"1\" class=\"dataframe\">\n",
       "  <thead>\n",
       "    <tr style=\"text-align: right;\">\n",
       "      <th></th>\n",
       "      <th>Risk</th>\n",
       "      <th>bad</th>\n",
       "      <th>good</th>\n",
       "    </tr>\n",
       "    <tr>\n",
       "      <th>Sex</th>\n",
       "      <th>Age_group</th>\n",
       "      <th></th>\n",
       "      <th></th>\n",
       "    </tr>\n",
       "  </thead>\n",
       "  <tbody>\n",
       "    <tr>\n",
       "      <th rowspan=\"4\" valign=\"top\">female</th>\n",
       "      <th>(42.0, 75.0]</th>\n",
       "      <td>58</td>\n",
       "      <td>81</td>\n",
       "    </tr>\n",
       "    <tr>\n",
       "      <th>(18.999, 27.0]</th>\n",
       "      <td>27</td>\n",
       "      <td>39</td>\n",
       "    </tr>\n",
       "    <tr>\n",
       "      <th>(33.0, 42.0]</th>\n",
       "      <td>13</td>\n",
       "      <td>36</td>\n",
       "    </tr>\n",
       "    <tr>\n",
       "      <th>(27.0, 33.0]</th>\n",
       "      <td>11</td>\n",
       "      <td>45</td>\n",
       "    </tr>\n",
       "    <tr>\n",
       "      <th rowspan=\"4\" valign=\"top\">male</th>\n",
       "      <th>(42.0, 75.0]</th>\n",
       "      <td>49</td>\n",
       "      <td>103</td>\n",
       "    </tr>\n",
       "    <tr>\n",
       "      <th>(18.999, 27.0]</th>\n",
       "      <td>47</td>\n",
       "      <td>112</td>\n",
       "    </tr>\n",
       "    <tr>\n",
       "      <th>(33.0, 42.0]</th>\n",
       "      <td>46</td>\n",
       "      <td>154</td>\n",
       "    </tr>\n",
       "    <tr>\n",
       "      <th>(27.0, 33.0]</th>\n",
       "      <td>49</td>\n",
       "      <td>130</td>\n",
       "    </tr>\n",
       "  </tbody>\n",
       "</table>\n",
       "</div>"
      ],
      "text/plain": [
       "Risk                   bad  good\n",
       "Sex    Age_group                \n",
       "female (42.0, 75.0]     58    81\n",
       "       (18.999, 27.0]   27    39\n",
       "       (33.0, 42.0]     13    36\n",
       "       (27.0, 33.0]     11    45\n",
       "male   (42.0, 75.0]     49   103\n",
       "       (18.999, 27.0]   47   112\n",
       "       (33.0, 42.0]     46   154\n",
       "       (27.0, 33.0]     49   130"
      ]
     },
     "execution_count": 35,
     "metadata": {},
     "output_type": "execute_result"
    }
   ],
   "source": [
    "piv_table = pd.pivot_table(data, index = ['Sex', 'Age_group'], columns= 'Risk', values = 'Saving accounts' , aggfunc= len,\n",
    "                           fill_value=0)\n",
    "piv_table"
   ]
  },
  {
   "cell_type": "markdown",
   "metadata": {},
   "source": [
    "its clear that female has more defaulter ratio then the male.    \n",
    "bad/good for female = 0.54,    \n",
    "bad/good for male = 0.38."
   ]
  },
  {
   "cell_type": "code",
   "execution_count": 4,
   "metadata": {},
   "outputs": [],
   "source": [
    "map_value = {'good':1, 'bad':0}"
   ]
  },
  {
   "cell_type": "code",
   "execution_count": 53,
   "metadata": {},
   "outputs": [
    {
     "data": {
      "text/html": [
       "<div>\n",
       "<style scoped>\n",
       "    .dataframe tbody tr th:only-of-type {\n",
       "        vertical-align: middle;\n",
       "    }\n",
       "\n",
       "    .dataframe tbody tr th {\n",
       "        vertical-align: top;\n",
       "    }\n",
       "\n",
       "    .dataframe thead th {\n",
       "        text-align: right;\n",
       "    }\n",
       "</style>\n",
       "<table border=\"1\" class=\"dataframe\">\n",
       "  <thead>\n",
       "    <tr style=\"text-align: right;\">\n",
       "      <th>Checking account</th>\n",
       "      <th>little</th>\n",
       "      <th>moderate</th>\n",
       "      <th>rich</th>\n",
       "    </tr>\n",
       "    <tr>\n",
       "      <th>Job</th>\n",
       "      <th></th>\n",
       "      <th></th>\n",
       "      <th></th>\n",
       "    </tr>\n",
       "  </thead>\n",
       "  <tbody>\n",
       "    <tr>\n",
       "      <th>0</th>\n",
       "      <td>6</td>\n",
       "      <td>9</td>\n",
       "      <td>4</td>\n",
       "    </tr>\n",
       "    <tr>\n",
       "      <th>1</th>\n",
       "      <td>59</td>\n",
       "      <td>57</td>\n",
       "      <td>14</td>\n",
       "    </tr>\n",
       "    <tr>\n",
       "      <th>2</th>\n",
       "      <td>172</td>\n",
       "      <td>155</td>\n",
       "      <td>37</td>\n",
       "    </tr>\n",
       "    <tr>\n",
       "      <th>3</th>\n",
       "      <td>37</td>\n",
       "      <td>48</td>\n",
       "      <td>8</td>\n",
       "    </tr>\n",
       "  </tbody>\n",
       "</table>\n",
       "</div>"
      ],
      "text/plain": [
       "Checking account  little  moderate  rich\n",
       "Job                                     \n",
       "0                      6         9     4\n",
       "1                     59        57    14\n",
       "2                    172       155    37\n",
       "3                     37        48     8"
      ]
     },
     "execution_count": 53,
     "metadata": {},
     "output_type": "execute_result"
    }
   ],
   "source": [
    "pd.crosstab(data.Job,data['Checking account'], values = data.Risk.map(map_value), aggfunc=len)"
   ]
  },
  {
   "cell_type": "markdown",
   "metadata": {},
   "source": [
    "out of three categories \"little\", \"moderate\" & \"rich\", Job category 2 seems to have maxium no of loan takers."
   ]
  },
  {
   "cell_type": "code",
   "execution_count": 43,
   "metadata": {},
   "outputs": [
    {
     "name": "stdout",
     "output_type": "stream",
     "text": [
      "Defaulter of Job Category 0/Checking account-little : 4\n",
      "Defaulter of Job Category 0/Checking account-moderate : 2\n",
      "Defaulter of Job Category 0/Checking account-rich : 1\n"
     ]
    }
   ],
   "source": [
    "print('Defaulter of Job Category 0/Checking account-little :',len(data[(data['Job']==0) & (data['Risk']=='bad') & \n",
    "                                                                       (data['Checking account']=='little')]))\n",
    "print('Defaulter of Job Category 0/Checking account-moderate :',len(data[(data['Job']==0) & (data['Risk']=='bad') & \n",
    "                                                                       (data['Checking account']=='moderate')]))\n",
    "print('Defaulter of Job Category 0/Checking account-rich :',len(data[(data['Job']==0) & (data['Risk']=='bad') & \n",
    "                                                                       (data['Checking account']=='rich')]))"
   ]
  },
  {
   "cell_type": "code",
   "execution_count": 44,
   "metadata": {},
   "outputs": [
    {
     "name": "stdout",
     "output_type": "stream",
     "text": [
      "Defaulter of Job Category 1/Checking account-little : 23\n",
      "Defaulter of Job Category 1/Checking account-moderate : 19\n",
      "Defaulter of Job Category 1/Checking account-rich : 5\n"
     ]
    }
   ],
   "source": [
    "print('Defaulter of Job Category 1/Checking account-little :',len(data[(data['Job']==1) & (data['Risk']=='bad') & \n",
    "                                                                       (data['Checking account']=='little')]))\n",
    "print('Defaulter of Job Category 1/Checking account-moderate :',len(data[(data['Job']==1) & (data['Risk']=='bad') & \n",
    "                                                                       (data['Checking account']=='moderate')]))\n",
    "print('Defaulter of Job Category 1/Checking account-rich :',len(data[(data['Job']==1) & (data['Risk']=='bad') & \n",
    "                                                                       (data['Checking account']=='rich')]))"
   ]
  },
  {
   "cell_type": "code",
   "execution_count": 45,
   "metadata": {},
   "outputs": [
    {
     "name": "stdout",
     "output_type": "stream",
     "text": [
      "Defaulter of Job Category 2/Checking account-little : 96\n",
      "Defaulter of Job Category 2/Checking account-moderate : 57\n",
      "Defaulter of Job Category 2/Checking account-rich : 6\n"
     ]
    }
   ],
   "source": [
    "print('Defaulter of Job Category 2/Checking account-little :',len(data[(data['Job']==2) & (data['Risk']=='bad') & \n",
    "                                                                       (data['Checking account']=='little')]))\n",
    "print('Defaulter of Job Category 2/Checking account-moderate :',len(data[(data['Job']==2) & (data['Risk']=='bad') & \n",
    "                                                                       (data['Checking account']=='moderate')]))\n",
    "print('Defaulter of Job Category 2/Checking account-rich :',len(data[(data['Job']==2) & (data['Risk']=='bad') & \n",
    "                                                                       (data['Checking account']=='rich')]))"
   ]
  },
  {
   "cell_type": "code",
   "execution_count": 46,
   "metadata": {},
   "outputs": [
    {
     "name": "stdout",
     "output_type": "stream",
     "text": [
      "Defaulter of Job Category 3/Checking account-little : 12\n",
      "Defaulter of Job Category 3/Checking account-moderate : 27\n",
      "Defaulter of Job Category 3/Checking account-rich : 2\n"
     ]
    }
   ],
   "source": [
    "print('Defaulter of Job Category 3/Checking account-little :',len(data[(data['Job']==3) & (data['Risk']=='bad') & \n",
    "                                                                       (data['Checking account']=='little')]))\n",
    "print('Defaulter of Job Category 3/Checking account-moderate :',len(data[(data['Job']==3) & (data['Risk']=='bad') & \n",
    "                                                                       (data['Checking account']=='moderate')]))\n",
    "print('Defaulter of Job Category 3/Checking account-rich :',len(data[(data['Job']==3) & (data['Risk']=='bad') & \n",
    "                                                                       (data['Checking account']=='rich')]))"
   ]
  },
  {
   "cell_type": "code",
   "execution_count": 54,
   "metadata": {
    "scrolled": true
   },
   "outputs": [
    {
     "data": {
      "text/html": [
       "<div>\n",
       "<style scoped>\n",
       "    .dataframe tbody tr th:only-of-type {\n",
       "        vertical-align: middle;\n",
       "    }\n",
       "\n",
       "    .dataframe tbody tr th {\n",
       "        vertical-align: top;\n",
       "    }\n",
       "\n",
       "    .dataframe thead th {\n",
       "        text-align: right;\n",
       "    }\n",
       "</style>\n",
       "<table border=\"1\" class=\"dataframe\">\n",
       "  <thead>\n",
       "    <tr style=\"text-align: right;\">\n",
       "      <th>Checking account</th>\n",
       "      <th>little</th>\n",
       "      <th>moderate</th>\n",
       "      <th>rich</th>\n",
       "    </tr>\n",
       "    <tr>\n",
       "      <th>Risk</th>\n",
       "      <th></th>\n",
       "      <th></th>\n",
       "      <th></th>\n",
       "    </tr>\n",
       "  </thead>\n",
       "  <tbody>\n",
       "    <tr>\n",
       "      <th>bad</th>\n",
       "      <td>135</td>\n",
       "      <td>105</td>\n",
       "      <td>14</td>\n",
       "    </tr>\n",
       "    <tr>\n",
       "      <th>good</th>\n",
       "      <td>139</td>\n",
       "      <td>164</td>\n",
       "      <td>49</td>\n",
       "    </tr>\n",
       "  </tbody>\n",
       "</table>\n",
       "</div>"
      ],
      "text/plain": [
       "Checking account  little  moderate  rich\n",
       "Risk                                    \n",
       "bad                  135       105    14\n",
       "good                 139       164    49"
      ]
     },
     "execution_count": 54,
     "metadata": {},
     "output_type": "execute_result"
    }
   ],
   "source": [
    "pd.crosstab(data.Risk,data['Checking account'], values = data.Job, aggfunc=len)"
   ]
  },
  {
   "cell_type": "markdown",
   "metadata": {},
   "source": [
    "out of three categories \"little\", \"moderate\" & \"rich\", \"little\" has maximum default ratio of 0.97 then \"moderate\" with 0.64 and\n",
    "\"rich\" with minimum value of 0.28"
   ]
  },
  {
   "cell_type": "code",
   "execution_count": 55,
   "metadata": {
    "scrolled": true
   },
   "outputs": [
    {
     "data": {
      "text/html": [
       "<div>\n",
       "<style scoped>\n",
       "    .dataframe tbody tr th:only-of-type {\n",
       "        vertical-align: middle;\n",
       "    }\n",
       "\n",
       "    .dataframe tbody tr th {\n",
       "        vertical-align: top;\n",
       "    }\n",
       "\n",
       "    .dataframe thead th {\n",
       "        text-align: right;\n",
       "    }\n",
       "</style>\n",
       "<table border=\"1\" class=\"dataframe\">\n",
       "  <thead>\n",
       "    <tr style=\"text-align: right;\">\n",
       "      <th>Job</th>\n",
       "      <th>0</th>\n",
       "      <th>1</th>\n",
       "      <th>2</th>\n",
       "      <th>3</th>\n",
       "    </tr>\n",
       "    <tr>\n",
       "      <th>Risk</th>\n",
       "      <th></th>\n",
       "      <th></th>\n",
       "      <th></th>\n",
       "      <th></th>\n",
       "    </tr>\n",
       "  </thead>\n",
       "  <tbody>\n",
       "    <tr>\n",
       "      <th>bad</th>\n",
       "      <td>7</td>\n",
       "      <td>56</td>\n",
       "      <td>186</td>\n",
       "      <td>51</td>\n",
       "    </tr>\n",
       "    <tr>\n",
       "      <th>good</th>\n",
       "      <td>15</td>\n",
       "      <td>144</td>\n",
       "      <td>444</td>\n",
       "      <td>97</td>\n",
       "    </tr>\n",
       "  </tbody>\n",
       "</table>\n",
       "</div>"
      ],
      "text/plain": [
       "Job    0    1    2   3\n",
       "Risk                  \n",
       "bad    7   56  186  51\n",
       "good  15  144  444  97"
      ]
     },
     "execution_count": 55,
     "metadata": {},
     "output_type": "execute_result"
    }
   ],
   "source": [
    "pd.crosstab(data.Risk,data.Job, values = data['Checking account'], aggfunc=len)"
   ]
  },
  {
   "cell_type": "code",
   "execution_count": null,
   "metadata": {},
   "outputs": [],
   "source": []
  },
  {
   "cell_type": "code",
   "execution_count": 57,
   "metadata": {},
   "outputs": [
    {
     "data": {
      "text/html": [
       "<div>\n",
       "<style scoped>\n",
       "    .dataframe tbody tr th:only-of-type {\n",
       "        vertical-align: middle;\n",
       "    }\n",
       "\n",
       "    .dataframe tbody tr th {\n",
       "        vertical-align: top;\n",
       "    }\n",
       "\n",
       "    .dataframe thead th {\n",
       "        text-align: right;\n",
       "    }\n",
       "</style>\n",
       "<table border=\"1\" class=\"dataframe\">\n",
       "  <thead>\n",
       "    <tr style=\"text-align: right;\">\n",
       "      <th>Saving accounts</th>\n",
       "      <th>little</th>\n",
       "      <th>moderate</th>\n",
       "      <th>quite rich</th>\n",
       "      <th>rich</th>\n",
       "    </tr>\n",
       "    <tr>\n",
       "      <th>Job</th>\n",
       "      <th></th>\n",
       "      <th></th>\n",
       "      <th></th>\n",
       "      <th></th>\n",
       "    </tr>\n",
       "  </thead>\n",
       "  <tbody>\n",
       "    <tr>\n",
       "      <th>0</th>\n",
       "      <td>13.0</td>\n",
       "      <td>NaN</td>\n",
       "      <td>3.0</td>\n",
       "      <td>1.0</td>\n",
       "    </tr>\n",
       "    <tr>\n",
       "      <th>1</th>\n",
       "      <td>128.0</td>\n",
       "      <td>23.0</td>\n",
       "      <td>12.0</td>\n",
       "      <td>8.0</td>\n",
       "    </tr>\n",
       "    <tr>\n",
       "      <th>2</th>\n",
       "      <td>366.0</td>\n",
       "      <td>66.0</td>\n",
       "      <td>42.0</td>\n",
       "      <td>36.0</td>\n",
       "    </tr>\n",
       "    <tr>\n",
       "      <th>3</th>\n",
       "      <td>96.0</td>\n",
       "      <td>14.0</td>\n",
       "      <td>6.0</td>\n",
       "      <td>3.0</td>\n",
       "    </tr>\n",
       "  </tbody>\n",
       "</table>\n",
       "</div>"
      ],
      "text/plain": [
       "Saving accounts  little  moderate  quite rich  rich\n",
       "Job                                                \n",
       "0                  13.0       NaN         3.0   1.0\n",
       "1                 128.0      23.0        12.0   8.0\n",
       "2                 366.0      66.0        42.0  36.0\n",
       "3                  96.0      14.0         6.0   3.0"
      ]
     },
     "execution_count": 57,
     "metadata": {},
     "output_type": "execute_result"
    }
   ],
   "source": [
    "pd.crosstab(data.Job,data['Saving accounts'], values = data.Risk.map(map_value), aggfunc=len)"
   ]
  },
  {
   "cell_type": "code",
   "execution_count": 47,
   "metadata": {},
   "outputs": [
    {
     "name": "stdout",
     "output_type": "stream",
     "text": [
      "Defaulter of Job Category 0/Saving accounts-little : 6\n",
      "Defaulter of Job Category 0/Sacing accounts-moderate : 0\n",
      "Defaulter of Job Category 0/Sacing accounts-quite rich : 0\n",
      "Defaulter of Job Category 0/Saving accounts-rich : 0\n"
     ]
    }
   ],
   "source": [
    "print('Defaulter of Job Category 0/Saving accounts-little :',len(data[(data['Job']==0) & (data['Risk']=='bad') & \n",
    "                                                                       (data['Saving accounts']=='little')]))\n",
    "print('Defaulter of Job Category 0/Sacing accounts-moderate :',len(data[(data['Job']==0) & (data['Risk']=='bad') & \n",
    "                                                                       (data['Saving accounts']=='moderate')]))\n",
    "print('Defaulter of Job Category 0/Sacing accounts-quite rich :',len(data[(data['Job']==0) & (data['Risk']=='bad') & \n",
    "                                                                       (data['Saving accounts']=='quite rich')]))\n",
    "print('Defaulter of Job Category 0/Saving accounts-rich :',len(data[(data['Job']==0) & (data['Risk']=='bad') & \n",
    "                                                                       (data['Saving accounts']=='rich')]))"
   ]
  },
  {
   "cell_type": "code",
   "execution_count": 48,
   "metadata": {},
   "outputs": [
    {
     "name": "stdout",
     "output_type": "stream",
     "text": [
      "Defaulter of Job Category 0/Saving accounts-little : 39\n",
      "Defaulter of Job Category 0/Sacing accounts-moderate : 9\n",
      "Defaulter of Job Category 0/Sacing accounts-quite rich : 4\n",
      "Defaulter of Job Category 0/Saving accounts-rich : 0\n"
     ]
    }
   ],
   "source": [
    "print('Defaulter of Job Category 0/Saving accounts-little :',len(data[(data['Job']==1) & (data['Risk']=='bad') & \n",
    "                                                                       (data['Saving accounts']=='little')]))\n",
    "print('Defaulter of Job Category 0/Sacing accounts-moderate :',len(data[(data['Job']==1) & (data['Risk']=='bad') & \n",
    "                                                                       (data['Saving accounts']=='moderate')]))\n",
    "print('Defaulter of Job Category 0/Sacing accounts-quite rich :',len(data[(data['Job']==1) & (data['Risk']=='bad') & \n",
    "                                                                       (data['Saving accounts']=='quite rich')]))\n",
    "print('Defaulter of Job Category 0/Saving accounts-rich :',len(data[(data['Job']==1) & (data['Risk']=='bad') & \n",
    "                                                                       (data['Saving accounts']=='rich')]))"
   ]
  },
  {
   "cell_type": "code",
   "execution_count": 49,
   "metadata": {},
   "outputs": [
    {
     "name": "stdout",
     "output_type": "stream",
     "text": [
      "Defaulter of Job Category 0/Saving accounts-little : 135\n",
      "Defaulter of Job Category 0/Sacing accounts-moderate : 18\n",
      "Defaulter of Job Category 0/Sacing accounts-quite rich : 7\n",
      "Defaulter of Job Category 0/Saving accounts-rich : 5\n"
     ]
    }
   ],
   "source": [
    "print('Defaulter of Job Category 0/Saving accounts-little :',len(data[(data['Job']==2) & (data['Risk']=='bad') & \n",
    "                                                                       (data['Saving accounts']=='little')]))\n",
    "print('Defaulter of Job Category 0/Sacing accounts-moderate :',len(data[(data['Job']==2) & (data['Risk']=='bad') & \n",
    "                                                                       (data['Saving accounts']=='moderate')]))\n",
    "print('Defaulter of Job Category 0/Sacing accounts-quite rich :',len(data[(data['Job']==2) & (data['Risk']=='bad') & \n",
    "                                                                       (data['Saving accounts']=='quite rich')]))\n",
    "print('Defaulter of Job Category 0/Saving accounts-rich :',len(data[(data['Job']==2) & (data['Risk']=='bad') & \n",
    "                                                                       (data['Saving accounts']=='rich')]))"
   ]
  },
  {
   "cell_type": "code",
   "execution_count": 50,
   "metadata": {},
   "outputs": [
    {
     "name": "stdout",
     "output_type": "stream",
     "text": [
      "Defaulter of Job Category 3/Saving accounts-little : 37\n",
      "Defaulter of Job Category 3/Sacing accounts-moderate : 7\n",
      "Defaulter of Job Category 3/Sacing accounts-quite rich : 0\n",
      "Defaulter of Job Category 3/Saving accounts-rich : 1\n"
     ]
    }
   ],
   "source": [
    "print('Defaulter of Job Category 3/Saving accounts-little :',len(data[(data['Job']==3) & (data['Risk']=='bad') & \n",
    "                                                                       (data['Saving accounts']=='little')]))\n",
    "print('Defaulter of Job Category 3/Sacing accounts-moderate :',len(data[(data['Job']==3) & (data['Risk']=='bad') & \n",
    "                                                                       (data['Saving accounts']=='moderate')]))\n",
    "print('Defaulter of Job Category 3/Sacing accounts-quite rich :',len(data[(data['Job']==3) & (data['Risk']=='bad') & \n",
    "                                                                       (data['Saving accounts']=='quite rich')]))\n",
    "print('Defaulter of Job Category 3/Saving accounts-rich :',len(data[(data['Job']==3) & (data['Risk']=='bad') & \n",
    "                                                                       (data['Saving accounts']=='rich')]))"
   ]
  },
  {
   "cell_type": "code",
   "execution_count": 58,
   "metadata": {},
   "outputs": [
    {
     "data": {
      "text/html": [
       "<div>\n",
       "<style scoped>\n",
       "    .dataframe tbody tr th:only-of-type {\n",
       "        vertical-align: middle;\n",
       "    }\n",
       "\n",
       "    .dataframe tbody tr th {\n",
       "        vertical-align: top;\n",
       "    }\n",
       "\n",
       "    .dataframe thead th {\n",
       "        text-align: right;\n",
       "    }\n",
       "</style>\n",
       "<table border=\"1\" class=\"dataframe\">\n",
       "  <thead>\n",
       "    <tr style=\"text-align: right;\">\n",
       "      <th>Saving accounts</th>\n",
       "      <th>little</th>\n",
       "      <th>moderate</th>\n",
       "      <th>quite rich</th>\n",
       "      <th>rich</th>\n",
       "    </tr>\n",
       "    <tr>\n",
       "      <th>Risk</th>\n",
       "      <th></th>\n",
       "      <th></th>\n",
       "      <th></th>\n",
       "      <th></th>\n",
       "    </tr>\n",
       "  </thead>\n",
       "  <tbody>\n",
       "    <tr>\n",
       "      <th>bad</th>\n",
       "      <td>217</td>\n",
       "      <td>34</td>\n",
       "      <td>11</td>\n",
       "      <td>6</td>\n",
       "    </tr>\n",
       "    <tr>\n",
       "      <th>good</th>\n",
       "      <td>386</td>\n",
       "      <td>69</td>\n",
       "      <td>52</td>\n",
       "      <td>42</td>\n",
       "    </tr>\n",
       "  </tbody>\n",
       "</table>\n",
       "</div>"
      ],
      "text/plain": [
       "Saving accounts  little  moderate  quite rich  rich\n",
       "Risk                                               \n",
       "bad                 217        34          11     6\n",
       "good                386        69          52    42"
      ]
     },
     "execution_count": 58,
     "metadata": {},
     "output_type": "execute_result"
    }
   ],
   "source": [
    "pd.crosstab(data.Risk,data['Saving accounts'], values = data.Job, aggfunc=len)"
   ]
  },
  {
   "cell_type": "code",
   "execution_count": 59,
   "metadata": {},
   "outputs": [
    {
     "data": {
      "text/html": [
       "<div>\n",
       "<style scoped>\n",
       "    .dataframe tbody tr th:only-of-type {\n",
       "        vertical-align: middle;\n",
       "    }\n",
       "\n",
       "    .dataframe tbody tr th {\n",
       "        vertical-align: top;\n",
       "    }\n",
       "\n",
       "    .dataframe thead th {\n",
       "        text-align: right;\n",
       "    }\n",
       "</style>\n",
       "<table border=\"1\" class=\"dataframe\">\n",
       "  <thead>\n",
       "    <tr style=\"text-align: right;\">\n",
       "      <th>Job</th>\n",
       "      <th>0</th>\n",
       "      <th>1</th>\n",
       "      <th>2</th>\n",
       "      <th>3</th>\n",
       "    </tr>\n",
       "    <tr>\n",
       "      <th>Risk</th>\n",
       "      <th></th>\n",
       "      <th></th>\n",
       "      <th></th>\n",
       "      <th></th>\n",
       "    </tr>\n",
       "  </thead>\n",
       "  <tbody>\n",
       "    <tr>\n",
       "      <th>bad</th>\n",
       "      <td>7</td>\n",
       "      <td>56</td>\n",
       "      <td>186</td>\n",
       "      <td>51</td>\n",
       "    </tr>\n",
       "    <tr>\n",
       "      <th>good</th>\n",
       "      <td>15</td>\n",
       "      <td>144</td>\n",
       "      <td>444</td>\n",
       "      <td>97</td>\n",
       "    </tr>\n",
       "  </tbody>\n",
       "</table>\n",
       "</div>"
      ],
      "text/plain": [
       "Job    0    1    2   3\n",
       "Risk                  \n",
       "bad    7   56  186  51\n",
       "good  15  144  444  97"
      ]
     },
     "execution_count": 59,
     "metadata": {},
     "output_type": "execute_result"
    }
   ],
   "source": [
    "pd.crosstab(data.Risk,data.Job, values = data['Saving accounts'], aggfunc=len)"
   ]
  },
  {
   "cell_type": "code",
   "execution_count": null,
   "metadata": {},
   "outputs": [],
   "source": []
  },
  {
   "cell_type": "code",
   "execution_count": 60,
   "metadata": {},
   "outputs": [
    {
     "data": {
      "text/html": [
       "<div>\n",
       "<style scoped>\n",
       "    .dataframe tbody tr th:only-of-type {\n",
       "        vertical-align: middle;\n",
       "    }\n",
       "\n",
       "    .dataframe tbody tr th {\n",
       "        vertical-align: top;\n",
       "    }\n",
       "\n",
       "    .dataframe thead th {\n",
       "        text-align: right;\n",
       "    }\n",
       "</style>\n",
       "<table border=\"1\" class=\"dataframe\">\n",
       "  <thead>\n",
       "    <tr style=\"text-align: right;\">\n",
       "      <th>Saving accounts</th>\n",
       "      <th>little</th>\n",
       "      <th>moderate</th>\n",
       "      <th>quite rich</th>\n",
       "      <th>rich</th>\n",
       "    </tr>\n",
       "    <tr>\n",
       "      <th>Housing</th>\n",
       "      <th></th>\n",
       "      <th></th>\n",
       "      <th></th>\n",
       "      <th></th>\n",
       "    </tr>\n",
       "  </thead>\n",
       "  <tbody>\n",
       "    <tr>\n",
       "      <th>free</th>\n",
       "      <td>67</td>\n",
       "      <td>10</td>\n",
       "      <td>6</td>\n",
       "      <td>2</td>\n",
       "    </tr>\n",
       "    <tr>\n",
       "      <th>own</th>\n",
       "      <td>430</td>\n",
       "      <td>71</td>\n",
       "      <td>45</td>\n",
       "      <td>37</td>\n",
       "    </tr>\n",
       "    <tr>\n",
       "      <th>rent</th>\n",
       "      <td>106</td>\n",
       "      <td>22</td>\n",
       "      <td>12</td>\n",
       "      <td>9</td>\n",
       "    </tr>\n",
       "  </tbody>\n",
       "</table>\n",
       "</div>"
      ],
      "text/plain": [
       "Saving accounts  little  moderate  quite rich  rich\n",
       "Housing                                            \n",
       "free                 67        10           6     2\n",
       "own                 430        71          45    37\n",
       "rent                106        22          12     9"
      ]
     },
     "execution_count": 60,
     "metadata": {},
     "output_type": "execute_result"
    }
   ],
   "source": [
    "pd.crosstab(data.Housing,data['Saving accounts'], values = data.Risk.map(map_value), aggfunc=len)"
   ]
  },
  {
   "cell_type": "code",
   "execution_count": 51,
   "metadata": {},
   "outputs": [
    {
     "name": "stdout",
     "output_type": "stream",
     "text": [
      "Defaulter of Housing Category- free/Saving accounts-little : 30\n",
      "Defaulter of Housing Category- free/Sacing accounts-moderate : 5\n",
      "Defaulter of Housing Category- free/Sacing accounts-quite rich : 2\n",
      "Defaulter of Housing Category- free/Saving accounts-rich : 2\n"
     ]
    }
   ],
   "source": [
    "print('Defaulter of Housing Category- free/Saving accounts-little :',len(data[(data['Housing']=='free') & (data['Risk']=='bad')\n",
    "                                                                              &( data['Saving accounts']=='little')]))\n",
    "print('Defaulter of Housing Category- free/Sacing accounts-moderate :',len(data[(data['Housing']=='free') & (data['Risk']=='bad') \n",
    "                                                                                & (data['Saving accounts']=='moderate')]))\n",
    "print('Defaulter of Housing Category- free/Sacing accounts-quite rich :',len(data[(data['Housing']=='free') & (data['Risk']=='bad') \n",
    "                                                                                  & (data['Saving accounts']=='quite rich')]))\n",
    "print('Defaulter of Housing Category- free/Saving accounts-rich :',len(data[(data['Housing']=='free') & (data['Risk']=='bad') \n",
    "                                                                            & (data['Saving accounts']=='rich')]))"
   ]
  },
  {
   "cell_type": "code",
   "execution_count": 52,
   "metadata": {},
   "outputs": [
    {
     "name": "stdout",
     "output_type": "stream",
     "text": [
      "Defaulter of Housing Category- own/Saving accounts-little : 136\n",
      "Defaulter of Housing Category- own/Sacing accounts-moderate : 19\n",
      "Defaulter of Housing Category- own/Sacing accounts-quite rich : 7\n",
      "Defaulter of Housing Category- own/Saving accounts-rich : 3\n"
     ]
    }
   ],
   "source": [
    "print('Defaulter of Housing Category- own/Saving accounts-little :',len(data[(data['Housing']=='own') & (data['Risk']=='bad')\n",
    "                                                                              &( data['Saving accounts']=='little')]))\n",
    "print('Defaulter of Housing Category- own/Sacing accounts-moderate :',len(data[(data['Housing']=='own') & (data['Risk']=='bad') \n",
    "                                                                                & (data['Saving accounts']=='moderate')]))\n",
    "print('Defaulter of Housing Category- own/Sacing accounts-quite rich :',len(data[(data['Housing']=='own') & (data['Risk']=='bad') \n",
    "                                                                                  & (data['Saving accounts']=='quite rich')]))\n",
    "print('Defaulter of Housing Category- own/Saving accounts-rich :',len(data[(data['Housing']=='own') & (data['Risk']=='bad') \n",
    "                                                                            & (data['Saving accounts']=='rich')]))"
   ]
  },
  {
   "cell_type": "code",
   "execution_count": 53,
   "metadata": {},
   "outputs": [
    {
     "name": "stdout",
     "output_type": "stream",
     "text": [
      "Defaulter of Housing Category- rent/Saving accounts-little : 51\n",
      "Defaulter of Housing Category- rent/Sacing accounts-moderate : 10\n",
      "Defaulter of Housing Category- rent/Sacing accounts-quite rich : 2\n",
      "Defaulter of Housing Category- rent/Saving accounts-rich : 1\n"
     ]
    }
   ],
   "source": [
    "print('Defaulter of Housing Category- rent/Saving accounts-little :',len(data[(data['Housing']=='rent') & (data['Risk']=='bad')\n",
    "                                                                              &( data['Saving accounts']=='little')]))\n",
    "print('Defaulter of Housing Category- rent/Sacing accounts-moderate :',len(data[(data['Housing']=='rent') & (data['Risk']=='bad') \n",
    "                                                                                & (data['Saving accounts']=='moderate')]))\n",
    "print('Defaulter of Housing Category- rent/Sacing accounts-quite rich :',len(data[(data['Housing']=='rent') & (data['Risk']=='bad') \n",
    "                                                                                  & (data['Saving accounts']=='quite rich')]))\n",
    "print('Defaulter of Housing Category- rent/Saving accounts-rich :',len(data[(data['Housing']=='rent') & (data['Risk']=='bad') \n",
    "                                                                            & (data['Saving accounts']=='rich')]))"
   ]
  },
  {
   "cell_type": "code",
   "execution_count": 61,
   "metadata": {},
   "outputs": [
    {
     "data": {
      "text/html": [
       "<div>\n",
       "<style scoped>\n",
       "    .dataframe tbody tr th:only-of-type {\n",
       "        vertical-align: middle;\n",
       "    }\n",
       "\n",
       "    .dataframe tbody tr th {\n",
       "        vertical-align: top;\n",
       "    }\n",
       "\n",
       "    .dataframe thead th {\n",
       "        text-align: right;\n",
       "    }\n",
       "</style>\n",
       "<table border=\"1\" class=\"dataframe\">\n",
       "  <thead>\n",
       "    <tr style=\"text-align: right;\">\n",
       "      <th>Saving accounts</th>\n",
       "      <th>little</th>\n",
       "      <th>moderate</th>\n",
       "      <th>quite rich</th>\n",
       "      <th>rich</th>\n",
       "    </tr>\n",
       "    <tr>\n",
       "      <th>Risk</th>\n",
       "      <th></th>\n",
       "      <th></th>\n",
       "      <th></th>\n",
       "      <th></th>\n",
       "    </tr>\n",
       "  </thead>\n",
       "  <tbody>\n",
       "    <tr>\n",
       "      <th>bad</th>\n",
       "      <td>217</td>\n",
       "      <td>34</td>\n",
       "      <td>11</td>\n",
       "      <td>6</td>\n",
       "    </tr>\n",
       "    <tr>\n",
       "      <th>good</th>\n",
       "      <td>386</td>\n",
       "      <td>69</td>\n",
       "      <td>52</td>\n",
       "      <td>42</td>\n",
       "    </tr>\n",
       "  </tbody>\n",
       "</table>\n",
       "</div>"
      ],
      "text/plain": [
       "Saving accounts  little  moderate  quite rich  rich\n",
       "Risk                                               \n",
       "bad                 217        34          11     6\n",
       "good                386        69          52    42"
      ]
     },
     "execution_count": 61,
     "metadata": {},
     "output_type": "execute_result"
    }
   ],
   "source": [
    "pd.crosstab(data.Risk,data['Saving accounts'], values = data.Housing, aggfunc=len)"
   ]
  },
  {
   "cell_type": "code",
   "execution_count": 63,
   "metadata": {},
   "outputs": [
    {
     "data": {
      "text/html": [
       "<div>\n",
       "<style scoped>\n",
       "    .dataframe tbody tr th:only-of-type {\n",
       "        vertical-align: middle;\n",
       "    }\n",
       "\n",
       "    .dataframe tbody tr th {\n",
       "        vertical-align: top;\n",
       "    }\n",
       "\n",
       "    .dataframe thead th {\n",
       "        text-align: right;\n",
       "    }\n",
       "</style>\n",
       "<table border=\"1\" class=\"dataframe\">\n",
       "  <thead>\n",
       "    <tr style=\"text-align: right;\">\n",
       "      <th>Housing</th>\n",
       "      <th>free</th>\n",
       "      <th>own</th>\n",
       "      <th>rent</th>\n",
       "    </tr>\n",
       "    <tr>\n",
       "      <th>Risk</th>\n",
       "      <th></th>\n",
       "      <th></th>\n",
       "      <th></th>\n",
       "    </tr>\n",
       "  </thead>\n",
       "  <tbody>\n",
       "    <tr>\n",
       "      <th>bad</th>\n",
       "      <td>44</td>\n",
       "      <td>186</td>\n",
       "      <td>70</td>\n",
       "    </tr>\n",
       "    <tr>\n",
       "      <th>good</th>\n",
       "      <td>64</td>\n",
       "      <td>527</td>\n",
       "      <td>109</td>\n",
       "    </tr>\n",
       "  </tbody>\n",
       "</table>\n",
       "</div>"
      ],
      "text/plain": [
       "Housing  free  own  rent\n",
       "Risk                    \n",
       "bad        44  186    70\n",
       "good       64  527   109"
      ]
     },
     "execution_count": 63,
     "metadata": {},
     "output_type": "execute_result"
    }
   ],
   "source": [
    "pd.crosstab(data.Risk,data.Housing, values = data['Saving accounts'], aggfunc=len)"
   ]
  },
  {
   "cell_type": "code",
   "execution_count": null,
   "metadata": {},
   "outputs": [],
   "source": []
  },
  {
   "cell_type": "code",
   "execution_count": 8,
   "metadata": {},
   "outputs": [
    {
     "data": {
      "text/html": [
       "<div>\n",
       "<style scoped>\n",
       "    .dataframe tbody tr th:only-of-type {\n",
       "        vertical-align: middle;\n",
       "    }\n",
       "\n",
       "    .dataframe tbody tr th {\n",
       "        vertical-align: top;\n",
       "    }\n",
       "\n",
       "    .dataframe thead th {\n",
       "        text-align: right;\n",
       "    }\n",
       "</style>\n",
       "<table border=\"1\" class=\"dataframe\">\n",
       "  <thead>\n",
       "    <tr style=\"text-align: right;\">\n",
       "      <th>Checking account</th>\n",
       "      <th>little</th>\n",
       "      <th>moderate</th>\n",
       "      <th>rich</th>\n",
       "    </tr>\n",
       "    <tr>\n",
       "      <th>Housing</th>\n",
       "      <th></th>\n",
       "      <th></th>\n",
       "      <th></th>\n",
       "    </tr>\n",
       "  </thead>\n",
       "  <tbody>\n",
       "    <tr>\n",
       "      <th>free</th>\n",
       "      <td>39</td>\n",
       "      <td>29</td>\n",
       "      <td>8</td>\n",
       "    </tr>\n",
       "    <tr>\n",
       "      <th>own</th>\n",
       "      <td>170</td>\n",
       "      <td>192</td>\n",
       "      <td>47</td>\n",
       "    </tr>\n",
       "    <tr>\n",
       "      <th>rent</th>\n",
       "      <td>65</td>\n",
       "      <td>48</td>\n",
       "      <td>8</td>\n",
       "    </tr>\n",
       "  </tbody>\n",
       "</table>\n",
       "</div>"
      ],
      "text/plain": [
       "Checking account  little  moderate  rich\n",
       "Housing                                 \n",
       "free                  39        29     8\n",
       "own                  170       192    47\n",
       "rent                  65        48     8"
      ]
     },
     "execution_count": 8,
     "metadata": {},
     "output_type": "execute_result"
    }
   ],
   "source": [
    "pd.crosstab(data.Housing,data['Checking account'], values = data.Risk.map(map_value), aggfunc=len)"
   ]
  },
  {
   "cell_type": "code",
   "execution_count": 54,
   "metadata": {},
   "outputs": [
    {
     "name": "stdout",
     "output_type": "stream",
     "text": [
      "Defaulter of Housing Category- free/Checking accounts-little : 21\n",
      "Defaulter of Housing Category- free/Checking accounts-moderate : 16\n",
      "Defaulter of Housing Category- free/Checking accounts-rich : 3\n"
     ]
    }
   ],
   "source": [
    "print('Defaulter of Housing Category- free/Checking accounts-little :',len(data[(data['Housing']=='free') & (data['Risk']=='bad')\n",
    "                                                                              &( data['Checking account']=='little')]))\n",
    "print('Defaulter of Housing Category- free/Checking accounts-moderate :',len(data[(data['Housing']=='free') & (data['Risk']=='bad') \n",
    "                                                                                & (data['Checking account']=='moderate')]))\n",
    "print('Defaulter of Housing Category- free/Checking accounts-rich :',len(data[(data['Housing']=='free') & (data['Risk']=='bad') \n",
    "                                                                            & (data['Checking account']=='rich')]))"
   ]
  },
  {
   "cell_type": "code",
   "execution_count": 55,
   "metadata": {},
   "outputs": [
    {
     "name": "stdout",
     "output_type": "stream",
     "text": [
      "Defaulter of Housing Category- own/Checking accounts-little : 78\n",
      "Defaulter of Housing Category- own/Checking accounts-moderate : 66\n",
      "Defaulter of Housing Category- own/Checking accounts-rich : 10\n"
     ]
    }
   ],
   "source": [
    "print('Defaulter of Housing Category- own/Checking accounts-little :',len(data[(data['Housing']=='own') & (data['Risk']=='bad')\n",
    "                                                                              &( data['Checking account']=='little')]))\n",
    "print('Defaulter of Housing Category- own/Checking accounts-moderate :',len(data[(data['Housing']=='own') & (data['Risk']=='bad') \n",
    "                                                                                & (data['Checking account']=='moderate')]))\n",
    "print('Defaulter of Housing Category- own/Checking accounts-rich :',len(data[(data['Housing']=='own') & (data['Risk']=='bad') \n",
    "                                                                            & (data['Checking account']=='rich')]))"
   ]
  },
  {
   "cell_type": "code",
   "execution_count": 56,
   "metadata": {},
   "outputs": [
    {
     "name": "stdout",
     "output_type": "stream",
     "text": [
      "Defaulter of Housing Category- rent/Checking accounts-little : 36\n",
      "Defaulter of Housing Category- rent/Checking accounts-moderate : 23\n",
      "Defaulter of Housing Category- rent/Checking accounts-rich : 1\n"
     ]
    }
   ],
   "source": [
    "print('Defaulter of Housing Category- rent/Checking accounts-little :',len(data[(data['Housing']=='rent') & (data['Risk']=='bad')\n",
    "                                                                              &( data['Checking account']=='little')]))\n",
    "print('Defaulter of Housing Category- rent/Checking accounts-moderate :',len(data[(data['Housing']=='rent') & (data['Risk']=='bad') \n",
    "                                                                                & (data['Checking account']=='moderate')]))\n",
    "print('Defaulter of Housing Category- rent/Checking accounts-rich :',len(data[(data['Housing']=='rent') & (data['Risk']=='bad') \n",
    "                                                                            & (data['Checking account']=='rich')]))"
   ]
  },
  {
   "cell_type": "code",
   "execution_count": 9,
   "metadata": {},
   "outputs": [
    {
     "data": {
      "text/html": [
       "<div>\n",
       "<style scoped>\n",
       "    .dataframe tbody tr th:only-of-type {\n",
       "        vertical-align: middle;\n",
       "    }\n",
       "\n",
       "    .dataframe tbody tr th {\n",
       "        vertical-align: top;\n",
       "    }\n",
       "\n",
       "    .dataframe thead th {\n",
       "        text-align: right;\n",
       "    }\n",
       "</style>\n",
       "<table border=\"1\" class=\"dataframe\">\n",
       "  <thead>\n",
       "    <tr style=\"text-align: right;\">\n",
       "      <th>Checking account</th>\n",
       "      <th>little</th>\n",
       "      <th>moderate</th>\n",
       "      <th>rich</th>\n",
       "    </tr>\n",
       "    <tr>\n",
       "      <th>Risk</th>\n",
       "      <th></th>\n",
       "      <th></th>\n",
       "      <th></th>\n",
       "    </tr>\n",
       "  </thead>\n",
       "  <tbody>\n",
       "    <tr>\n",
       "      <th>bad</th>\n",
       "      <td>135</td>\n",
       "      <td>105</td>\n",
       "      <td>14</td>\n",
       "    </tr>\n",
       "    <tr>\n",
       "      <th>good</th>\n",
       "      <td>139</td>\n",
       "      <td>164</td>\n",
       "      <td>49</td>\n",
       "    </tr>\n",
       "  </tbody>\n",
       "</table>\n",
       "</div>"
      ],
      "text/plain": [
       "Checking account  little  moderate  rich\n",
       "Risk                                    \n",
       "bad                  135       105    14\n",
       "good                 139       164    49"
      ]
     },
     "execution_count": 9,
     "metadata": {},
     "output_type": "execute_result"
    }
   ],
   "source": [
    "pd.crosstab(data.Risk,data['Checking account'], values = data.Housing, aggfunc=len)"
   ]
  },
  {
   "cell_type": "code",
   "execution_count": 6,
   "metadata": {},
   "outputs": [
    {
     "data": {
      "text/html": [
       "<div>\n",
       "<style scoped>\n",
       "    .dataframe tbody tr th:only-of-type {\n",
       "        vertical-align: middle;\n",
       "    }\n",
       "\n",
       "    .dataframe tbody tr th {\n",
       "        vertical-align: top;\n",
       "    }\n",
       "\n",
       "    .dataframe thead th {\n",
       "        text-align: right;\n",
       "    }\n",
       "</style>\n",
       "<table border=\"1\" class=\"dataframe\">\n",
       "  <thead>\n",
       "    <tr style=\"text-align: right;\">\n",
       "      <th>Housing</th>\n",
       "      <th>free</th>\n",
       "      <th>own</th>\n",
       "      <th>rent</th>\n",
       "    </tr>\n",
       "    <tr>\n",
       "      <th>Risk</th>\n",
       "      <th></th>\n",
       "      <th></th>\n",
       "      <th></th>\n",
       "    </tr>\n",
       "  </thead>\n",
       "  <tbody>\n",
       "    <tr>\n",
       "      <th>bad</th>\n",
       "      <td>44</td>\n",
       "      <td>186</td>\n",
       "      <td>70</td>\n",
       "    </tr>\n",
       "    <tr>\n",
       "      <th>good</th>\n",
       "      <td>64</td>\n",
       "      <td>527</td>\n",
       "      <td>109</td>\n",
       "    </tr>\n",
       "  </tbody>\n",
       "</table>\n",
       "</div>"
      ],
      "text/plain": [
       "Housing  free  own  rent\n",
       "Risk                    \n",
       "bad        44  186    70\n",
       "good       64  527   109"
      ]
     },
     "execution_count": 6,
     "metadata": {},
     "output_type": "execute_result"
    }
   ],
   "source": [
    "pd.crosstab(data.Risk,data.Housing, values = data['Checking account'], aggfunc=len)"
   ]
  },
  {
   "cell_type": "code",
   "execution_count": null,
   "metadata": {},
   "outputs": [],
   "source": []
  },
  {
   "cell_type": "code",
   "execution_count": 10,
   "metadata": {},
   "outputs": [
    {
     "data": {
      "text/html": [
       "<div>\n",
       "<style scoped>\n",
       "    .dataframe tbody tr th:only-of-type {\n",
       "        vertical-align: middle;\n",
       "    }\n",
       "\n",
       "    .dataframe tbody tr th {\n",
       "        vertical-align: top;\n",
       "    }\n",
       "\n",
       "    .dataframe thead th {\n",
       "        text-align: right;\n",
       "    }\n",
       "</style>\n",
       "<table border=\"1\" class=\"dataframe\">\n",
       "  <thead>\n",
       "    <tr style=\"text-align: right;\">\n",
       "      <th>Checking account</th>\n",
       "      <th>little</th>\n",
       "      <th>moderate</th>\n",
       "      <th>rich</th>\n",
       "    </tr>\n",
       "    <tr>\n",
       "      <th>Sex</th>\n",
       "      <th></th>\n",
       "      <th></th>\n",
       "      <th></th>\n",
       "    </tr>\n",
       "  </thead>\n",
       "  <tbody>\n",
       "    <tr>\n",
       "      <th>female</th>\n",
       "      <td>88</td>\n",
       "      <td>86</td>\n",
       "      <td>20</td>\n",
       "    </tr>\n",
       "    <tr>\n",
       "      <th>male</th>\n",
       "      <td>186</td>\n",
       "      <td>183</td>\n",
       "      <td>43</td>\n",
       "    </tr>\n",
       "  </tbody>\n",
       "</table>\n",
       "</div>"
      ],
      "text/plain": [
       "Checking account  little  moderate  rich\n",
       "Sex                                     \n",
       "female                88        86    20\n",
       "male                 186       183    43"
      ]
     },
     "execution_count": 10,
     "metadata": {},
     "output_type": "execute_result"
    }
   ],
   "source": [
    "pd.crosstab(data.Sex,data['Checking account'], values = data.Risk.map(map_value), aggfunc=len)"
   ]
  },
  {
   "cell_type": "code",
   "execution_count": 57,
   "metadata": {},
   "outputs": [
    {
     "name": "stdout",
     "output_type": "stream",
     "text": [
      "Defaulter of Sex Category female/Checking account-little : 46\n",
      "Defaulter of Sex Category female/Checking account-moderate : 41\n",
      "Defaulter of Sex Category female/Checking account-rich : 4\n"
     ]
    }
   ],
   "source": [
    "print('Defaulter of Sex Category female/Checking account-little :',len(data[(data['Sex']=='female') & (data['Risk']=='bad') & \n",
    "                                                                       (data['Checking account']=='little')]))\n",
    "print('Defaulter of Sex Category female/Checking account-moderate :',len(data[(data['Sex']=='female') & (data['Risk']=='bad') & \n",
    "                                                                       (data['Checking account']=='moderate')]))\n",
    "print('Defaulter of Sex Category female/Checking account-rich :',len(data[(data['Sex']=='female') & (data['Risk']=='bad') & \n",
    "                                                                       (data['Checking account']=='rich')]))"
   ]
  },
  {
   "cell_type": "code",
   "execution_count": 58,
   "metadata": {},
   "outputs": [
    {
     "name": "stdout",
     "output_type": "stream",
     "text": [
      "Defaulter of Sex Category male/Checking account-little : 89\n",
      "Defaulter of Sex Category male/Checking account-moderate : 64\n",
      "Defaulter of Sex Category male/Checking account-rich : 10\n"
     ]
    }
   ],
   "source": [
    "print('Defaulter of Sex Category male/Checking account-little :',len(data[(data['Sex']=='male') & (data['Risk']=='bad') & \n",
    "                                                                       (data['Checking account']=='little')]))\n",
    "print('Defaulter of Sex Category male/Checking account-moderate :',len(data[(data['Sex']=='male') & (data['Risk']=='bad') & \n",
    "                                                                       (data['Checking account']=='moderate')]))\n",
    "print('Defaulter of Sex Category male/Checking account-rich :',len(data[(data['Sex']=='male') & (data['Risk']=='bad') & \n",
    "                                                                       (data['Checking account']=='rich')]))"
   ]
  },
  {
   "cell_type": "code",
   "execution_count": 11,
   "metadata": {},
   "outputs": [
    {
     "data": {
      "text/html": [
       "<div>\n",
       "<style scoped>\n",
       "    .dataframe tbody tr th:only-of-type {\n",
       "        vertical-align: middle;\n",
       "    }\n",
       "\n",
       "    .dataframe tbody tr th {\n",
       "        vertical-align: top;\n",
       "    }\n",
       "\n",
       "    .dataframe thead th {\n",
       "        text-align: right;\n",
       "    }\n",
       "</style>\n",
       "<table border=\"1\" class=\"dataframe\">\n",
       "  <thead>\n",
       "    <tr style=\"text-align: right;\">\n",
       "      <th>Checking account</th>\n",
       "      <th>little</th>\n",
       "      <th>moderate</th>\n",
       "      <th>rich</th>\n",
       "    </tr>\n",
       "    <tr>\n",
       "      <th>Risk</th>\n",
       "      <th></th>\n",
       "      <th></th>\n",
       "      <th></th>\n",
       "    </tr>\n",
       "  </thead>\n",
       "  <tbody>\n",
       "    <tr>\n",
       "      <th>bad</th>\n",
       "      <td>135</td>\n",
       "      <td>105</td>\n",
       "      <td>14</td>\n",
       "    </tr>\n",
       "    <tr>\n",
       "      <th>good</th>\n",
       "      <td>139</td>\n",
       "      <td>164</td>\n",
       "      <td>49</td>\n",
       "    </tr>\n",
       "  </tbody>\n",
       "</table>\n",
       "</div>"
      ],
      "text/plain": [
       "Checking account  little  moderate  rich\n",
       "Risk                                    \n",
       "bad                  135       105    14\n",
       "good                 139       164    49"
      ]
     },
     "execution_count": 11,
     "metadata": {},
     "output_type": "execute_result"
    }
   ],
   "source": [
    "pd.crosstab(data.Risk,data['Checking account'], values = data.Sex, aggfunc=len)"
   ]
  },
  {
   "cell_type": "code",
   "execution_count": 12,
   "metadata": {},
   "outputs": [
    {
     "data": {
      "text/html": [
       "<div>\n",
       "<style scoped>\n",
       "    .dataframe tbody tr th:only-of-type {\n",
       "        vertical-align: middle;\n",
       "    }\n",
       "\n",
       "    .dataframe tbody tr th {\n",
       "        vertical-align: top;\n",
       "    }\n",
       "\n",
       "    .dataframe thead th {\n",
       "        text-align: right;\n",
       "    }\n",
       "</style>\n",
       "<table border=\"1\" class=\"dataframe\">\n",
       "  <thead>\n",
       "    <tr style=\"text-align: right;\">\n",
       "      <th>Sex</th>\n",
       "      <th>female</th>\n",
       "      <th>male</th>\n",
       "    </tr>\n",
       "    <tr>\n",
       "      <th>Risk</th>\n",
       "      <th></th>\n",
       "      <th></th>\n",
       "    </tr>\n",
       "  </thead>\n",
       "  <tbody>\n",
       "    <tr>\n",
       "      <th>bad</th>\n",
       "      <td>109</td>\n",
       "      <td>191</td>\n",
       "    </tr>\n",
       "    <tr>\n",
       "      <th>good</th>\n",
       "      <td>201</td>\n",
       "      <td>499</td>\n",
       "    </tr>\n",
       "  </tbody>\n",
       "</table>\n",
       "</div>"
      ],
      "text/plain": [
       "Sex   female  male\n",
       "Risk              \n",
       "bad      109   191\n",
       "good     201   499"
      ]
     },
     "execution_count": 12,
     "metadata": {},
     "output_type": "execute_result"
    }
   ],
   "source": [
    "pd.crosstab(data.Risk,data.Sex, values = data['Checking account'], aggfunc=len)"
   ]
  },
  {
   "cell_type": "code",
   "execution_count": null,
   "metadata": {},
   "outputs": [],
   "source": []
  },
  {
   "cell_type": "code",
   "execution_count": 13,
   "metadata": {},
   "outputs": [
    {
     "data": {
      "text/html": [
       "<div>\n",
       "<style scoped>\n",
       "    .dataframe tbody tr th:only-of-type {\n",
       "        vertical-align: middle;\n",
       "    }\n",
       "\n",
       "    .dataframe tbody tr th {\n",
       "        vertical-align: top;\n",
       "    }\n",
       "\n",
       "    .dataframe thead th {\n",
       "        text-align: right;\n",
       "    }\n",
       "</style>\n",
       "<table border=\"1\" class=\"dataframe\">\n",
       "  <thead>\n",
       "    <tr style=\"text-align: right;\">\n",
       "      <th>Saving accounts</th>\n",
       "      <th>little</th>\n",
       "      <th>moderate</th>\n",
       "      <th>quite rich</th>\n",
       "      <th>rich</th>\n",
       "    </tr>\n",
       "    <tr>\n",
       "      <th>Sex</th>\n",
       "      <th></th>\n",
       "      <th></th>\n",
       "      <th></th>\n",
       "      <th></th>\n",
       "    </tr>\n",
       "  </thead>\n",
       "  <tbody>\n",
       "    <tr>\n",
       "      <th>female</th>\n",
       "      <td>194</td>\n",
       "      <td>32</td>\n",
       "      <td>16</td>\n",
       "      <td>19</td>\n",
       "    </tr>\n",
       "    <tr>\n",
       "      <th>male</th>\n",
       "      <td>409</td>\n",
       "      <td>71</td>\n",
       "      <td>47</td>\n",
       "      <td>29</td>\n",
       "    </tr>\n",
       "  </tbody>\n",
       "</table>\n",
       "</div>"
      ],
      "text/plain": [
       "Saving accounts  little  moderate  quite rich  rich\n",
       "Sex                                                \n",
       "female              194        32          16    19\n",
       "male                409        71          47    29"
      ]
     },
     "execution_count": 13,
     "metadata": {},
     "output_type": "execute_result"
    }
   ],
   "source": [
    "pd.crosstab(data.Sex,data['Saving accounts'], values = data.Risk.map(map_value), aggfunc=len)"
   ]
  },
  {
   "cell_type": "code",
   "execution_count": 61,
   "metadata": {},
   "outputs": [
    {
     "name": "stdout",
     "output_type": "stream",
     "text": [
      "Defaulter of Sex Category female/Saving account-little : 76\n",
      "Defaulter of Sex Category female/Saving account-moderate : 15\n",
      "Defaulter of Sex Category female/Saving account-q rich : 4\n",
      "Defaulter of Sex Category female/Savking account-rich : 1\n"
     ]
    }
   ],
   "source": [
    "print('Defaulter of Sex Category female/Saving account-little :',len(data[(data['Sex']=='female') & (data['Risk']=='bad') & \n",
    "                                                                       (data['Saving accounts']=='little')]))\n",
    "print('Defaulter of Sex Category female/Saving account-moderate :',len(data[(data['Sex']=='female') & (data['Risk']=='bad') & \n",
    "                                                                       (data['Saving accounts']=='moderate')]))\n",
    "print('Defaulter of Sex Category female/Saving account-q rich :',len(data[(data['Sex']=='female') & (data['Risk']=='bad') & \n",
    "                                                                       (data['Saving accounts']=='quite rich')]))\n",
    "print('Defaulter of Sex Category female/Savking account-rich :',len(data[(data['Sex']=='female') & (data['Risk']=='bad') & \n",
    "                                                                       (data['Saving accounts']=='rich')]))"
   ]
  },
  {
   "cell_type": "code",
   "execution_count": 62,
   "metadata": {},
   "outputs": [
    {
     "name": "stdout",
     "output_type": "stream",
     "text": [
      "Defaulter of Sex Category male/Saving account-little : 141\n",
      "Defaulter of Sex Category male/Saing account-moderate : 19\n",
      "Defaulter of Sex Category male/Saving account-q rich : 7\n",
      "Defaulter of Sex Category male/Saving account-rich : 5\n"
     ]
    }
   ],
   "source": [
    "print('Defaulter of Sex Category male/Saving account-little :',len(data[(data['Sex']=='male') & (data['Risk']=='bad') & \n",
    "                                                                       (data['Saving accounts']=='little')]))\n",
    "print('Defaulter of Sex Category male/Saing account-moderate :',len(data[(data['Sex']=='male') & (data['Risk']=='bad') & \n",
    "                                                                       (data['Saving accounts']=='moderate')]))\n",
    "print('Defaulter of Sex Category male/Saving account-q rich :',len(data[(data['Sex']=='male') & (data['Risk']=='bad') & \n",
    "                                                                       (data['Saving accounts']=='quite rich')]))\n",
    "print('Defaulter of Sex Category male/Saving account-rich :',len(data[(data['Sex']=='male') & (data['Risk']=='bad') & \n",
    "                                                                       (data['Saving accounts']=='rich')]))"
   ]
  },
  {
   "cell_type": "code",
   "execution_count": 14,
   "metadata": {},
   "outputs": [
    {
     "data": {
      "text/html": [
       "<div>\n",
       "<style scoped>\n",
       "    .dataframe tbody tr th:only-of-type {\n",
       "        vertical-align: middle;\n",
       "    }\n",
       "\n",
       "    .dataframe tbody tr th {\n",
       "        vertical-align: top;\n",
       "    }\n",
       "\n",
       "    .dataframe thead th {\n",
       "        text-align: right;\n",
       "    }\n",
       "</style>\n",
       "<table border=\"1\" class=\"dataframe\">\n",
       "  <thead>\n",
       "    <tr style=\"text-align: right;\">\n",
       "      <th>Saving accounts</th>\n",
       "      <th>little</th>\n",
       "      <th>moderate</th>\n",
       "      <th>quite rich</th>\n",
       "      <th>rich</th>\n",
       "    </tr>\n",
       "    <tr>\n",
       "      <th>Risk</th>\n",
       "      <th></th>\n",
       "      <th></th>\n",
       "      <th></th>\n",
       "      <th></th>\n",
       "    </tr>\n",
       "  </thead>\n",
       "  <tbody>\n",
       "    <tr>\n",
       "      <th>bad</th>\n",
       "      <td>217</td>\n",
       "      <td>34</td>\n",
       "      <td>11</td>\n",
       "      <td>6</td>\n",
       "    </tr>\n",
       "    <tr>\n",
       "      <th>good</th>\n",
       "      <td>386</td>\n",
       "      <td>69</td>\n",
       "      <td>52</td>\n",
       "      <td>42</td>\n",
       "    </tr>\n",
       "  </tbody>\n",
       "</table>\n",
       "</div>"
      ],
      "text/plain": [
       "Saving accounts  little  moderate  quite rich  rich\n",
       "Risk                                               \n",
       "bad                 217        34          11     6\n",
       "good                386        69          52    42"
      ]
     },
     "execution_count": 14,
     "metadata": {},
     "output_type": "execute_result"
    }
   ],
   "source": [
    "pd.crosstab(data.Risk,data['Saving accounts'], values = data.Sex, aggfunc=len)"
   ]
  },
  {
   "cell_type": "code",
   "execution_count": 16,
   "metadata": {},
   "outputs": [
    {
     "data": {
      "text/html": [
       "<div>\n",
       "<style scoped>\n",
       "    .dataframe tbody tr th:only-of-type {\n",
       "        vertical-align: middle;\n",
       "    }\n",
       "\n",
       "    .dataframe tbody tr th {\n",
       "        vertical-align: top;\n",
       "    }\n",
       "\n",
       "    .dataframe thead th {\n",
       "        text-align: right;\n",
       "    }\n",
       "</style>\n",
       "<table border=\"1\" class=\"dataframe\">\n",
       "  <thead>\n",
       "    <tr style=\"text-align: right;\">\n",
       "      <th>Sex</th>\n",
       "      <th>female</th>\n",
       "      <th>male</th>\n",
       "    </tr>\n",
       "    <tr>\n",
       "      <th>Risk</th>\n",
       "      <th></th>\n",
       "      <th></th>\n",
       "    </tr>\n",
       "  </thead>\n",
       "  <tbody>\n",
       "    <tr>\n",
       "      <th>bad</th>\n",
       "      <td>109</td>\n",
       "      <td>191</td>\n",
       "    </tr>\n",
       "    <tr>\n",
       "      <th>good</th>\n",
       "      <td>201</td>\n",
       "      <td>499</td>\n",
       "    </tr>\n",
       "  </tbody>\n",
       "</table>\n",
       "</div>"
      ],
      "text/plain": [
       "Sex   female  male\n",
       "Risk              \n",
       "bad      109   191\n",
       "good     201   499"
      ]
     },
     "execution_count": 16,
     "metadata": {},
     "output_type": "execute_result"
    }
   ],
   "source": [
    "pd.crosstab(data.Risk,data.Sex, values = data['Saving accounts'], aggfunc=len)"
   ]
  },
  {
   "cell_type": "code",
   "execution_count": null,
   "metadata": {},
   "outputs": [],
   "source": []
  },
  {
   "cell_type": "code",
   "execution_count": 63,
   "metadata": {},
   "outputs": [
    {
     "data": {
      "text/html": [
       "<div>\n",
       "<style scoped>\n",
       "    .dataframe tbody tr th:only-of-type {\n",
       "        vertical-align: middle;\n",
       "    }\n",
       "\n",
       "    .dataframe tbody tr th {\n",
       "        vertical-align: top;\n",
       "    }\n",
       "\n",
       "    .dataframe thead th {\n",
       "        text-align: right;\n",
       "    }\n",
       "</style>\n",
       "<table border=\"1\" class=\"dataframe\">\n",
       "  <thead>\n",
       "    <tr style=\"text-align: right;\">\n",
       "      <th>Saving accounts</th>\n",
       "      <th>little</th>\n",
       "      <th>moderate</th>\n",
       "      <th>quite rich</th>\n",
       "      <th>rich</th>\n",
       "    </tr>\n",
       "    <tr>\n",
       "      <th>Purpose</th>\n",
       "      <th></th>\n",
       "      <th></th>\n",
       "      <th></th>\n",
       "      <th></th>\n",
       "    </tr>\n",
       "  </thead>\n",
       "  <tbody>\n",
       "    <tr>\n",
       "      <th>business</th>\n",
       "      <td>56.0</td>\n",
       "      <td>17.0</td>\n",
       "      <td>4.0</td>\n",
       "      <td>6.0</td>\n",
       "    </tr>\n",
       "    <tr>\n",
       "      <th>car</th>\n",
       "      <td>188.0</td>\n",
       "      <td>39.0</td>\n",
       "      <td>18.0</td>\n",
       "      <td>18.0</td>\n",
       "    </tr>\n",
       "    <tr>\n",
       "      <th>domestic appliances</th>\n",
       "      <td>6.0</td>\n",
       "      <td>1.0</td>\n",
       "      <td>2.0</td>\n",
       "      <td>NaN</td>\n",
       "    </tr>\n",
       "    <tr>\n",
       "      <th>education</th>\n",
       "      <td>34.0</td>\n",
       "      <td>5.0</td>\n",
       "      <td>3.0</td>\n",
       "      <td>2.0</td>\n",
       "    </tr>\n",
       "    <tr>\n",
       "      <th>furniture/equipment</th>\n",
       "      <td>128.0</td>\n",
       "      <td>9.0</td>\n",
       "      <td>12.0</td>\n",
       "      <td>11.0</td>\n",
       "    </tr>\n",
       "    <tr>\n",
       "      <th>radio/TV</th>\n",
       "      <td>169.0</td>\n",
       "      <td>27.0</td>\n",
       "      <td>23.0</td>\n",
       "      <td>9.0</td>\n",
       "    </tr>\n",
       "    <tr>\n",
       "      <th>repairs</th>\n",
       "      <td>14.0</td>\n",
       "      <td>3.0</td>\n",
       "      <td>1.0</td>\n",
       "      <td>2.0</td>\n",
       "    </tr>\n",
       "    <tr>\n",
       "      <th>vacation/others</th>\n",
       "      <td>8.0</td>\n",
       "      <td>2.0</td>\n",
       "      <td>NaN</td>\n",
       "      <td>NaN</td>\n",
       "    </tr>\n",
       "  </tbody>\n",
       "</table>\n",
       "</div>"
      ],
      "text/plain": [
       "Saving accounts      little  moderate  quite rich  rich\n",
       "Purpose                                                \n",
       "business               56.0      17.0         4.0   6.0\n",
       "car                   188.0      39.0        18.0  18.0\n",
       "domestic appliances     6.0       1.0         2.0   NaN\n",
       "education              34.0       5.0         3.0   2.0\n",
       "furniture/equipment   128.0       9.0        12.0  11.0\n",
       "radio/TV              169.0      27.0        23.0   9.0\n",
       "repairs                14.0       3.0         1.0   2.0\n",
       "vacation/others         8.0       2.0         NaN   NaN"
      ]
     },
     "execution_count": 63,
     "metadata": {},
     "output_type": "execute_result"
    }
   ],
   "source": [
    "pd.crosstab(data.Purpose, data['Saving accounts'],values = data.Risk.map(map_value), aggfunc=len)"
   ]
  },
  {
   "cell_type": "code",
   "execution_count": 66,
   "metadata": {},
   "outputs": [
    {
     "name": "stdout",
     "output_type": "stream",
     "text": [
      "Defaulter of Purpose Category business/Saving account-little : 27\n",
      "Defaulter of Purpose Category business/Saing account-moderate : 3\n",
      "Defaulter of Purpose Category business/Saving account-q rich : 1\n",
      "Defaulter of Purpose Category business/Saving account-rich : 1\n"
     ]
    }
   ],
   "source": [
    "print('Defaulter of Purpose Category business/Saving account-little :',len(data[(data['Purpose']=='business') & (data['Risk']=='bad') & \n",
    "                                                                       (data['Saving accounts']=='little')]))\n",
    "print('Defaulter of Purpose Category business/Saing account-moderate :',len(data[(data['Purpose']=='business') & (data['Risk']=='bad') & \n",
    "                                                                       (data['Saving accounts']=='moderate')]))\n",
    "print('Defaulter of Purpose Category business/Saving account-q rich :',len(data[(data['Purpose']=='business') & (data['Risk']=='bad') & \n",
    "                                                                       (data['Saving accounts']=='quite rich')]))\n",
    "print('Defaulter of Purpose Category business/Saving account-rich :',len(data[(data['Purpose']=='business') & (data['Risk']=='bad') & \n",
    "                                                                       (data['Saving accounts']=='rich')]))"
   ]
  },
  {
   "cell_type": "code",
   "execution_count": 67,
   "metadata": {},
   "outputs": [
    {
     "name": "stdout",
     "output_type": "stream",
     "text": [
      "Defaulter of Purpose Category car/Saving account-little : 73\n",
      "Defaulter of Purpose Category car/Saing account-moderate : 12\n",
      "Defaulter of Purpose Category car/Saving account-q rich : 4\n",
      "Defaulter of Purpose Category car/Saving account-rich : 0\n"
     ]
    }
   ],
   "source": [
    "print('Defaulter of Purpose Category car/Saving account-little :',len(data[(data['Purpose']=='car') & (data['Risk']=='bad') & \n",
    "                                                                       (data['Saving accounts']=='little')]))\n",
    "print('Defaulter of Purpose Category car/Saing account-moderate :',len(data[(data['Purpose']=='car') & (data['Risk']=='bad') & \n",
    "                                                                       (data['Saving accounts']=='moderate')]))\n",
    "print('Defaulter of Purpose Category car/Saving account-q rich :',len(data[(data['Purpose']=='car') & (data['Risk']=='bad') & \n",
    "                                                                       (data['Saving accounts']=='quite rich')]))\n",
    "print('Defaulter of Purpose Category car/Saving account-rich :',len(data[(data['Purpose']=='car') & (data['Risk']=='bad') & \n",
    "                                                                       (data['Saving accounts']=='rich')]))"
   ]
  },
  {
   "cell_type": "code",
   "execution_count": 68,
   "metadata": {},
   "outputs": [
    {
     "name": "stdout",
     "output_type": "stream",
     "text": [
      "Defaulter of Purpose Category d appliances/Saving account-little : 2\n",
      "Defaulter of Purpose Category d appliances/Saing account-moderate : 1\n",
      "Defaulter of Purpose Category d appliances/Saving account-q rich : 0\n",
      "Defaulter of Purpose Category d appliances/Saving account-rich : 0\n"
     ]
    }
   ],
   "source": [
    "print('Defaulter of Purpose Category d appliances/Saving account-little :',len(data[(data['Purpose']=='domestic appliances') & (data['Risk']=='bad') & \n",
    "                                                                       (data['Saving accounts']=='little')]))\n",
    "print('Defaulter of Purpose Category d appliances/Saing account-moderate :',len(data[(data['Purpose']=='domestic appliances') & (data['Risk']=='bad') & \n",
    "                                                                       (data['Saving accounts']=='moderate')]))\n",
    "print('Defaulter of Purpose Category d appliances/Saving account-q rich :',len(data[(data['Purpose']=='domestic appliances') & (data['Risk']=='bad') & \n",
    "                                                                       (data['Saving accounts']=='quite rich')]))\n",
    "print('Defaulter of Purpose Category d appliances/Saving account-rich :',len(data[(data['Purpose']=='domestic appliances') & (data['Risk']=='bad') & \n",
    "                                                                       (data['Saving accounts']=='rich')]))"
   ]
  },
  {
   "cell_type": "code",
   "execution_count": 69,
   "metadata": {},
   "outputs": [
    {
     "name": "stdout",
     "output_type": "stream",
     "text": [
      "Defaulter of Purpose Category education/Saving account-little : 17\n",
      "Defaulter of Purpose Category education/Saing account-moderate : 3\n",
      "Defaulter of Purpose Category education/Saving account-q rich : 0\n",
      "Defaulter of Purpose Category education/Saving account-rich : 2\n"
     ]
    }
   ],
   "source": [
    "print('Defaulter of Purpose Category education/Saving account-little :',len(data[(data['Purpose']=='education') & (data['Risk']=='bad') & \n",
    "                                                                       (data['Saving accounts']=='little')]))\n",
    "print('Defaulter of Purpose Category education/Saing account-moderate :',len(data[(data['Purpose']=='education') & (data['Risk']=='bad') & \n",
    "                                                                       (data['Saving accounts']=='moderate')]))\n",
    "print('Defaulter of Purpose Category education/Saving account-q rich :',len(data[(data['Purpose']=='education') & (data['Risk']=='bad') & \n",
    "                                                                       (data['Saving accounts']=='quite rich')]))\n",
    "print('Defaulter of Purpose Category education/Saving account-rich :',len(data[(data['Purpose']=='education') & (data['Risk']=='bad') & \n",
    "                                                                       (data['Saving accounts']=='rich')]))"
   ]
  },
  {
   "cell_type": "code",
   "execution_count": 70,
   "metadata": {},
   "outputs": [
    {
     "name": "stdout",
     "output_type": "stream",
     "text": [
      "Defaulter of Purpose Category furniture-equipment/Saving account-little : 47\n",
      "Defaulter of Purpose Category furniture-equipment/Saing account-moderate : 4\n",
      "Defaulter of Purpose Category furniture-equipment/Saving account-q rich : 3\n",
      "Defaulter of Purpose Category furniture-equipment/Saving account-rich : 0\n"
     ]
    }
   ],
   "source": [
    "print('Defaulter of Purpose Category furniture-equipment/Saving account-little :',len(data[(data['Purpose']=='furniture/equipment') & (data['Risk']=='bad') & \n",
    "                                                                       (data['Saving accounts']=='little')]))\n",
    "print('Defaulter of Purpose Category furniture-equipment/Saing account-moderate :',len(data[(data['Purpose']=='furniture/equipment') & (data['Risk']=='bad') & \n",
    "                                                                       (data['Saving accounts']=='moderate')]))\n",
    "print('Defaulter of Purpose Category furniture-equipment/Saving account-q rich :',len(data[(data['Purpose']=='furniture/equipment') & (data['Risk']=='bad') & \n",
    "                                                                       (data['Saving accounts']=='quite rich')]))\n",
    "print('Defaulter of Purpose Category furniture-equipment/Saving account-rich :',len(data[(data['Purpose']=='furniture/equipment') & (data['Risk']=='bad') & \n",
    "                                                                       (data['Saving accounts']=='rich')]))"
   ]
  },
  {
   "cell_type": "code",
   "execution_count": 71,
   "metadata": {},
   "outputs": [
    {
     "name": "stdout",
     "output_type": "stream",
     "text": [
      "Defaulter of Purpose Category radio-TV/Saving account-little : 42\n",
      "Defaulter of Purpose Category radio-TV/Saing account-moderate : 10\n",
      "Defaulter of Purpose Category radio-TV/Saving account-q rich : 3\n",
      "Defaulter of Purpose Category radio-TV/Saving account-rich : 1\n"
     ]
    }
   ],
   "source": [
    "print('Defaulter of Purpose Category radio-TV/Saving account-little :',len(data[(data['Purpose']=='radio/TV') & (data['Risk']=='bad') & \n",
    "                                                                       (data['Saving accounts']=='little')]))\n",
    "print('Defaulter of Purpose Category radio-TV/Saing account-moderate :',len(data[(data['Purpose']=='radio/TV') & (data['Risk']=='bad') & \n",
    "                                                                       (data['Saving accounts']=='moderate')]))\n",
    "print('Defaulter of Purpose Category radio-TV/Saving account-q rich :',len(data[(data['Purpose']=='radio/TV') & (data['Risk']=='bad') & \n",
    "                                                                       (data['Saving accounts']=='quite rich')]))\n",
    "print('Defaulter of Purpose Category radio-TV/Saving account-rich :',len(data[(data['Purpose']=='radio/TV') & (data['Risk']=='bad') & \n",
    "                                                                       (data['Saving accounts']=='rich')]))"
   ]
  },
  {
   "cell_type": "code",
   "execution_count": 72,
   "metadata": {},
   "outputs": [
    {
     "name": "stdout",
     "output_type": "stream",
     "text": [
      "Defaulter of Purpose Category repairs/Saving account-little : 6\n",
      "Defaulter of Purpose Category repairs/Saing account-moderate : 0\n",
      "Defaulter of Purpose Category repairs/Saving account-q rich : 0\n",
      "Defaulter of Purpose Category repairs/Saving account-rich : 2\n"
     ]
    }
   ],
   "source": [
    "print('Defaulter of Purpose Category repairs/Saving account-little :',len(data[(data['Purpose']=='repairs') & (data['Risk']=='bad') & \n",
    "                                                                       (data['Saving accounts']=='little')]))\n",
    "print('Defaulter of Purpose Category repairs/Saing account-moderate :',len(data[(data['Purpose']=='repairs') & (data['Risk']=='bad') & \n",
    "                                                                       (data['Saving accounts']=='moderate')]))\n",
    "print('Defaulter of Purpose Category repairs/Saving account-q rich :',len(data[(data['Purpose']=='repairs') & (data['Risk']=='bad') & \n",
    "                                                                       (data['Saving accounts']=='quite rich')]))\n",
    "print('Defaulter of Purpose Category repairs/Saving account-rich :',len(data[(data['Purpose']=='repairs') & (data['Risk']=='bad') & \n",
    "                                                                       (data['Saving accounts']=='rich')]))"
   ]
  },
  {
   "cell_type": "code",
   "execution_count": 73,
   "metadata": {},
   "outputs": [
    {
     "name": "stdout",
     "output_type": "stream",
     "text": [
      "Defaulter of Purpose Category vacation/Saving account-little : 3\n",
      "Defaulter of Purpose Category vacation/Saing account-moderate : 1\n",
      "Defaulter of Purpose Category vacation/Saving account-q rich : 0\n",
      "Defaulter of Purpose Category vacation/Saving account-rich : 0\n"
     ]
    }
   ],
   "source": [
    "print('Defaulter of Purpose Category vacation/Saving account-little :',len(data[(data['Purpose']=='vacation/others') & (data['Risk']=='bad') & \n",
    "                                                                       (data['Saving accounts']=='little')]))\n",
    "print('Defaulter of Purpose Category vacation/Saing account-moderate :',len(data[(data['Purpose']=='vacation/others') & (data['Risk']=='bad') & \n",
    "                                                                       (data['Saving accounts']=='moderate')]))\n",
    "print('Defaulter of Purpose Category vacation/Saving account-q rich :',len(data[(data['Purpose']=='vacation/others') & (data['Risk']=='bad') & \n",
    "                                                                       (data['Saving accounts']=='quite rich')]))\n",
    "print('Defaulter of Purpose Category vacation/Saving account-rich :',len(data[(data['Purpose']=='vacation/others') & (data['Risk']=='bad') & \n",
    "                                                                       (data['Saving accounts']=='rich')]))"
   ]
  },
  {
   "cell_type": "code",
   "execution_count": 64,
   "metadata": {
    "collapsed": true
   },
   "outputs": [
    {
     "data": {
      "text/html": [
       "<div>\n",
       "<style scoped>\n",
       "    .dataframe tbody tr th:only-of-type {\n",
       "        vertical-align: middle;\n",
       "    }\n",
       "\n",
       "    .dataframe tbody tr th {\n",
       "        vertical-align: top;\n",
       "    }\n",
       "\n",
       "    .dataframe thead th {\n",
       "        text-align: right;\n",
       "    }\n",
       "</style>\n",
       "<table border=\"1\" class=\"dataframe\">\n",
       "  <thead>\n",
       "    <tr style=\"text-align: right;\">\n",
       "      <th>Saving accounts</th>\n",
       "      <th>little</th>\n",
       "      <th>moderate</th>\n",
       "      <th>quite rich</th>\n",
       "      <th>rich</th>\n",
       "    </tr>\n",
       "    <tr>\n",
       "      <th>Risk</th>\n",
       "      <th></th>\n",
       "      <th></th>\n",
       "      <th></th>\n",
       "      <th></th>\n",
       "    </tr>\n",
       "  </thead>\n",
       "  <tbody>\n",
       "    <tr>\n",
       "      <th>bad</th>\n",
       "      <td>217</td>\n",
       "      <td>34</td>\n",
       "      <td>11</td>\n",
       "      <td>6</td>\n",
       "    </tr>\n",
       "    <tr>\n",
       "      <th>good</th>\n",
       "      <td>386</td>\n",
       "      <td>69</td>\n",
       "      <td>52</td>\n",
       "      <td>42</td>\n",
       "    </tr>\n",
       "  </tbody>\n",
       "</table>\n",
       "</div>"
      ],
      "text/plain": [
       "Saving accounts  little  moderate  quite rich  rich\n",
       "Risk                                               \n",
       "bad                 217        34          11     6\n",
       "good                386        69          52    42"
      ]
     },
     "execution_count": 64,
     "metadata": {},
     "output_type": "execute_result"
    }
   ],
   "source": [
    "pd.crosstab(data.Risk,data['Saving accounts'], values = data.Purpose, aggfunc=len)"
   ]
  },
  {
   "cell_type": "code",
   "execution_count": 65,
   "metadata": {},
   "outputs": [
    {
     "data": {
      "text/html": [
       "<div>\n",
       "<style scoped>\n",
       "    .dataframe tbody tr th:only-of-type {\n",
       "        vertical-align: middle;\n",
       "    }\n",
       "\n",
       "    .dataframe tbody tr th {\n",
       "        vertical-align: top;\n",
       "    }\n",
       "\n",
       "    .dataframe thead th {\n",
       "        text-align: right;\n",
       "    }\n",
       "</style>\n",
       "<table border=\"1\" class=\"dataframe\">\n",
       "  <thead>\n",
       "    <tr style=\"text-align: right;\">\n",
       "      <th>Purpose</th>\n",
       "      <th>business</th>\n",
       "      <th>car</th>\n",
       "      <th>domestic appliances</th>\n",
       "      <th>education</th>\n",
       "      <th>furniture/equipment</th>\n",
       "      <th>radio/TV</th>\n",
       "      <th>repairs</th>\n",
       "      <th>vacation/others</th>\n",
       "    </tr>\n",
       "    <tr>\n",
       "      <th>Risk</th>\n",
       "      <th></th>\n",
       "      <th></th>\n",
       "      <th></th>\n",
       "      <th></th>\n",
       "      <th></th>\n",
       "      <th></th>\n",
       "      <th></th>\n",
       "      <th></th>\n",
       "    </tr>\n",
       "  </thead>\n",
       "  <tbody>\n",
       "    <tr>\n",
       "      <th>bad</th>\n",
       "      <td>34</td>\n",
       "      <td>106</td>\n",
       "      <td>4</td>\n",
       "      <td>23</td>\n",
       "      <td>58</td>\n",
       "      <td>62</td>\n",
       "      <td>8</td>\n",
       "      <td>5</td>\n",
       "    </tr>\n",
       "    <tr>\n",
       "      <th>good</th>\n",
       "      <td>63</td>\n",
       "      <td>231</td>\n",
       "      <td>8</td>\n",
       "      <td>36</td>\n",
       "      <td>123</td>\n",
       "      <td>218</td>\n",
       "      <td>14</td>\n",
       "      <td>7</td>\n",
       "    </tr>\n",
       "  </tbody>\n",
       "</table>\n",
       "</div>"
      ],
      "text/plain": [
       "Purpose  business  car  domestic appliances  education  furniture/equipment  \\\n",
       "Risk                                                                          \n",
       "bad            34  106                    4         23                   58   \n",
       "good           63  231                    8         36                  123   \n",
       "\n",
       "Purpose  radio/TV  repairs  vacation/others  \n",
       "Risk                                         \n",
       "bad            62        8                5  \n",
       "good          218       14                7  "
      ]
     },
     "execution_count": 65,
     "metadata": {},
     "output_type": "execute_result"
    }
   ],
   "source": [
    "pd.crosstab(data.Risk,data.Purpose, values = data['Saving accounts'], aggfunc=len)"
   ]
  },
  {
   "cell_type": "code",
   "execution_count": null,
   "metadata": {},
   "outputs": [],
   "source": []
  },
  {
   "cell_type": "code",
   "execution_count": 5,
   "metadata": {},
   "outputs": [
    {
     "data": {
      "text/html": [
       "<div>\n",
       "<style scoped>\n",
       "    .dataframe tbody tr th:only-of-type {\n",
       "        vertical-align: middle;\n",
       "    }\n",
       "\n",
       "    .dataframe tbody tr th {\n",
       "        vertical-align: top;\n",
       "    }\n",
       "\n",
       "    .dataframe thead th {\n",
       "        text-align: right;\n",
       "    }\n",
       "</style>\n",
       "<table border=\"1\" class=\"dataframe\">\n",
       "  <thead>\n",
       "    <tr style=\"text-align: right;\">\n",
       "      <th>Checking account</th>\n",
       "      <th>little</th>\n",
       "      <th>moderate</th>\n",
       "      <th>rich</th>\n",
       "    </tr>\n",
       "    <tr>\n",
       "      <th>Purpose</th>\n",
       "      <th></th>\n",
       "      <th></th>\n",
       "      <th></th>\n",
       "    </tr>\n",
       "  </thead>\n",
       "  <tbody>\n",
       "    <tr>\n",
       "      <th>business</th>\n",
       "      <td>15.0</td>\n",
       "      <td>40.0</td>\n",
       "      <td>5.0</td>\n",
       "    </tr>\n",
       "    <tr>\n",
       "      <th>car</th>\n",
       "      <td>104.0</td>\n",
       "      <td>81.0</td>\n",
       "      <td>18.0</td>\n",
       "    </tr>\n",
       "    <tr>\n",
       "      <th>domestic appliances</th>\n",
       "      <td>5.0</td>\n",
       "      <td>2.0</td>\n",
       "      <td>1.0</td>\n",
       "    </tr>\n",
       "    <tr>\n",
       "      <th>education</th>\n",
       "      <td>15.0</td>\n",
       "      <td>16.0</td>\n",
       "      <td>4.0</td>\n",
       "    </tr>\n",
       "    <tr>\n",
       "      <th>furniture/equipment</th>\n",
       "      <td>72.0</td>\n",
       "      <td>39.0</td>\n",
       "      <td>11.0</td>\n",
       "    </tr>\n",
       "    <tr>\n",
       "      <th>radio/TV</th>\n",
       "      <td>54.0</td>\n",
       "      <td>75.0</td>\n",
       "      <td>24.0</td>\n",
       "    </tr>\n",
       "    <tr>\n",
       "      <th>repairs</th>\n",
       "      <td>5.0</td>\n",
       "      <td>9.0</td>\n",
       "      <td>NaN</td>\n",
       "    </tr>\n",
       "    <tr>\n",
       "      <th>vacation/others</th>\n",
       "      <td>4.0</td>\n",
       "      <td>7.0</td>\n",
       "      <td>NaN</td>\n",
       "    </tr>\n",
       "  </tbody>\n",
       "</table>\n",
       "</div>"
      ],
      "text/plain": [
       "Checking account     little  moderate  rich\n",
       "Purpose                                    \n",
       "business               15.0      40.0   5.0\n",
       "car                   104.0      81.0  18.0\n",
       "domestic appliances     5.0       2.0   1.0\n",
       "education              15.0      16.0   4.0\n",
       "furniture/equipment    72.0      39.0  11.0\n",
       "radio/TV               54.0      75.0  24.0\n",
       "repairs                 5.0       9.0   NaN\n",
       "vacation/others         4.0       7.0   NaN"
      ]
     },
     "execution_count": 5,
     "metadata": {},
     "output_type": "execute_result"
    }
   ],
   "source": [
    "pd.crosstab(data.Purpose, data['Checking account'],values = data.Risk.map(map_value), aggfunc=len)"
   ]
  },
  {
   "cell_type": "code",
   "execution_count": 8,
   "metadata": {},
   "outputs": [
    {
     "name": "stdout",
     "output_type": "stream",
     "text": [
      "Defaulter of Purpose Category business/Checking account-little : 8\n",
      "Defaulter of Purpose Category business/Checking account-moderate : 14\n",
      "Defaulter of Purpose Category business/Checking account-rich : 2\n"
     ]
    }
   ],
   "source": [
    "print('Defaulter of Purpose Category business/Checking account-little :',len(data[(data['Purpose']=='business') & (data['Risk']=='bad') & \n",
    "                                                                       (data['Checking account']=='little')]))\n",
    "print('Defaulter of Purpose Category business/Checking account-moderate :',len(data[(data['Purpose']=='business') & (data['Risk']=='bad') & \n",
    "                                                                       (data['Checking account']=='moderate')]))\n",
    "print('Defaulter of Purpose Category business/Checking account-rich :',len(data[(data['Purpose']=='business') & (data['Risk']=='bad') & \n",
    "                                                                       (data['Checking account']=='rich')]))"
   ]
  },
  {
   "cell_type": "code",
   "execution_count": 80,
   "metadata": {},
   "outputs": [
    {
     "name": "stdout",
     "output_type": "stream",
     "text": [
      "Defaulter of Purpose Category car/Checking account-little : 51\n",
      "Defaulter of Purpose Category car/Checking account-moderate : 37\n",
      "Defaulter of Purpose Category car/Checking account-rich : 4\n"
     ]
    }
   ],
   "source": [
    "print('Defaulter of Purpose Category car/Checking account-little :',len(data[(data['Purpose']=='car') & (data['Risk']=='bad') & \n",
    "                                                                       (data['Checking account']=='little')]))\n",
    "print('Defaulter of Purpose Category car/Checking account-moderate :',len(data[(data['Purpose']=='car') & (data['Risk']=='bad') & \n",
    "                                                                       (data['Checking account']=='moderate')]))\n",
    "print('Defaulter of Purpose Category car/Checking account-rich :',len(data[(data['Purpose']=='car') & (data['Risk']=='bad') & \n",
    "                                                                       (data['Checking account']=='rich')]))"
   ]
  },
  {
   "cell_type": "code",
   "execution_count": 81,
   "metadata": {},
   "outputs": [
    {
     "name": "stdout",
     "output_type": "stream",
     "text": [
      "Defaulter of Purpose Category d appliances/Checking account-little : 4\n",
      "Defaulter of Purpose Category d appliances/Checking account-moderate : 0\n",
      "Defaulter of Purpose Category d appliances/Checking account-rich : 0\n"
     ]
    }
   ],
   "source": [
    "print('Defaulter of Purpose Category d appliances/Checking account-little :',len(data[(data['Purpose']=='domestic appliances') & (data['Risk']=='bad') & \n",
    "                                                                       (data['Checking account']=='little')]))\n",
    "print('Defaulter of Purpose Category d appliances/Checking account-moderate :',len(data[(data['Purpose']=='domestic appliances') & (data['Risk']=='bad') & \n",
    "                                                                       (data['Checking account']=='moderate')]))\n",
    "print('Defaulter of Purpose Category d appliances/Checking account-rich :',len(data[(data['Purpose']=='domestic appliances') & (data['Risk']=='bad') & \n",
    "                                                                       (data['Checking account']=='rich')]))"
   ]
  },
  {
   "cell_type": "code",
   "execution_count": 82,
   "metadata": {},
   "outputs": [
    {
     "name": "stdout",
     "output_type": "stream",
     "text": [
      "Defaulter of Purpose Category education/Checking account-little : 11\n",
      "Defaulter of Purpose Category education/Checking account-moderate : 7\n",
      "Defaulter of Purpose Category education/Checking account-rich : 1\n"
     ]
    }
   ],
   "source": [
    "print('Defaulter of Purpose Category education/Checking account-little :',len(data[(data['Purpose']=='education') & (data['Risk']=='bad') & \n",
    "                                                                       (data['Checking account']=='little')]))\n",
    "print('Defaulter of Purpose Category education/Checking account-moderate :',len(data[(data['Purpose']=='education') & (data['Risk']=='bad') & \n",
    "                                                                       (data['Checking account']=='moderate')]))\n",
    "print('Defaulter of Purpose Category education/Checking account-rich :',len(data[(data['Purpose']=='education') & (data['Risk']=='bad') & \n",
    "                                                                       (data['Checking account']=='rich')]))"
   ]
  },
  {
   "cell_type": "code",
   "execution_count": 83,
   "metadata": {},
   "outputs": [
    {
     "name": "stdout",
     "output_type": "stream",
     "text": [
      "Defaulter of Purpose Category furniture-equipment/Checking account-little : 30\n",
      "Defaulter of Purpose Category furniture-equipment/Checking account-moderate : 18\n",
      "Defaulter of Purpose Category furniture-equipment/Checking account-rich : 1\n"
     ]
    }
   ],
   "source": [
    "print('Defaulter of Purpose Category furniture-equipment/Checking account-little :',len(data[(data['Purpose']=='furniture/equipment') & (data['Risk']=='bad') & \n",
    "                                                                       (data['Checking account']=='little')]))\n",
    "print('Defaulter of Purpose Category furniture-equipment/Checking account-moderate :',len(data[(data['Purpose']=='furniture/equipment') & (data['Risk']=='bad') & \n",
    "                                                                       (data['Checking account']=='moderate')]))\n",
    "print('Defaulter of Purpose Category furniture-equipment/Checking account-rich :',len(data[(data['Purpose']=='furniture/equipment') & (data['Risk']=='bad') & \n",
    "                                                                       (data['Checking account']=='rich')]))"
   ]
  },
  {
   "cell_type": "code",
   "execution_count": 84,
   "metadata": {},
   "outputs": [
    {
     "name": "stdout",
     "output_type": "stream",
     "text": [
      "Defaulter of Purpose Category radio-TV/Checking account-little : 27\n",
      "Defaulter of Purpose Category radio-TV/Checking account-moderate : 22\n",
      "Defaulter of Purpose Category radio-TV/Checking account-rich : 6\n"
     ]
    }
   ],
   "source": [
    "print('Defaulter of Purpose Category radio-TV/Checking account-little :',len(data[(data['Purpose']=='radio/TV') & (data['Risk']=='bad') & \n",
    "                                                                       (data['Checking account']=='little')]))\n",
    "print('Defaulter of Purpose Category radio-TV/Checking account-moderate :',len(data[(data['Purpose']=='radio/TV') & (data['Risk']=='bad') & \n",
    "                                                                       (data['Checking account']=='moderate')]))\n",
    "print('Defaulter of Purpose Category radio-TV/Checking account-rich :',len(data[(data['Purpose']=='radio/TV') & (data['Risk']=='bad') & \n",
    "                                                                       (data['Checking account']=='rich')]))"
   ]
  },
  {
   "cell_type": "code",
   "execution_count": 85,
   "metadata": {},
   "outputs": [
    {
     "name": "stdout",
     "output_type": "stream",
     "text": [
      "Defaulter of Purpose Category repairs/Checking account-little : 3\n",
      "Defaulter of Purpose Category repairs/Checking account-moderate : 3\n",
      "Defaulter of Purpose Category repairs/Checking account-rich : 0\n"
     ]
    }
   ],
   "source": [
    "print('Defaulter of Purpose Category repairs/Checking account-little :',len(data[(data['Purpose']=='repairs') & (data['Risk']=='bad') & \n",
    "                                                                       (data['Checking account']=='little')]))\n",
    "print('Defaulter of Purpose Category repairs/Checking account-moderate :',len(data[(data['Purpose']=='repairs') & (data['Risk']=='bad') & \n",
    "                                                                       (data['Checking account']=='moderate')]))\n",
    "print('Defaulter of Purpose Category repairs/Checking account-rich :',len(data[(data['Purpose']=='repairs') & (data['Risk']=='bad') & \n",
    "                                                                       (data['Checking account']=='rich')]))"
   ]
  },
  {
   "cell_type": "code",
   "execution_count": 86,
   "metadata": {},
   "outputs": [
    {
     "name": "stdout",
     "output_type": "stream",
     "text": [
      "Defaulter of Purpose Category vacation/hecking account-little : 1\n",
      "Defaulter of Purpose Category vacation/Checking account-moderate : 4\n",
      "Defaulter of Purpose Category vacation/Checkiing account-rich : 0\n"
     ]
    }
   ],
   "source": [
    "print('Defaulter of Purpose Category vacation/hecking account-little :',len(data[(data['Purpose']=='vacation/others') & (data['Risk']=='bad') & \n",
    "                                                                       (data['Checking account']=='little')]))\n",
    "print('Defaulter of Purpose Category vacation/Checking account-moderate :',len(data[(data['Purpose']=='vacation/others') & (data['Risk']=='bad') & \n",
    "                                                                       (data['Checking account']=='moderate')]))\n",
    "print('Defaulter of Purpose Category vacation/Checkiing account-rich :',len(data[(data['Purpose']=='vacation/others') & (data['Risk']=='bad') & \n",
    "                                                                       (data['Checking account']=='rich')]))"
   ]
  },
  {
   "cell_type": "code",
   "execution_count": 76,
   "metadata": {},
   "outputs": [
    {
     "data": {
      "text/html": [
       "<div>\n",
       "<style scoped>\n",
       "    .dataframe tbody tr th:only-of-type {\n",
       "        vertical-align: middle;\n",
       "    }\n",
       "\n",
       "    .dataframe tbody tr th {\n",
       "        vertical-align: top;\n",
       "    }\n",
       "\n",
       "    .dataframe thead th {\n",
       "        text-align: right;\n",
       "    }\n",
       "</style>\n",
       "<table border=\"1\" class=\"dataframe\">\n",
       "  <thead>\n",
       "    <tr style=\"text-align: right;\">\n",
       "      <th>Checking account</th>\n",
       "      <th>little</th>\n",
       "      <th>moderate</th>\n",
       "      <th>rich</th>\n",
       "    </tr>\n",
       "    <tr>\n",
       "      <th>Risk</th>\n",
       "      <th></th>\n",
       "      <th></th>\n",
       "      <th></th>\n",
       "    </tr>\n",
       "  </thead>\n",
       "  <tbody>\n",
       "    <tr>\n",
       "      <th>bad</th>\n",
       "      <td>135</td>\n",
       "      <td>105</td>\n",
       "      <td>14</td>\n",
       "    </tr>\n",
       "    <tr>\n",
       "      <th>good</th>\n",
       "      <td>139</td>\n",
       "      <td>164</td>\n",
       "      <td>49</td>\n",
       "    </tr>\n",
       "  </tbody>\n",
       "</table>\n",
       "</div>"
      ],
      "text/plain": [
       "Checking account  little  moderate  rich\n",
       "Risk                                    \n",
       "bad                  135       105    14\n",
       "good                 139       164    49"
      ]
     },
     "execution_count": 76,
     "metadata": {},
     "output_type": "execute_result"
    }
   ],
   "source": [
    "pd.crosstab(data.Risk,data['Checking account'], values = data.Purpose, aggfunc=len)"
   ]
  },
  {
   "cell_type": "code",
   "execution_count": 78,
   "metadata": {},
   "outputs": [
    {
     "data": {
      "text/html": [
       "<div>\n",
       "<style scoped>\n",
       "    .dataframe tbody tr th:only-of-type {\n",
       "        vertical-align: middle;\n",
       "    }\n",
       "\n",
       "    .dataframe tbody tr th {\n",
       "        vertical-align: top;\n",
       "    }\n",
       "\n",
       "    .dataframe thead th {\n",
       "        text-align: right;\n",
       "    }\n",
       "</style>\n",
       "<table border=\"1\" class=\"dataframe\">\n",
       "  <thead>\n",
       "    <tr style=\"text-align: right;\">\n",
       "      <th>Purpose</th>\n",
       "      <th>business</th>\n",
       "      <th>car</th>\n",
       "      <th>domestic appliances</th>\n",
       "      <th>education</th>\n",
       "      <th>furniture/equipment</th>\n",
       "      <th>radio/TV</th>\n",
       "      <th>repairs</th>\n",
       "      <th>vacation/others</th>\n",
       "    </tr>\n",
       "    <tr>\n",
       "      <th>Risk</th>\n",
       "      <th></th>\n",
       "      <th></th>\n",
       "      <th></th>\n",
       "      <th></th>\n",
       "      <th></th>\n",
       "      <th></th>\n",
       "      <th></th>\n",
       "      <th></th>\n",
       "    </tr>\n",
       "  </thead>\n",
       "  <tbody>\n",
       "    <tr>\n",
       "      <th>bad</th>\n",
       "      <td>34</td>\n",
       "      <td>106</td>\n",
       "      <td>4</td>\n",
       "      <td>23</td>\n",
       "      <td>58</td>\n",
       "      <td>62</td>\n",
       "      <td>8</td>\n",
       "      <td>5</td>\n",
       "    </tr>\n",
       "    <tr>\n",
       "      <th>good</th>\n",
       "      <td>63</td>\n",
       "      <td>231</td>\n",
       "      <td>8</td>\n",
       "      <td>36</td>\n",
       "      <td>123</td>\n",
       "      <td>218</td>\n",
       "      <td>14</td>\n",
       "      <td>7</td>\n",
       "    </tr>\n",
       "  </tbody>\n",
       "</table>\n",
       "</div>"
      ],
      "text/plain": [
       "Purpose  business  car  domestic appliances  education  furniture/equipment  \\\n",
       "Risk                                                                          \n",
       "bad            34  106                    4         23                   58   \n",
       "good           63  231                    8         36                  123   \n",
       "\n",
       "Purpose  radio/TV  repairs  vacation/others  \n",
       "Risk                                         \n",
       "bad            62        8                5  \n",
       "good          218       14                7  "
      ]
     },
     "execution_count": 78,
     "metadata": {},
     "output_type": "execute_result"
    }
   ],
   "source": [
    "pd.crosstab(data.Risk,data.Purpose, values = data['Checking account'], aggfunc=len)"
   ]
  },
  {
   "cell_type": "code",
   "execution_count": null,
   "metadata": {},
   "outputs": [],
   "source": []
  },
  {
   "cell_type": "code",
   "execution_count": null,
   "metadata": {},
   "outputs": [],
   "source": []
  },
  {
   "cell_type": "code",
   "execution_count": 24,
   "metadata": {},
   "outputs": [
    {
     "data": {
      "text/html": [
       "<div>\n",
       "<style scoped>\n",
       "    .dataframe tbody tr th:only-of-type {\n",
       "        vertical-align: middle;\n",
       "    }\n",
       "\n",
       "    .dataframe tbody tr th {\n",
       "        vertical-align: top;\n",
       "    }\n",
       "\n",
       "    .dataframe thead th {\n",
       "        text-align: right;\n",
       "    }\n",
       "</style>\n",
       "<table border=\"1\" class=\"dataframe\">\n",
       "  <thead>\n",
       "    <tr style=\"text-align: right;\">\n",
       "      <th>Purpose</th>\n",
       "      <th>business</th>\n",
       "      <th>car</th>\n",
       "      <th>domestic appliances</th>\n",
       "      <th>education</th>\n",
       "      <th>furniture/equipment</th>\n",
       "      <th>radio/TV</th>\n",
       "      <th>repairs</th>\n",
       "      <th>vacation/others</th>\n",
       "    </tr>\n",
       "    <tr>\n",
       "      <th>Housing</th>\n",
       "      <th></th>\n",
       "      <th></th>\n",
       "      <th></th>\n",
       "      <th></th>\n",
       "      <th></th>\n",
       "      <th></th>\n",
       "      <th></th>\n",
       "      <th></th>\n",
       "    </tr>\n",
       "  </thead>\n",
       "  <tbody>\n",
       "    <tr>\n",
       "      <th>free</th>\n",
       "      <td>5.0</td>\n",
       "      <td>55.0</td>\n",
       "      <td>NaN</td>\n",
       "      <td>15.0</td>\n",
       "      <td>11.0</td>\n",
       "      <td>15.0</td>\n",
       "      <td>3.0</td>\n",
       "      <td>4.0</td>\n",
       "    </tr>\n",
       "    <tr>\n",
       "      <th>own</th>\n",
       "      <td>76.0</td>\n",
       "      <td>219.0</td>\n",
       "      <td>10.0</td>\n",
       "      <td>34.0</td>\n",
       "      <td>122.0</td>\n",
       "      <td>227.0</td>\n",
       "      <td>17.0</td>\n",
       "      <td>8.0</td>\n",
       "    </tr>\n",
       "    <tr>\n",
       "      <th>rent</th>\n",
       "      <td>16.0</td>\n",
       "      <td>63.0</td>\n",
       "      <td>2.0</td>\n",
       "      <td>10.0</td>\n",
       "      <td>48.0</td>\n",
       "      <td>38.0</td>\n",
       "      <td>2.0</td>\n",
       "      <td>NaN</td>\n",
       "    </tr>\n",
       "  </tbody>\n",
       "</table>\n",
       "</div>"
      ],
      "text/plain": [
       "Purpose  business    car  domestic appliances  education  furniture/equipment  \\\n",
       "Housing                                                                         \n",
       "free          5.0   55.0                  NaN       15.0                 11.0   \n",
       "own          76.0  219.0                 10.0       34.0                122.0   \n",
       "rent         16.0   63.0                  2.0       10.0                 48.0   \n",
       "\n",
       "Purpose  radio/TV  repairs  vacation/others  \n",
       "Housing                                      \n",
       "free         15.0      3.0              4.0  \n",
       "own         227.0     17.0              8.0  \n",
       "rent         38.0      2.0              NaN  "
      ]
     },
     "execution_count": 24,
     "metadata": {},
     "output_type": "execute_result"
    }
   ],
   "source": [
    "pd.crosstab(data.Housing,data.Purpose, values = data.Risk.map(map_value), aggfunc=len)"
   ]
  },
  {
   "cell_type": "code",
   "execution_count": 87,
   "metadata": {},
   "outputs": [
    {
     "name": "stdout",
     "output_type": "stream",
     "text": [
      "Defaulter of Housing Category- free/Purpose-business : 3\n",
      "Defaulter of Housing Category- free/Purpose-car : 23\n",
      "Defaulter of Housing Category- free/Purpose-domestic appliances : 0\n",
      "Defaulter of Housing Category- free/Purpose-education : 7\n",
      "Defaulter of Housing Category- free/Purpose-furniture/equipment : 3\n",
      "Defaulter of Housing Category- free/Purpose-radio/TV : 5\n",
      "Defaulter of Housing Category- free/Purpose-repairs : 2\n",
      "Defaulter of Housing Category- free/Purpose-vacation/others : 1\n"
     ]
    }
   ],
   "source": [
    "print('Defaulter of Housing Category- free/Purpose-business :',len(data[(data['Housing']=='free') & (data['Risk']=='bad')\n",
    "                                                                              &( data['Purpose']=='business')]))\n",
    "print('Defaulter of Housing Category- free/Purpose-car :',len(data[(data['Housing']=='free') & (data['Risk']=='bad') \n",
    "                                                                                & (data['Purpose']=='car')]))\n",
    "print('Defaulter of Housing Category- free/Purpose-domestic appliances :',len(data[(data['Housing']=='free') & (data['Risk']=='bad') \n",
    "                                                                            & (data['Purpose']=='domestic appliances')]))\n",
    "print('Defaulter of Housing Category- free/Purpose-education :',len(data[(data['Housing']=='free') & (data['Risk']=='bad') \n",
    "                                                                            & (data['Purpose']=='education')]))\n",
    "print('Defaulter of Housing Category- free/Purpose-furniture/equipment :',len(data[(data['Housing']=='free') & (data['Risk']=='bad') \n",
    "                                                                            & (data['Purpose']=='furniture/equipment')]))\n",
    "print('Defaulter of Housing Category- free/Purpose-radio/TV :',len(data[(data['Housing']=='free') & (data['Risk']=='bad') \n",
    "                                                                            & (data['Purpose']=='radio/TV')]))\n",
    "print('Defaulter of Housing Category- free/Purpose-repairs :',len(data[(data['Housing']=='free') & (data['Risk']=='bad') \n",
    "                                                                            & (data['Purpose']=='repairs')]))\n",
    "print('Defaulter of Housing Category- free/Purpose-vacation/others :',len(data[(data['Housing']=='free') & (data['Risk']=='bad') \n",
    "                                                                            & (data['Purpose']=='vacation/others')]))"
   ]
  },
  {
   "cell_type": "code",
   "execution_count": 88,
   "metadata": {},
   "outputs": [
    {
     "name": "stdout",
     "output_type": "stream",
     "text": [
      "Defaulter of Housing Category- own/Purpose-business : 20\n",
      "Defaulter of Housing Category- own/Purpose-car : 60\n",
      "Defaulter of Housing Category- own/Purpose-domestic appliances : 3\n",
      "Defaulter of Housing Category- own/Purpose-education : 12\n",
      "Defaulter of Housing Category- own/Purpose-furniture/equipment : 36\n",
      "Defaulter of Housing Category- own/Purpose-radio/TV : 46\n",
      "Defaulter of Housing Category- own/Purpose-repairs : 5\n",
      "Defaulter of Housing Category- own/Purpose-vacation/others : 4\n"
     ]
    }
   ],
   "source": [
    "print('Defaulter of Housing Category- own/Purpose-business :',len(data[(data['Housing']=='own') & (data['Risk']=='bad')\n",
    "                                                                              &( data['Purpose']=='business')]))\n",
    "print('Defaulter of Housing Category- own/Purpose-car :',len(data[(data['Housing']=='own') & (data['Risk']=='bad') \n",
    "                                                                                & (data['Purpose']=='car')]))\n",
    "print('Defaulter of Housing Category- own/Purpose-domestic appliances :',len(data[(data['Housing']=='own') & (data['Risk']=='bad') \n",
    "                                                                            & (data['Purpose']=='domestic appliances')]))\n",
    "print('Defaulter of Housing Category- own/Purpose-education :',len(data[(data['Housing']=='own') & (data['Risk']=='bad') \n",
    "                                                                            & (data['Purpose']=='education')]))\n",
    "print('Defaulter of Housing Category- own/Purpose-furniture/equipment :',len(data[(data['Housing']=='own') & (data['Risk']=='bad') \n",
    "                                                                            & (data['Purpose']=='furniture/equipment')]))\n",
    "print('Defaulter of Housing Category- own/Purpose-radio/TV :',len(data[(data['Housing']=='own') & (data['Risk']=='bad') \n",
    "                                                                            & (data['Purpose']=='radio/TV')]))\n",
    "print('Defaulter of Housing Category- own/Purpose-repairs :',len(data[(data['Housing']=='own') & (data['Risk']=='bad') \n",
    "                                                                            & (data['Purpose']=='repairs')]))\n",
    "print('Defaulter of Housing Category- own/Purpose-vacation/others :',len(data[(data['Housing']=='own') & (data['Risk']=='bad') \n",
    "                                                                            & (data['Purpose']=='vacation/others')]))"
   ]
  },
  {
   "cell_type": "code",
   "execution_count": 89,
   "metadata": {},
   "outputs": [
    {
     "name": "stdout",
     "output_type": "stream",
     "text": [
      "Defaulter of Housing Category- rent/Purpose-business : 11\n",
      "Defaulter of Housing Category- rent/Purpose-car : 23\n",
      "Defaulter of Housing Category- rent/Purpose-domestic appliances : 1\n",
      "Defaulter of Housing Category- rent/Purpose-education : 4\n",
      "Defaulter of Housing Category- rent/Purpose-furniture/equipment : 19\n",
      "Defaulter of Housing Category- rent/Purpose-radio/TV : 11\n",
      "Defaulter of Housing Category- rent/Purpose-repairs : 1\n",
      "Defaulter of Housing Category- rent/Purpose-vacation/others : 0\n"
     ]
    }
   ],
   "source": [
    "print('Defaulter of Housing Category- rent/Purpose-business :',len(data[(data['Housing']=='rent') & (data['Risk']=='bad')\n",
    "                                                                              &( data['Purpose']=='business')]))\n",
    "print('Defaulter of Housing Category- rent/Purpose-car :',len(data[(data['Housing']=='rent') & (data['Risk']=='bad') \n",
    "                                                                                & (data['Purpose']=='car')]))\n",
    "print('Defaulter of Housing Category- rent/Purpose-domestic appliances :',len(data[(data['Housing']=='rent') & (data['Risk']=='bad') \n",
    "                                                                            & (data['Purpose']=='domestic appliances')]))\n",
    "print('Defaulter of Housing Category- rent/Purpose-education :',len(data[(data['Housing']=='rent') & (data['Risk']=='bad') \n",
    "                                                                            & (data['Purpose']=='education')]))\n",
    "print('Defaulter of Housing Category- rent/Purpose-furniture/equipment :',len(data[(data['Housing']=='rent') & (data['Risk']=='bad') \n",
    "                                                                            & (data['Purpose']=='furniture/equipment')]))\n",
    "print('Defaulter of Housing Category- rent/Purpose-radio/TV :',len(data[(data['Housing']=='rent') & (data['Risk']=='bad') \n",
    "                                                                            & (data['Purpose']=='radio/TV')]))\n",
    "print('Defaulter of Housing Category- rent/Purpose-repairs :',len(data[(data['Housing']=='rent') & (data['Risk']=='bad') \n",
    "                                                                            & (data['Purpose']=='repairs')]))\n",
    "print('Defaulter of Housing Category- rent/Purpose-vacation/others :',len(data[(data['Housing']=='rent') & (data['Risk']=='bad') \n",
    "                                                                            & (data['Purpose']=='vacation/others')]))"
   ]
  },
  {
   "cell_type": "code",
   "execution_count": 25,
   "metadata": {},
   "outputs": [
    {
     "data": {
      "text/html": [
       "<div>\n",
       "<style scoped>\n",
       "    .dataframe tbody tr th:only-of-type {\n",
       "        vertical-align: middle;\n",
       "    }\n",
       "\n",
       "    .dataframe tbody tr th {\n",
       "        vertical-align: top;\n",
       "    }\n",
       "\n",
       "    .dataframe thead th {\n",
       "        text-align: right;\n",
       "    }\n",
       "</style>\n",
       "<table border=\"1\" class=\"dataframe\">\n",
       "  <thead>\n",
       "    <tr style=\"text-align: right;\">\n",
       "      <th>Purpose</th>\n",
       "      <th>business</th>\n",
       "      <th>car</th>\n",
       "      <th>domestic appliances</th>\n",
       "      <th>education</th>\n",
       "      <th>furniture/equipment</th>\n",
       "      <th>radio/TV</th>\n",
       "      <th>repairs</th>\n",
       "      <th>vacation/others</th>\n",
       "    </tr>\n",
       "    <tr>\n",
       "      <th>Risk</th>\n",
       "      <th></th>\n",
       "      <th></th>\n",
       "      <th></th>\n",
       "      <th></th>\n",
       "      <th></th>\n",
       "      <th></th>\n",
       "      <th></th>\n",
       "      <th></th>\n",
       "    </tr>\n",
       "  </thead>\n",
       "  <tbody>\n",
       "    <tr>\n",
       "      <th>bad</th>\n",
       "      <td>34</td>\n",
       "      <td>106</td>\n",
       "      <td>4</td>\n",
       "      <td>23</td>\n",
       "      <td>58</td>\n",
       "      <td>62</td>\n",
       "      <td>8</td>\n",
       "      <td>5</td>\n",
       "    </tr>\n",
       "    <tr>\n",
       "      <th>good</th>\n",
       "      <td>63</td>\n",
       "      <td>231</td>\n",
       "      <td>8</td>\n",
       "      <td>36</td>\n",
       "      <td>123</td>\n",
       "      <td>218</td>\n",
       "      <td>14</td>\n",
       "      <td>7</td>\n",
       "    </tr>\n",
       "  </tbody>\n",
       "</table>\n",
       "</div>"
      ],
      "text/plain": [
       "Purpose  business  car  domestic appliances  education  furniture/equipment  \\\n",
       "Risk                                                                          \n",
       "bad            34  106                    4         23                   58   \n",
       "good           63  231                    8         36                  123   \n",
       "\n",
       "Purpose  radio/TV  repairs  vacation/others  \n",
       "Risk                                         \n",
       "bad            62        8                5  \n",
       "good          218       14                7  "
      ]
     },
     "execution_count": 25,
     "metadata": {},
     "output_type": "execute_result"
    }
   ],
   "source": [
    "pd.crosstab(data.Risk,data.Purpose, values = data.Housing, aggfunc=len)"
   ]
  },
  {
   "cell_type": "code",
   "execution_count": 26,
   "metadata": {},
   "outputs": [
    {
     "data": {
      "text/html": [
       "<div>\n",
       "<style scoped>\n",
       "    .dataframe tbody tr th:only-of-type {\n",
       "        vertical-align: middle;\n",
       "    }\n",
       "\n",
       "    .dataframe tbody tr th {\n",
       "        vertical-align: top;\n",
       "    }\n",
       "\n",
       "    .dataframe thead th {\n",
       "        text-align: right;\n",
       "    }\n",
       "</style>\n",
       "<table border=\"1\" class=\"dataframe\">\n",
       "  <thead>\n",
       "    <tr style=\"text-align: right;\">\n",
       "      <th>Housing</th>\n",
       "      <th>free</th>\n",
       "      <th>own</th>\n",
       "      <th>rent</th>\n",
       "    </tr>\n",
       "    <tr>\n",
       "      <th>Risk</th>\n",
       "      <th></th>\n",
       "      <th></th>\n",
       "      <th></th>\n",
       "    </tr>\n",
       "  </thead>\n",
       "  <tbody>\n",
       "    <tr>\n",
       "      <th>bad</th>\n",
       "      <td>44</td>\n",
       "      <td>186</td>\n",
       "      <td>70</td>\n",
       "    </tr>\n",
       "    <tr>\n",
       "      <th>good</th>\n",
       "      <td>64</td>\n",
       "      <td>527</td>\n",
       "      <td>109</td>\n",
       "    </tr>\n",
       "  </tbody>\n",
       "</table>\n",
       "</div>"
      ],
      "text/plain": [
       "Housing  free  own  rent\n",
       "Risk                    \n",
       "bad        44  186    70\n",
       "good       64  527   109"
      ]
     },
     "execution_count": 26,
     "metadata": {},
     "output_type": "execute_result"
    }
   ],
   "source": [
    "pd.crosstab(data.Risk,data.Housing, values = data.Purpose, aggfunc=len)"
   ]
  },
  {
   "cell_type": "code",
   "execution_count": null,
   "metadata": {},
   "outputs": [],
   "source": []
  },
  {
   "cell_type": "code",
   "execution_count": 34,
   "metadata": {},
   "outputs": [
    {
     "data": {
      "text/html": [
       "<div>\n",
       "<style scoped>\n",
       "    .dataframe tbody tr th:only-of-type {\n",
       "        vertical-align: middle;\n",
       "    }\n",
       "\n",
       "    .dataframe tbody tr th {\n",
       "        vertical-align: top;\n",
       "    }\n",
       "\n",
       "    .dataframe thead th {\n",
       "        text-align: right;\n",
       "    }\n",
       "</style>\n",
       "<table border=\"1\" class=\"dataframe\">\n",
       "  <thead>\n",
       "    <tr style=\"text-align: right;\">\n",
       "      <th>Purpose</th>\n",
       "      <th>business</th>\n",
       "      <th>car</th>\n",
       "      <th>domestic appliances</th>\n",
       "      <th>education</th>\n",
       "      <th>furniture/equipment</th>\n",
       "      <th>radio/TV</th>\n",
       "      <th>repairs</th>\n",
       "      <th>vacation/others</th>\n",
       "    </tr>\n",
       "    <tr>\n",
       "      <th>Sex</th>\n",
       "      <th></th>\n",
       "      <th></th>\n",
       "      <th></th>\n",
       "      <th></th>\n",
       "      <th></th>\n",
       "      <th></th>\n",
       "      <th></th>\n",
       "      <th></th>\n",
       "    </tr>\n",
       "  </thead>\n",
       "  <tbody>\n",
       "    <tr>\n",
       "      <th>female</th>\n",
       "      <td>19</td>\n",
       "      <td>94</td>\n",
       "      <td>6</td>\n",
       "      <td>24</td>\n",
       "      <td>74</td>\n",
       "      <td>85</td>\n",
       "      <td>5</td>\n",
       "      <td>3</td>\n",
       "    </tr>\n",
       "    <tr>\n",
       "      <th>male</th>\n",
       "      <td>78</td>\n",
       "      <td>243</td>\n",
       "      <td>6</td>\n",
       "      <td>35</td>\n",
       "      <td>107</td>\n",
       "      <td>195</td>\n",
       "      <td>17</td>\n",
       "      <td>9</td>\n",
       "    </tr>\n",
       "  </tbody>\n",
       "</table>\n",
       "</div>"
      ],
      "text/plain": [
       "Purpose  business  car  domestic appliances  education  furniture/equipment  \\\n",
       "Sex                                                                           \n",
       "female         19   94                    6         24                   74   \n",
       "male           78  243                    6         35                  107   \n",
       "\n",
       "Purpose  radio/TV  repairs  vacation/others  \n",
       "Sex                                          \n",
       "female         85        5                3  \n",
       "male          195       17                9  "
      ]
     },
     "execution_count": 34,
     "metadata": {},
     "output_type": "execute_result"
    }
   ],
   "source": [
    "pd.crosstab(data.Sex, data.Purpose, values = data.Risk.map(map_value), aggfunc=len)"
   ]
  },
  {
   "cell_type": "code",
   "execution_count": 93,
   "metadata": {},
   "outputs": [
    {
     "name": "stdout",
     "output_type": "stream",
     "text": [
      "Defaulter of Sex Category- female/Purpose-business : 7\n",
      "Defaulter of Sex Category- female/Purpose-car : 40\n",
      "Defaulter of Sex Category- female/Purpose-domestic appliances : 2\n",
      "Defaulter of Sex Category- female/Purpose-education : 9\n",
      "Defaulter of Sex Category- female/Purpose-furniture/equipment : 28\n",
      "Defaulter of Sex Category- female/Purpose-radio/TV : 19\n",
      "Defaulter of Sex Category- female/Purpose-repairs : 2\n",
      "Defaulter of Sex Category- female/Purpose-vacation/others : 2\n"
     ]
    }
   ],
   "source": [
    "print('Defaulter of Sex Category- female/Purpose-business :',len(data[(data['Sex']=='female') & (data['Risk']=='bad')\n",
    "                                                                              &( data['Purpose']=='business')]))\n",
    "print('Defaulter of Sex Category- female/Purpose-car :',len(data[(data['Sex']=='female') & (data['Risk']=='bad') \n",
    "                                                                                & (data['Purpose']=='car')]))\n",
    "print('Defaulter of Sex Category- female/Purpose-domestic appliances :',len(data[(data['Sex']=='female') & (data['Risk']=='bad') \n",
    "                                                                            & (data['Purpose']=='domestic appliances')]))\n",
    "print('Defaulter of Sex Category- female/Purpose-education :',len(data[(data['Sex']=='female') & (data['Risk']=='bad') \n",
    "                                                                            & (data['Purpose']=='education')]))\n",
    "print('Defaulter of Sex Category- female/Purpose-furniture/equipment :',len(data[(data['Sex']=='female') & (data['Risk']=='bad') \n",
    "                                                                            & (data['Purpose']=='furniture/equipment')]))\n",
    "print('Defaulter of Sex Category- female/Purpose-radio/TV :',len(data[(data['Sex']=='female') & (data['Risk']=='bad') \n",
    "                                                                            & (data['Purpose']=='radio/TV')]))\n",
    "print('Defaulter of Sex Category- female/Purpose-repairs :',len(data[(data['Sex']=='female') & (data['Risk']=='bad') \n",
    "                                                                            & (data['Purpose']=='repairs')]))\n",
    "print('Defaulter of Sex Category- female/Purpose-vacation/others :',len(data[(data['Sex']=='female') & (data['Risk']=='bad') \n",
    "                                                                            & (data['Purpose']=='vacation/others')]))"
   ]
  },
  {
   "cell_type": "code",
   "execution_count": 94,
   "metadata": {},
   "outputs": [
    {
     "name": "stdout",
     "output_type": "stream",
     "text": [
      "Defaulter of Sex Category- male/Purpose-business : 27\n",
      "Defaulter of Sex Category- male/Purpose-car : 66\n",
      "Defaulter of Sex Category- male/Purpose-domestic appliances : 2\n",
      "Defaulter of Sex Category- male/Purpose-education : 14\n",
      "Defaulter of Sex Category- male/Purpose-furniture/equipment : 30\n",
      "Defaulter of Sex Category- male/Purpose-radio/TV : 43\n",
      "Defaulter of Sex Category- male/Purpose-repairs : 6\n",
      "Defaulter of Sex Category- male/Purpose-vacation/others : 3\n"
     ]
    }
   ],
   "source": [
    "print('Defaulter of Sex Category- male/Purpose-business :',len(data[(data['Sex']=='male') & (data['Risk']=='bad')\n",
    "                                                                              &( data['Purpose']=='business')]))\n",
    "print('Defaulter of Sex Category- male/Purpose-car :',len(data[(data['Sex']=='male') & (data['Risk']=='bad') \n",
    "                                                                                & (data['Purpose']=='car')]))\n",
    "print('Defaulter of Sex Category- male/Purpose-domestic appliances :',len(data[(data['Sex']=='male') & (data['Risk']=='bad') \n",
    "                                                                            & (data['Purpose']=='domestic appliances')]))\n",
    "print('Defaulter of Sex Category- male/Purpose-education :',len(data[(data['Sex']=='male') & (data['Risk']=='bad') \n",
    "                                                                            & (data['Purpose']=='education')]))\n",
    "print('Defaulter of Sex Category- male/Purpose-furniture/equipment :',len(data[(data['Sex']=='male') & (data['Risk']=='bad') \n",
    "                                                                            & (data['Purpose']=='furniture/equipment')]))\n",
    "print('Defaulter of Sex Category- male/Purpose-radio/TV :',len(data[(data['Sex']=='male') & (data['Risk']=='bad') \n",
    "                                                                            & (data['Purpose']=='radio/TV')]))\n",
    "print('Defaulter of Sex Category- male/Purpose-repairs :',len(data[(data['Sex']=='male') & (data['Risk']=='bad') \n",
    "                                                                            & (data['Purpose']=='repairs')]))\n",
    "print('Defaulter of Sex Category- male/Purpose-vacation/others :',len(data[(data['Sex']=='male') & (data['Risk']=='bad') \n",
    "                                                                            & (data['Purpose']=='vacation/others')]))"
   ]
  },
  {
   "cell_type": "code",
   "execution_count": 28,
   "metadata": {},
   "outputs": [
    {
     "data": {
      "text/html": [
       "<div>\n",
       "<style scoped>\n",
       "    .dataframe tbody tr th:only-of-type {\n",
       "        vertical-align: middle;\n",
       "    }\n",
       "\n",
       "    .dataframe tbody tr th {\n",
       "        vertical-align: top;\n",
       "    }\n",
       "\n",
       "    .dataframe thead th {\n",
       "        text-align: right;\n",
       "    }\n",
       "</style>\n",
       "<table border=\"1\" class=\"dataframe\">\n",
       "  <thead>\n",
       "    <tr style=\"text-align: right;\">\n",
       "      <th>Purpose</th>\n",
       "      <th>business</th>\n",
       "      <th>car</th>\n",
       "      <th>domestic appliances</th>\n",
       "      <th>education</th>\n",
       "      <th>furniture/equipment</th>\n",
       "      <th>radio/TV</th>\n",
       "      <th>repairs</th>\n",
       "      <th>vacation/others</th>\n",
       "    </tr>\n",
       "    <tr>\n",
       "      <th>Risk</th>\n",
       "      <th></th>\n",
       "      <th></th>\n",
       "      <th></th>\n",
       "      <th></th>\n",
       "      <th></th>\n",
       "      <th></th>\n",
       "      <th></th>\n",
       "      <th></th>\n",
       "    </tr>\n",
       "  </thead>\n",
       "  <tbody>\n",
       "    <tr>\n",
       "      <th>bad</th>\n",
       "      <td>34</td>\n",
       "      <td>106</td>\n",
       "      <td>4</td>\n",
       "      <td>23</td>\n",
       "      <td>58</td>\n",
       "      <td>62</td>\n",
       "      <td>8</td>\n",
       "      <td>5</td>\n",
       "    </tr>\n",
       "    <tr>\n",
       "      <th>good</th>\n",
       "      <td>63</td>\n",
       "      <td>231</td>\n",
       "      <td>8</td>\n",
       "      <td>36</td>\n",
       "      <td>123</td>\n",
       "      <td>218</td>\n",
       "      <td>14</td>\n",
       "      <td>7</td>\n",
       "    </tr>\n",
       "  </tbody>\n",
       "</table>\n",
       "</div>"
      ],
      "text/plain": [
       "Purpose  business  car  domestic appliances  education  furniture/equipment  \\\n",
       "Risk                                                                          \n",
       "bad            34  106                    4         23                   58   \n",
       "good           63  231                    8         36                  123   \n",
       "\n",
       "Purpose  radio/TV  repairs  vacation/others  \n",
       "Risk                                         \n",
       "bad            62        8                5  \n",
       "good          218       14                7  "
      ]
     },
     "execution_count": 28,
     "metadata": {},
     "output_type": "execute_result"
    }
   ],
   "source": [
    "pd.crosstab(data.Risk,data.Purpose, values = data.Sex, aggfunc=len)"
   ]
  },
  {
   "cell_type": "code",
   "execution_count": 29,
   "metadata": {},
   "outputs": [
    {
     "data": {
      "text/html": [
       "<div>\n",
       "<style scoped>\n",
       "    .dataframe tbody tr th:only-of-type {\n",
       "        vertical-align: middle;\n",
       "    }\n",
       "\n",
       "    .dataframe tbody tr th {\n",
       "        vertical-align: top;\n",
       "    }\n",
       "\n",
       "    .dataframe thead th {\n",
       "        text-align: right;\n",
       "    }\n",
       "</style>\n",
       "<table border=\"1\" class=\"dataframe\">\n",
       "  <thead>\n",
       "    <tr style=\"text-align: right;\">\n",
       "      <th>Sex</th>\n",
       "      <th>female</th>\n",
       "      <th>male</th>\n",
       "    </tr>\n",
       "    <tr>\n",
       "      <th>Risk</th>\n",
       "      <th></th>\n",
       "      <th></th>\n",
       "    </tr>\n",
       "  </thead>\n",
       "  <tbody>\n",
       "    <tr>\n",
       "      <th>bad</th>\n",
       "      <td>109</td>\n",
       "      <td>191</td>\n",
       "    </tr>\n",
       "    <tr>\n",
       "      <th>good</th>\n",
       "      <td>201</td>\n",
       "      <td>499</td>\n",
       "    </tr>\n",
       "  </tbody>\n",
       "</table>\n",
       "</div>"
      ],
      "text/plain": [
       "Sex   female  male\n",
       "Risk              \n",
       "bad      109   191\n",
       "good     201   499"
      ]
     },
     "execution_count": 29,
     "metadata": {},
     "output_type": "execute_result"
    }
   ],
   "source": [
    "pd.crosstab(data.Risk,data.Sex, values = data.Purpose, aggfunc=len)"
   ]
  },
  {
   "cell_type": "code",
   "execution_count": null,
   "metadata": {},
   "outputs": [],
   "source": []
  },
  {
   "cell_type": "code",
   "execution_count": 90,
   "metadata": {},
   "outputs": [
    {
     "data": {
      "text/html": [
       "<div>\n",
       "<style scoped>\n",
       "    .dataframe tbody tr th:only-of-type {\n",
       "        vertical-align: middle;\n",
       "    }\n",
       "\n",
       "    .dataframe tbody tr th {\n",
       "        vertical-align: top;\n",
       "    }\n",
       "\n",
       "    .dataframe thead th {\n",
       "        text-align: right;\n",
       "    }\n",
       "</style>\n",
       "<table border=\"1\" class=\"dataframe\">\n",
       "  <thead>\n",
       "    <tr style=\"text-align: right;\">\n",
       "      <th>Purpose</th>\n",
       "      <th>business</th>\n",
       "      <th>car</th>\n",
       "      <th>domestic appliances</th>\n",
       "      <th>education</th>\n",
       "      <th>furniture/equipment</th>\n",
       "      <th>radio/TV</th>\n",
       "      <th>repairs</th>\n",
       "      <th>vacation/others</th>\n",
       "    </tr>\n",
       "    <tr>\n",
       "      <th>Job</th>\n",
       "      <th></th>\n",
       "      <th></th>\n",
       "      <th></th>\n",
       "      <th></th>\n",
       "      <th></th>\n",
       "      <th></th>\n",
       "      <th></th>\n",
       "      <th></th>\n",
       "    </tr>\n",
       "  </thead>\n",
       "  <tbody>\n",
       "    <tr>\n",
       "      <th>0</th>\n",
       "      <td>2.0</td>\n",
       "      <td>12.0</td>\n",
       "      <td>1.0</td>\n",
       "      <td>1.0</td>\n",
       "      <td>1.0</td>\n",
       "      <td>2.0</td>\n",
       "      <td>2.0</td>\n",
       "      <td>1.0</td>\n",
       "    </tr>\n",
       "    <tr>\n",
       "      <th>1</th>\n",
       "      <td>20.0</td>\n",
       "      <td>66.0</td>\n",
       "      <td>1.0</td>\n",
       "      <td>15.0</td>\n",
       "      <td>33.0</td>\n",
       "      <td>57.0</td>\n",
       "      <td>7.0</td>\n",
       "      <td>1.0</td>\n",
       "    </tr>\n",
       "    <tr>\n",
       "      <th>2</th>\n",
       "      <td>60.0</td>\n",
       "      <td>190.0</td>\n",
       "      <td>10.0</td>\n",
       "      <td>35.0</td>\n",
       "      <td>126.0</td>\n",
       "      <td>195.0</td>\n",
       "      <td>13.0</td>\n",
       "      <td>1.0</td>\n",
       "    </tr>\n",
       "    <tr>\n",
       "      <th>3</th>\n",
       "      <td>15.0</td>\n",
       "      <td>69.0</td>\n",
       "      <td>NaN</td>\n",
       "      <td>8.0</td>\n",
       "      <td>21.0</td>\n",
       "      <td>26.0</td>\n",
       "      <td>NaN</td>\n",
       "      <td>9.0</td>\n",
       "    </tr>\n",
       "  </tbody>\n",
       "</table>\n",
       "</div>"
      ],
      "text/plain": [
       "Purpose  business    car  domestic appliances  education  furniture/equipment  \\\n",
       "Job                                                                             \n",
       "0             2.0   12.0                  1.0        1.0                  1.0   \n",
       "1            20.0   66.0                  1.0       15.0                 33.0   \n",
       "2            60.0  190.0                 10.0       35.0                126.0   \n",
       "3            15.0   69.0                  NaN        8.0                 21.0   \n",
       "\n",
       "Purpose  radio/TV  repairs  vacation/others  \n",
       "Job                                          \n",
       "0             2.0      2.0              1.0  \n",
       "1            57.0      7.0              1.0  \n",
       "2           195.0     13.0              1.0  \n",
       "3            26.0      NaN              9.0  "
      ]
     },
     "execution_count": 90,
     "metadata": {},
     "output_type": "execute_result"
    }
   ],
   "source": [
    "pd.crosstab(data.Job, data.Purpose, values = data.Risk.map(map_value), aggfunc=len)"
   ]
  },
  {
   "cell_type": "code",
   "execution_count": 95,
   "metadata": {},
   "outputs": [
    {
     "name": "stdout",
     "output_type": "stream",
     "text": [
      "Defaulter of Job Category- 0/Purpose-business : 1\n",
      "Defaulter of Job Category- 0/Purpose-car : 3\n",
      "Defaulter of Job Category- 0/Purpose-domestic appliances : 0\n",
      "Defaulter of Job Category- 0/Purpose-education : 1\n",
      "Defaulter of Job Category- 0/Purpose-furniture/equipment : 1\n",
      "Defaulter of Job Category- 0/Purpose-radio/TV : 0\n",
      "Defaulter of Job Category- 0/Purpose-repairs : 1\n",
      "Defaulter of Job Category- 0/Purpose-vacation/others : 0\n"
     ]
    }
   ],
   "source": [
    "print('Defaulter of Job Category- 0/Purpose-business :',len(data[(data['Job']==0) & (data['Risk']=='bad')\n",
    "                                                                              &( data['Purpose']=='business')]))\n",
    "print('Defaulter of Job Category- 0/Purpose-car :',len(data[(data['Job']==0) & (data['Risk']=='bad') \n",
    "                                                                                & (data['Purpose']=='car')]))\n",
    "print('Defaulter of Job Category- 0/Purpose-domestic appliances :',len(data[(data['Job']==0) & (data['Risk']=='bad') \n",
    "                                                                            & (data['Purpose']=='domestic appliances')]))\n",
    "print('Defaulter of Job Category- 0/Purpose-education :',len(data[(data['Job']==0) & (data['Risk']=='bad') \n",
    "                                                                            & (data['Purpose']=='education')]))\n",
    "print('Defaulter of Job Category- 0/Purpose-furniture/equipment :',len(data[(data['Job']==0) & (data['Risk']=='bad') \n",
    "                                                                            & (data['Purpose']=='furniture/equipment')]))\n",
    "print('Defaulter of Job Category- 0/Purpose-radio/TV :',len(data[(data['Job']==0) & (data['Risk']=='bad') \n",
    "                                                                            & (data['Purpose']=='radio/TV')]))\n",
    "print('Defaulter of Job Category- 0/Purpose-repairs :',len(data[(data['Job']==0) & (data['Risk']=='bad') \n",
    "                                                                            & (data['Purpose']=='repairs')]))\n",
    "print('Defaulter of Job Category- 0/Purpose-vacation/others :',len(data[(data['Job']==0) & (data['Risk']=='bad') \n",
    "                                                                            & (data['Purpose']=='vacation/others')]))"
   ]
  },
  {
   "cell_type": "code",
   "execution_count": 96,
   "metadata": {},
   "outputs": [
    {
     "name": "stdout",
     "output_type": "stream",
     "text": [
      "Defaulter of Job Category- 1/Purpose-business : 5\n",
      "Defaulter of Job Category- 1/Purpose-car : 22\n",
      "Defaulter of Job Category- 1/Purpose-domestic appliances : 1\n",
      "Defaulter of Job Category- 1/Purpose-education : 3\n",
      "Defaulter of Job Category- 1/Purpose-furniture/equipment : 10\n",
      "Defaulter of Job Category- 1/Purpose-radio/TV : 13\n",
      "Defaulter of Job Category- 1/Purpose-repairs : 2\n",
      "Defaulter of Job Category- 1/Purpose-vacation/others : 0\n"
     ]
    }
   ],
   "source": [
    "print('Defaulter of Job Category- 1/Purpose-business :',len(data[(data['Job']==1) & (data['Risk']=='bad')\n",
    "                                                                              &( data['Purpose']=='business')]))\n",
    "print('Defaulter of Job Category- 1/Purpose-car :',len(data[(data['Job']==1) & (data['Risk']=='bad') \n",
    "                                                                                & (data['Purpose']=='car')]))\n",
    "print('Defaulter of Job Category- 1/Purpose-domestic appliances :',len(data[(data['Job']==1) & (data['Risk']=='bad') \n",
    "                                                                            & (data['Purpose']=='domestic appliances')]))\n",
    "print('Defaulter of Job Category- 1/Purpose-education :',len(data[(data['Job']==1) & (data['Risk']=='bad') \n",
    "                                                                            & (data['Purpose']=='education')]))\n",
    "print('Defaulter of Job Category- 1/Purpose-furniture/equipment :',len(data[(data['Job']==1) & (data['Risk']=='bad') \n",
    "                                                                            & (data['Purpose']=='furniture/equipment')]))\n",
    "print('Defaulter of Job Category- 1/Purpose-radio/TV :',len(data[(data['Job']==1) & (data['Risk']=='bad') \n",
    "                                                                            & (data['Purpose']=='radio/TV')]))\n",
    "print('Defaulter of Job Category- 1/Purpose-repairs :',len(data[(data['Job']==1) & (data['Risk']=='bad') \n",
    "                                                                            & (data['Purpose']=='repairs')]))\n",
    "print('Defaulter of Job Category- 1/Purpose-vacation/others :',len(data[(data['Job']==1) & (data['Risk']=='bad') \n",
    "                                                                            & (data['Purpose']=='vacation/others')]))"
   ]
  },
  {
   "cell_type": "code",
   "execution_count": 97,
   "metadata": {},
   "outputs": [
    {
     "name": "stdout",
     "output_type": "stream",
     "text": [
      "Defaulter of Job Category- 0/Purpose-business : 21\n",
      "Defaulter of Job Category- 2/Purpose-car : 61\n",
      "Defaulter of Job Category- 2/Purpose-domestic appliances : 3\n",
      "Defaulter of Job Category- 2/Purpose-education : 15\n",
      "Defaulter of Job Category- 2/Purpose-furniture/equipment : 38\n",
      "Defaulter of Job Category- 2/Purpose-radio/TV : 43\n",
      "Defaulter of Job Category- 2/Purpose-repairs : 5\n",
      "Defaulter of Job Category- 2/Purpose-vacation/others : 0\n"
     ]
    }
   ],
   "source": [
    "print('Defaulter of Job Category- 0/Purpose-business :',len(data[(data['Job']==2) & (data['Risk']=='bad')\n",
    "                                                                              &( data['Purpose']=='business')]))\n",
    "print('Defaulter of Job Category- 2/Purpose-car :',len(data[(data['Job']==2) & (data['Risk']=='bad') \n",
    "                                                                                & (data['Purpose']=='car')]))\n",
    "print('Defaulter of Job Category- 2/Purpose-domestic appliances :',len(data[(data['Job']==2) & (data['Risk']=='bad') \n",
    "                                                                            & (data['Purpose']=='domestic appliances')]))\n",
    "print('Defaulter of Job Category- 2/Purpose-education :',len(data[(data['Job']==2) & (data['Risk']=='bad') \n",
    "                                                                            & (data['Purpose']=='education')]))\n",
    "print('Defaulter of Job Category- 2/Purpose-furniture/equipment :',len(data[(data['Job']==2) & (data['Risk']=='bad') \n",
    "                                                                            & (data['Purpose']=='furniture/equipment')]))\n",
    "print('Defaulter of Job Category- 2/Purpose-radio/TV :',len(data[(data['Job']==2) & (data['Risk']=='bad') \n",
    "                                                                            & (data['Purpose']=='radio/TV')]))\n",
    "print('Defaulter of Job Category- 2/Purpose-repairs :',len(data[(data['Job']==2) & (data['Risk']=='bad') \n",
    "                                                                            & (data['Purpose']=='repairs')]))\n",
    "print('Defaulter of Job Category- 2/Purpose-vacation/others :',len(data[(data['Job']==2) & (data['Risk']=='bad') \n",
    "                                                                            & (data['Purpose']=='vacation/others')]))"
   ]
  },
  {
   "cell_type": "code",
   "execution_count": 98,
   "metadata": {},
   "outputs": [
    {
     "name": "stdout",
     "output_type": "stream",
     "text": [
      "Defaulter of Job Category- 3/Purpose-business : 7\n",
      "Defaulter of Job Category- 3/Purpose-car : 20\n",
      "Defaulter of Job Category- 3/Purpose-domestic appliances : 0\n",
      "Defaulter of Job Category- 3/Purpose-education : 4\n",
      "Defaulter of Job Category- 3/Purpose-furniture/equipment : 9\n",
      "Defaulter of Job Category- 3/Purpose-radio/TV : 6\n",
      "Defaulter of Job Category- 3/Purpose-repairs : 0\n",
      "Defaulter of Job Category- 3/Purpose-vacation/others : 5\n"
     ]
    }
   ],
   "source": [
    "print('Defaulter of Job Category- 3/Purpose-business :',len(data[(data['Job']==3) & (data['Risk']=='bad')\n",
    "                                                                              &( data['Purpose']=='business')]))\n",
    "print('Defaulter of Job Category- 3/Purpose-car :',len(data[(data['Job']==3) & (data['Risk']=='bad') \n",
    "                                                                                & (data['Purpose']=='car')]))\n",
    "print('Defaulter of Job Category- 3/Purpose-domestic appliances :',len(data[(data['Job']==3) & (data['Risk']=='bad') \n",
    "                                                                            & (data['Purpose']=='domestic appliances')]))\n",
    "print('Defaulter of Job Category- 3/Purpose-education :',len(data[(data['Job']==3) & (data['Risk']=='bad') \n",
    "                                                                            & (data['Purpose']=='education')]))\n",
    "print('Defaulter of Job Category- 3/Purpose-furniture/equipment :',len(data[(data['Job']==3) & (data['Risk']=='bad') \n",
    "                                                                            & (data['Purpose']=='furniture/equipment')]))\n",
    "print('Defaulter of Job Category- 3/Purpose-radio/TV :',len(data[(data['Job']==3) & (data['Risk']=='bad') \n",
    "                                                                            & (data['Purpose']=='radio/TV')]))\n",
    "print('Defaulter of Job Category- 3/Purpose-repairs :',len(data[(data['Job']==3) & (data['Risk']=='bad') \n",
    "                                                                            & (data['Purpose']=='repairs')]))\n",
    "print('Defaulter of Job Category- 3/Purpose-vacation/others :',len(data[(data['Job']==3) & (data['Risk']=='bad') \n",
    "                                                                            & (data['Purpose']=='vacation/others')]))"
   ]
  },
  {
   "cell_type": "code",
   "execution_count": 91,
   "metadata": {},
   "outputs": [
    {
     "data": {
      "text/html": [
       "<div>\n",
       "<style scoped>\n",
       "    .dataframe tbody tr th:only-of-type {\n",
       "        vertical-align: middle;\n",
       "    }\n",
       "\n",
       "    .dataframe tbody tr th {\n",
       "        vertical-align: top;\n",
       "    }\n",
       "\n",
       "    .dataframe thead th {\n",
       "        text-align: right;\n",
       "    }\n",
       "</style>\n",
       "<table border=\"1\" class=\"dataframe\">\n",
       "  <thead>\n",
       "    <tr style=\"text-align: right;\">\n",
       "      <th>Purpose</th>\n",
       "      <th>business</th>\n",
       "      <th>car</th>\n",
       "      <th>domestic appliances</th>\n",
       "      <th>education</th>\n",
       "      <th>furniture/equipment</th>\n",
       "      <th>radio/TV</th>\n",
       "      <th>repairs</th>\n",
       "      <th>vacation/others</th>\n",
       "    </tr>\n",
       "    <tr>\n",
       "      <th>Risk</th>\n",
       "      <th></th>\n",
       "      <th></th>\n",
       "      <th></th>\n",
       "      <th></th>\n",
       "      <th></th>\n",
       "      <th></th>\n",
       "      <th></th>\n",
       "      <th></th>\n",
       "    </tr>\n",
       "  </thead>\n",
       "  <tbody>\n",
       "    <tr>\n",
       "      <th>bad</th>\n",
       "      <td>34</td>\n",
       "      <td>106</td>\n",
       "      <td>4</td>\n",
       "      <td>23</td>\n",
       "      <td>58</td>\n",
       "      <td>62</td>\n",
       "      <td>8</td>\n",
       "      <td>5</td>\n",
       "    </tr>\n",
       "    <tr>\n",
       "      <th>good</th>\n",
       "      <td>63</td>\n",
       "      <td>231</td>\n",
       "      <td>8</td>\n",
       "      <td>36</td>\n",
       "      <td>123</td>\n",
       "      <td>218</td>\n",
       "      <td>14</td>\n",
       "      <td>7</td>\n",
       "    </tr>\n",
       "  </tbody>\n",
       "</table>\n",
       "</div>"
      ],
      "text/plain": [
       "Purpose  business  car  domestic appliances  education  furniture/equipment  \\\n",
       "Risk                                                                          \n",
       "bad            34  106                    4         23                   58   \n",
       "good           63  231                    8         36                  123   \n",
       "\n",
       "Purpose  radio/TV  repairs  vacation/others  \n",
       "Risk                                         \n",
       "bad            62        8                5  \n",
       "good          218       14                7  "
      ]
     },
     "execution_count": 91,
     "metadata": {},
     "output_type": "execute_result"
    }
   ],
   "source": [
    "pd.crosstab(data.Risk,data.Purpose, values = data.Job, aggfunc=len)"
   ]
  },
  {
   "cell_type": "code",
   "execution_count": 92,
   "metadata": {},
   "outputs": [
    {
     "data": {
      "text/html": [
       "<div>\n",
       "<style scoped>\n",
       "    .dataframe tbody tr th:only-of-type {\n",
       "        vertical-align: middle;\n",
       "    }\n",
       "\n",
       "    .dataframe tbody tr th {\n",
       "        vertical-align: top;\n",
       "    }\n",
       "\n",
       "    .dataframe thead th {\n",
       "        text-align: right;\n",
       "    }\n",
       "</style>\n",
       "<table border=\"1\" class=\"dataframe\">\n",
       "  <thead>\n",
       "    <tr style=\"text-align: right;\">\n",
       "      <th>Job</th>\n",
       "      <th>0</th>\n",
       "      <th>1</th>\n",
       "      <th>2</th>\n",
       "      <th>3</th>\n",
       "    </tr>\n",
       "    <tr>\n",
       "      <th>Risk</th>\n",
       "      <th></th>\n",
       "      <th></th>\n",
       "      <th></th>\n",
       "      <th></th>\n",
       "    </tr>\n",
       "  </thead>\n",
       "  <tbody>\n",
       "    <tr>\n",
       "      <th>bad</th>\n",
       "      <td>7</td>\n",
       "      <td>56</td>\n",
       "      <td>186</td>\n",
       "      <td>51</td>\n",
       "    </tr>\n",
       "    <tr>\n",
       "      <th>good</th>\n",
       "      <td>15</td>\n",
       "      <td>144</td>\n",
       "      <td>444</td>\n",
       "      <td>97</td>\n",
       "    </tr>\n",
       "  </tbody>\n",
       "</table>\n",
       "</div>"
      ],
      "text/plain": [
       "Job    0    1    2   3\n",
       "Risk                  \n",
       "bad    7   56  186  51\n",
       "good  15  144  444  97"
      ]
     },
     "execution_count": 92,
     "metadata": {},
     "output_type": "execute_result"
    }
   ],
   "source": [
    "pd.crosstab(data.Risk,data.Job, values = data.Purpose, aggfunc=len)"
   ]
  },
  {
   "cell_type": "code",
   "execution_count": null,
   "metadata": {},
   "outputs": [],
   "source": []
  },
  {
   "cell_type": "code",
   "execution_count": 99,
   "metadata": {},
   "outputs": [
    {
     "data": {
      "text/html": [
       "<div>\n",
       "<style scoped>\n",
       "    .dataframe tbody tr th:only-of-type {\n",
       "        vertical-align: middle;\n",
       "    }\n",
       "\n",
       "    .dataframe tbody tr th {\n",
       "        vertical-align: top;\n",
       "    }\n",
       "\n",
       "    .dataframe thead th {\n",
       "        text-align: right;\n",
       "    }\n",
       "</style>\n",
       "<table border=\"1\" class=\"dataframe\">\n",
       "  <thead>\n",
       "    <tr style=\"text-align: right;\">\n",
       "      <th>Housing</th>\n",
       "      <th>free</th>\n",
       "      <th>own</th>\n",
       "      <th>rent</th>\n",
       "    </tr>\n",
       "    <tr>\n",
       "      <th>Job</th>\n",
       "      <th></th>\n",
       "      <th></th>\n",
       "      <th></th>\n",
       "    </tr>\n",
       "  </thead>\n",
       "  <tbody>\n",
       "    <tr>\n",
       "      <th>0</th>\n",
       "      <td>4</td>\n",
       "      <td>13</td>\n",
       "      <td>5</td>\n",
       "    </tr>\n",
       "    <tr>\n",
       "      <th>1</th>\n",
       "      <td>8</td>\n",
       "      <td>154</td>\n",
       "      <td>38</td>\n",
       "    </tr>\n",
       "    <tr>\n",
       "      <th>2</th>\n",
       "      <td>63</td>\n",
       "      <td>452</td>\n",
       "      <td>115</td>\n",
       "    </tr>\n",
       "    <tr>\n",
       "      <th>3</th>\n",
       "      <td>33</td>\n",
       "      <td>94</td>\n",
       "      <td>21</td>\n",
       "    </tr>\n",
       "  </tbody>\n",
       "</table>\n",
       "</div>"
      ],
      "text/plain": [
       "Housing  free  own  rent\n",
       "Job                     \n",
       "0           4   13     5\n",
       "1           8  154    38\n",
       "2          63  452   115\n",
       "3          33   94    21"
      ]
     },
     "execution_count": 99,
     "metadata": {},
     "output_type": "execute_result"
    }
   ],
   "source": [
    "pd.crosstab(data.Job, data.Housing, values = data.Risk.map(map_value), aggfunc=len)"
   ]
  },
  {
   "cell_type": "code",
   "execution_count": 100,
   "metadata": {},
   "outputs": [
    {
     "name": "stdout",
     "output_type": "stream",
     "text": [
      "Defaulter of Housing Category- free/Job-0: 1\n",
      "Defaulter of Housing Category- free/Job-1 : 5\n",
      "Defaulter of Housing Category- free/Job-2 : 27\n",
      "Defaulter of Housing Category- free/Job-3 : 11\n"
     ]
    }
   ],
   "source": [
    "print('Defaulter of Housing Category- free/Job-0:',len(data[(data['Housing']=='free') & (data['Risk']=='bad')\n",
    "                                                                              &( data['Job']==0)]))\n",
    "print('Defaulter of Housing Category- free/Job-1 :',len(data[(data['Housing']=='free') & (data['Risk']=='bad') \n",
    "                                                                                & (data['Job']==1)]))\n",
    "print('Defaulter of Housing Category- free/Job-2 :',len(data[(data['Housing']=='free') & (data['Risk']=='bad') \n",
    "                                                                            & (data['Job']==2)]))\n",
    "print('Defaulter of Housing Category- free/Job-3 :',len(data[(data['Housing']=='free') & (data['Risk']=='bad') \n",
    "                                                                            & (data['Job']==3)]))"
   ]
  },
  {
   "cell_type": "code",
   "execution_count": 101,
   "metadata": {},
   "outputs": [
    {
     "name": "stdout",
     "output_type": "stream",
     "text": [
      "Defaulter of Housing Category- own/Job-0: 4\n",
      "Defaulter of Housing Category- own/Job-1 : 38\n",
      "Defaulter of Housing Category- own/Job-2 : 110\n",
      "Defaulter of Housing Category- own/Job-3 : 34\n"
     ]
    }
   ],
   "source": [
    "print('Defaulter of Housing Category- own/Job-0:',len(data[(data['Housing']=='own') & (data['Risk']=='bad')\n",
    "                                                                              &( data['Job']==0)]))\n",
    "print('Defaulter of Housing Category- own/Job-1 :',len(data[(data['Housing']=='own') & (data['Risk']=='bad') \n",
    "                                                                                & (data['Job']==1)]))\n",
    "print('Defaulter of Housing Category- own/Job-2 :',len(data[(data['Housing']=='own') & (data['Risk']=='bad') \n",
    "                                                                            & (data['Job']==2)]))\n",
    "print('Defaulter of Housing Category- own/Job-3 :',len(data[(data['Housing']=='own') & (data['Risk']=='bad') \n",
    "                                                                            & (data['Job']==3)]))"
   ]
  },
  {
   "cell_type": "code",
   "execution_count": 102,
   "metadata": {},
   "outputs": [
    {
     "name": "stdout",
     "output_type": "stream",
     "text": [
      "Defaulter of Housing Category- rent/Job-0: 2\n",
      "Defaulter of Housing Category- rent/Job-1 : 13\n",
      "Defaulter of Housing Category- rent/Job-2 : 49\n",
      "Defaulter of Housing Category- rent/Job-3 : 6\n"
     ]
    }
   ],
   "source": [
    "print('Defaulter of Housing Category- rent/Job-0:',len(data[(data['Housing']=='rent') & (data['Risk']=='bad')\n",
    "                                                                              &( data['Job']==0)]))\n",
    "print('Defaulter of Housing Category- rent/Job-1 :',len(data[(data['Housing']=='rent') & (data['Risk']=='bad') \n",
    "                                                                                & (data['Job']==1)]))\n",
    "print('Defaulter of Housing Category- rent/Job-2 :',len(data[(data['Housing']=='rent') & (data['Risk']=='bad') \n",
    "                                                                            & (data['Job']==2)]))\n",
    "print('Defaulter of Housing Category- rent/Job-3 :',len(data[(data['Housing']=='rent') & (data['Risk']=='bad') \n",
    "                                                                            & (data['Job']==3)]))"
   ]
  },
  {
   "cell_type": "code",
   "execution_count": 103,
   "metadata": {},
   "outputs": [
    {
     "data": {
      "text/html": [
       "<div>\n",
       "<style scoped>\n",
       "    .dataframe tbody tr th:only-of-type {\n",
       "        vertical-align: middle;\n",
       "    }\n",
       "\n",
       "    .dataframe tbody tr th {\n",
       "        vertical-align: top;\n",
       "    }\n",
       "\n",
       "    .dataframe thead th {\n",
       "        text-align: right;\n",
       "    }\n",
       "</style>\n",
       "<table border=\"1\" class=\"dataframe\">\n",
       "  <thead>\n",
       "    <tr style=\"text-align: right;\">\n",
       "      <th>Housing</th>\n",
       "      <th>free</th>\n",
       "      <th>own</th>\n",
       "      <th>rent</th>\n",
       "    </tr>\n",
       "    <tr>\n",
       "      <th>Risk</th>\n",
       "      <th></th>\n",
       "      <th></th>\n",
       "      <th></th>\n",
       "    </tr>\n",
       "  </thead>\n",
       "  <tbody>\n",
       "    <tr>\n",
       "      <th>bad</th>\n",
       "      <td>44</td>\n",
       "      <td>186</td>\n",
       "      <td>70</td>\n",
       "    </tr>\n",
       "    <tr>\n",
       "      <th>good</th>\n",
       "      <td>64</td>\n",
       "      <td>527</td>\n",
       "      <td>109</td>\n",
       "    </tr>\n",
       "  </tbody>\n",
       "</table>\n",
       "</div>"
      ],
      "text/plain": [
       "Housing  free  own  rent\n",
       "Risk                    \n",
       "bad        44  186    70\n",
       "good       64  527   109"
      ]
     },
     "execution_count": 103,
     "metadata": {},
     "output_type": "execute_result"
    }
   ],
   "source": [
    "pd.crosstab(data.Risk,data.Housing, values = data.Job, aggfunc=len)"
   ]
  },
  {
   "cell_type": "code",
   "execution_count": 104,
   "metadata": {},
   "outputs": [
    {
     "data": {
      "text/html": [
       "<div>\n",
       "<style scoped>\n",
       "    .dataframe tbody tr th:only-of-type {\n",
       "        vertical-align: middle;\n",
       "    }\n",
       "\n",
       "    .dataframe tbody tr th {\n",
       "        vertical-align: top;\n",
       "    }\n",
       "\n",
       "    .dataframe thead th {\n",
       "        text-align: right;\n",
       "    }\n",
       "</style>\n",
       "<table border=\"1\" class=\"dataframe\">\n",
       "  <thead>\n",
       "    <tr style=\"text-align: right;\">\n",
       "      <th>Job</th>\n",
       "      <th>0</th>\n",
       "      <th>1</th>\n",
       "      <th>2</th>\n",
       "      <th>3</th>\n",
       "    </tr>\n",
       "    <tr>\n",
       "      <th>Risk</th>\n",
       "      <th></th>\n",
       "      <th></th>\n",
       "      <th></th>\n",
       "      <th></th>\n",
       "    </tr>\n",
       "  </thead>\n",
       "  <tbody>\n",
       "    <tr>\n",
       "      <th>bad</th>\n",
       "      <td>7</td>\n",
       "      <td>56</td>\n",
       "      <td>186</td>\n",
       "      <td>51</td>\n",
       "    </tr>\n",
       "    <tr>\n",
       "      <th>good</th>\n",
       "      <td>15</td>\n",
       "      <td>144</td>\n",
       "      <td>444</td>\n",
       "      <td>97</td>\n",
       "    </tr>\n",
       "  </tbody>\n",
       "</table>\n",
       "</div>"
      ],
      "text/plain": [
       "Job    0    1    2   3\n",
       "Risk                  \n",
       "bad    7   56  186  51\n",
       "good  15  144  444  97"
      ]
     },
     "execution_count": 104,
     "metadata": {},
     "output_type": "execute_result"
    }
   ],
   "source": [
    "pd.crosstab(data.Risk,data.Job, values = data.Housing, aggfunc=len)"
   ]
  },
  {
   "cell_type": "code",
   "execution_count": null,
   "metadata": {},
   "outputs": [],
   "source": []
  },
  {
   "cell_type": "code",
   "execution_count": 105,
   "metadata": {},
   "outputs": [
    {
     "data": {
      "text/html": [
       "<div>\n",
       "<style scoped>\n",
       "    .dataframe tbody tr th:only-of-type {\n",
       "        vertical-align: middle;\n",
       "    }\n",
       "\n",
       "    .dataframe tbody tr th {\n",
       "        vertical-align: top;\n",
       "    }\n",
       "\n",
       "    .dataframe thead th {\n",
       "        text-align: right;\n",
       "    }\n",
       "</style>\n",
       "<table border=\"1\" class=\"dataframe\">\n",
       "  <thead>\n",
       "    <tr style=\"text-align: right;\">\n",
       "      <th>Sex</th>\n",
       "      <th>female</th>\n",
       "      <th>male</th>\n",
       "    </tr>\n",
       "    <tr>\n",
       "      <th>Job</th>\n",
       "      <th></th>\n",
       "      <th></th>\n",
       "    </tr>\n",
       "  </thead>\n",
       "  <tbody>\n",
       "    <tr>\n",
       "      <th>0</th>\n",
       "      <td>12</td>\n",
       "      <td>10</td>\n",
       "    </tr>\n",
       "    <tr>\n",
       "      <th>1</th>\n",
       "      <td>64</td>\n",
       "      <td>136</td>\n",
       "    </tr>\n",
       "    <tr>\n",
       "      <th>2</th>\n",
       "      <td>197</td>\n",
       "      <td>433</td>\n",
       "    </tr>\n",
       "    <tr>\n",
       "      <th>3</th>\n",
       "      <td>37</td>\n",
       "      <td>111</td>\n",
       "    </tr>\n",
       "  </tbody>\n",
       "</table>\n",
       "</div>"
      ],
      "text/plain": [
       "Sex  female  male\n",
       "Job              \n",
       "0        12    10\n",
       "1        64   136\n",
       "2       197   433\n",
       "3        37   111"
      ]
     },
     "execution_count": 105,
     "metadata": {},
     "output_type": "execute_result"
    }
   ],
   "source": [
    "pd.crosstab(data.Job, data.Sex, values = data.Risk.map(map_value), aggfunc=len)"
   ]
  },
  {
   "cell_type": "code",
   "execution_count": 106,
   "metadata": {},
   "outputs": [
    {
     "name": "stdout",
     "output_type": "stream",
     "text": [
      "Defaulter of Sex Category- female/Job-0: 5\n",
      "Defaulter of Sex Category- female/Job-1 : 22\n",
      "Defaulter of Sex Category- female/Job-2 : 66\n",
      "Defaulter of Sex Category- female/Job-3 : 16\n"
     ]
    }
   ],
   "source": [
    "print('Defaulter of Sex Category- female/Job-0:',len(data[(data['Sex']=='female') & (data['Risk']=='bad')\n",
    "                                                                              &( data['Job']==0)]))\n",
    "print('Defaulter of Sex Category- female/Job-1 :',len(data[(data['Sex']=='female') & (data['Risk']=='bad') \n",
    "                                                                                & (data['Job']==1)]))\n",
    "print('Defaulter of Sex Category- female/Job-2 :',len(data[(data['Sex']=='female') & (data['Risk']=='bad') \n",
    "                                                                            & (data['Job']==2)]))\n",
    "print('Defaulter of Sex Category- female/Job-3 :',len(data[(data['Sex']=='female') & (data['Risk']=='bad') \n",
    "                                                                            & (data['Job']==3)]))"
   ]
  },
  {
   "cell_type": "code",
   "execution_count": 107,
   "metadata": {},
   "outputs": [
    {
     "name": "stdout",
     "output_type": "stream",
     "text": [
      "Defaulter of Sex Category- male/Job-0: 2\n",
      "Defaulter of Sex Category- male/Job-1 : 34\n",
      "Defaulter of Sex Category- male/Job-2 : 120\n",
      "Defaulter of Sex Category- male/Job-3 : 35\n"
     ]
    }
   ],
   "source": [
    "print('Defaulter of Sex Category- male/Job-0:',len(data[(data['Sex']=='male') & (data['Risk']=='bad')\n",
    "                                                                              &( data['Job']==0)]))\n",
    "print('Defaulter of Sex Category- male/Job-1 :',len(data[(data['Sex']=='male') & (data['Risk']=='bad') \n",
    "                                                                                & (data['Job']==1)]))\n",
    "print('Defaulter of Sex Category- male/Job-2 :',len(data[(data['Sex']=='male') & (data['Risk']=='bad') \n",
    "                                                                            & (data['Job']==2)]))\n",
    "print('Defaulter of Sex Category- male/Job-3 :',len(data[(data['Sex']=='male') & (data['Risk']=='bad') \n",
    "                                                                            & (data['Job']==3)]))"
   ]
  },
  {
   "cell_type": "code",
   "execution_count": 108,
   "metadata": {},
   "outputs": [
    {
     "data": {
      "text/html": [
       "<div>\n",
       "<style scoped>\n",
       "    .dataframe tbody tr th:only-of-type {\n",
       "        vertical-align: middle;\n",
       "    }\n",
       "\n",
       "    .dataframe tbody tr th {\n",
       "        vertical-align: top;\n",
       "    }\n",
       "\n",
       "    .dataframe thead th {\n",
       "        text-align: right;\n",
       "    }\n",
       "</style>\n",
       "<table border=\"1\" class=\"dataframe\">\n",
       "  <thead>\n",
       "    <tr style=\"text-align: right;\">\n",
       "      <th>Sex</th>\n",
       "      <th>female</th>\n",
       "      <th>male</th>\n",
       "    </tr>\n",
       "    <tr>\n",
       "      <th>Risk</th>\n",
       "      <th></th>\n",
       "      <th></th>\n",
       "    </tr>\n",
       "  </thead>\n",
       "  <tbody>\n",
       "    <tr>\n",
       "      <th>bad</th>\n",
       "      <td>109</td>\n",
       "      <td>191</td>\n",
       "    </tr>\n",
       "    <tr>\n",
       "      <th>good</th>\n",
       "      <td>201</td>\n",
       "      <td>499</td>\n",
       "    </tr>\n",
       "  </tbody>\n",
       "</table>\n",
       "</div>"
      ],
      "text/plain": [
       "Sex   female  male\n",
       "Risk              \n",
       "bad      109   191\n",
       "good     201   499"
      ]
     },
     "execution_count": 108,
     "metadata": {},
     "output_type": "execute_result"
    }
   ],
   "source": [
    "pd.crosstab(data.Risk,data.Sex, values = data.Job, aggfunc=len)"
   ]
  },
  {
   "cell_type": "code",
   "execution_count": 109,
   "metadata": {},
   "outputs": [
    {
     "data": {
      "text/html": [
       "<div>\n",
       "<style scoped>\n",
       "    .dataframe tbody tr th:only-of-type {\n",
       "        vertical-align: middle;\n",
       "    }\n",
       "\n",
       "    .dataframe tbody tr th {\n",
       "        vertical-align: top;\n",
       "    }\n",
       "\n",
       "    .dataframe thead th {\n",
       "        text-align: right;\n",
       "    }\n",
       "</style>\n",
       "<table border=\"1\" class=\"dataframe\">\n",
       "  <thead>\n",
       "    <tr style=\"text-align: right;\">\n",
       "      <th>Job</th>\n",
       "      <th>0</th>\n",
       "      <th>1</th>\n",
       "      <th>2</th>\n",
       "      <th>3</th>\n",
       "    </tr>\n",
       "    <tr>\n",
       "      <th>Risk</th>\n",
       "      <th></th>\n",
       "      <th></th>\n",
       "      <th></th>\n",
       "      <th></th>\n",
       "    </tr>\n",
       "  </thead>\n",
       "  <tbody>\n",
       "    <tr>\n",
       "      <th>bad</th>\n",
       "      <td>7</td>\n",
       "      <td>56</td>\n",
       "      <td>186</td>\n",
       "      <td>51</td>\n",
       "    </tr>\n",
       "    <tr>\n",
       "      <th>good</th>\n",
       "      <td>15</td>\n",
       "      <td>144</td>\n",
       "      <td>444</td>\n",
       "      <td>97</td>\n",
       "    </tr>\n",
       "  </tbody>\n",
       "</table>\n",
       "</div>"
      ],
      "text/plain": [
       "Job    0    1    2   3\n",
       "Risk                  \n",
       "bad    7   56  186  51\n",
       "good  15  144  444  97"
      ]
     },
     "execution_count": 109,
     "metadata": {},
     "output_type": "execute_result"
    }
   ],
   "source": [
    "pd.crosstab(data.Risk,data.Job, values = data.Sex, aggfunc=len)"
   ]
  },
  {
   "cell_type": "code",
   "execution_count": null,
   "metadata": {},
   "outputs": [],
   "source": []
  },
  {
   "cell_type": "code",
   "execution_count": 110,
   "metadata": {},
   "outputs": [
    {
     "data": {
      "text/html": [
       "<div>\n",
       "<style scoped>\n",
       "    .dataframe tbody tr th:only-of-type {\n",
       "        vertical-align: middle;\n",
       "    }\n",
       "\n",
       "    .dataframe tbody tr th {\n",
       "        vertical-align: top;\n",
       "    }\n",
       "\n",
       "    .dataframe thead th {\n",
       "        text-align: right;\n",
       "    }\n",
       "</style>\n",
       "<table border=\"1\" class=\"dataframe\">\n",
       "  <thead>\n",
       "    <tr style=\"text-align: right;\">\n",
       "      <th>Housing</th>\n",
       "      <th>free</th>\n",
       "      <th>own</th>\n",
       "      <th>rent</th>\n",
       "    </tr>\n",
       "    <tr>\n",
       "      <th>Sex</th>\n",
       "      <th></th>\n",
       "      <th></th>\n",
       "      <th></th>\n",
       "    </tr>\n",
       "  </thead>\n",
       "  <tbody>\n",
       "    <tr>\n",
       "      <th>female</th>\n",
       "      <td>19</td>\n",
       "      <td>196</td>\n",
       "      <td>95</td>\n",
       "    </tr>\n",
       "    <tr>\n",
       "      <th>male</th>\n",
       "      <td>89</td>\n",
       "      <td>517</td>\n",
       "      <td>84</td>\n",
       "    </tr>\n",
       "  </tbody>\n",
       "</table>\n",
       "</div>"
      ],
      "text/plain": [
       "Housing  free  own  rent\n",
       "Sex                     \n",
       "female     19  196    95\n",
       "male       89  517    84"
      ]
     },
     "execution_count": 110,
     "metadata": {},
     "output_type": "execute_result"
    }
   ],
   "source": [
    "pd.crosstab(data.Sex, data.Housing, values = data.Risk.map(map_value), aggfunc=len)"
   ]
  },
  {
   "cell_type": "code",
   "execution_count": 111,
   "metadata": {},
   "outputs": [
    {
     "name": "stdout",
     "output_type": "stream",
     "text": [
      "Defaulter of Sex Category- female/Housing-free: 11\n",
      "Defaulter of Sex Category- female/Housing-own : 59\n",
      "Defaulter of Sex Category- female/Housing-rent : 39\n"
     ]
    }
   ],
   "source": [
    "print('Defaulter of Sex Category- female/Housing-free:',len(data[(data['Sex']=='female') & (data['Risk']=='bad')\n",
    "                                                                              &( data['Housing']=='free')]))\n",
    "print('Defaulter of Sex Category- female/Housing-own :',len(data[(data['Sex']=='female') & (data['Risk']=='bad') \n",
    "                                                                                & (data['Housing']=='own')]))\n",
    "print('Defaulter of Sex Category- female/Housing-rent :',len(data[(data['Sex']=='female') & (data['Risk']=='bad') \n",
    "                                                                            & (data['Housing']=='rent')]))"
   ]
  },
  {
   "cell_type": "code",
   "execution_count": 112,
   "metadata": {},
   "outputs": [
    {
     "name": "stdout",
     "output_type": "stream",
     "text": [
      "Defaulter of Sex Category- male/Housing-free: 33\n",
      "Defaulter of Sex Category- male/Housing-own : 127\n",
      "Defaulter of Sex Category- male/Housing-rent : 31\n"
     ]
    }
   ],
   "source": [
    "print('Defaulter of Sex Category- male/Housing-free:',len(data[(data['Sex']=='male') & (data['Risk']=='bad')\n",
    "                                                                              &( data['Housing']=='free')]))\n",
    "print('Defaulter of Sex Category- male/Housing-own :',len(data[(data['Sex']=='male') & (data['Risk']=='bad') \n",
    "                                                                                & (data['Housing']=='own')]))\n",
    "print('Defaulter of Sex Category- male/Housing-rent :',len(data[(data['Sex']=='male') & (data['Risk']=='bad') \n",
    "                                                                            & (data['Housing']=='rent')]))"
   ]
  },
  {
   "cell_type": "code",
   "execution_count": 113,
   "metadata": {},
   "outputs": [
    {
     "data": {
      "text/html": [
       "<div>\n",
       "<style scoped>\n",
       "    .dataframe tbody tr th:only-of-type {\n",
       "        vertical-align: middle;\n",
       "    }\n",
       "\n",
       "    .dataframe tbody tr th {\n",
       "        vertical-align: top;\n",
       "    }\n",
       "\n",
       "    .dataframe thead th {\n",
       "        text-align: right;\n",
       "    }\n",
       "</style>\n",
       "<table border=\"1\" class=\"dataframe\">\n",
       "  <thead>\n",
       "    <tr style=\"text-align: right;\">\n",
       "      <th>Housing</th>\n",
       "      <th>free</th>\n",
       "      <th>own</th>\n",
       "      <th>rent</th>\n",
       "    </tr>\n",
       "    <tr>\n",
       "      <th>Risk</th>\n",
       "      <th></th>\n",
       "      <th></th>\n",
       "      <th></th>\n",
       "    </tr>\n",
       "  </thead>\n",
       "  <tbody>\n",
       "    <tr>\n",
       "      <th>bad</th>\n",
       "      <td>44</td>\n",
       "      <td>186</td>\n",
       "      <td>70</td>\n",
       "    </tr>\n",
       "    <tr>\n",
       "      <th>good</th>\n",
       "      <td>64</td>\n",
       "      <td>527</td>\n",
       "      <td>109</td>\n",
       "    </tr>\n",
       "  </tbody>\n",
       "</table>\n",
       "</div>"
      ],
      "text/plain": [
       "Housing  free  own  rent\n",
       "Risk                    \n",
       "bad        44  186    70\n",
       "good       64  527   109"
      ]
     },
     "execution_count": 113,
     "metadata": {},
     "output_type": "execute_result"
    }
   ],
   "source": [
    "pd.crosstab(data.Risk,data.Housing, values = data.Sex, aggfunc=len)"
   ]
  },
  {
   "cell_type": "code",
   "execution_count": 114,
   "metadata": {},
   "outputs": [
    {
     "data": {
      "text/html": [
       "<div>\n",
       "<style scoped>\n",
       "    .dataframe tbody tr th:only-of-type {\n",
       "        vertical-align: middle;\n",
       "    }\n",
       "\n",
       "    .dataframe tbody tr th {\n",
       "        vertical-align: top;\n",
       "    }\n",
       "\n",
       "    .dataframe thead th {\n",
       "        text-align: right;\n",
       "    }\n",
       "</style>\n",
       "<table border=\"1\" class=\"dataframe\">\n",
       "  <thead>\n",
       "    <tr style=\"text-align: right;\">\n",
       "      <th>Sex</th>\n",
       "      <th>female</th>\n",
       "      <th>male</th>\n",
       "    </tr>\n",
       "    <tr>\n",
       "      <th>Risk</th>\n",
       "      <th></th>\n",
       "      <th></th>\n",
       "    </tr>\n",
       "  </thead>\n",
       "  <tbody>\n",
       "    <tr>\n",
       "      <th>bad</th>\n",
       "      <td>109</td>\n",
       "      <td>191</td>\n",
       "    </tr>\n",
       "    <tr>\n",
       "      <th>good</th>\n",
       "      <td>201</td>\n",
       "      <td>499</td>\n",
       "    </tr>\n",
       "  </tbody>\n",
       "</table>\n",
       "</div>"
      ],
      "text/plain": [
       "Sex   female  male\n",
       "Risk              \n",
       "bad      109   191\n",
       "good     201   499"
      ]
     },
     "execution_count": 114,
     "metadata": {},
     "output_type": "execute_result"
    }
   ],
   "source": [
    "pd.crosstab(data.Risk,data.Sex, values = data.Housing, aggfunc=len)"
   ]
  },
  {
   "cell_type": "code",
   "execution_count": null,
   "metadata": {},
   "outputs": [],
   "source": []
  },
  {
   "cell_type": "markdown",
   "metadata": {},
   "source": [
    "# Analysis Description Feature Wise"
   ]
  },
  {
   "cell_type": "code",
   "execution_count": 9,
   "metadata": {},
   "outputs": [],
   "source": [
    "# Checking Account"
   ]
  },
  {
   "cell_type": "markdown",
   "metadata": {},
   "source": [
    "W.R.T Job --- type \"little\" ~ 48% default ratio; type \"rich\" ~ 25% default ratio        \n",
    "W.R.T Sex --- type \"little\" ~ 49% default ratio; type \"rich\" ~ 21% default ratio          \n",
    "W.R.T Housing --- type \"little\" ~ 51% default ratio; type \"rich\" ~ 23% default ratio         \n",
    "W.R.T Purpose --- type \"little\" ~ 54% default ratio; type \"rich\" ~ 15% default ratio          "
   ]
  },
  {
   "cell_type": "code",
   "execution_count": 10,
   "metadata": {},
   "outputs": [],
   "source": [
    "# Saving Accounts"
   ]
  },
  {
   "cell_type": "markdown",
   "metadata": {},
   "source": [
    "W.R.T Job --- type \"little\" ~ 38% default ratio; type \"rich\" ~ 11% default ratio          \n",
    "W.R.T Sex --- type \"little\" ~ 36% default ratio; type \"rich\" ~ 11% default ratio            \n",
    "W.R.T Housing --- type \"little\" ~ 41% default ratio; type \"quite rich\" ~ 21% default ratio            \n",
    "W.R.T Purpose --- type \"little\" ~ 38% default ratio; type \"quite rich\" ~ 10% default ratio          "
   ]
  },
  {
   "cell_type": "code",
   "execution_count": 11,
   "metadata": {},
   "outputs": [],
   "source": [
    "# Sex"
   ]
  },
  {
   "cell_type": "markdown",
   "metadata": {},
   "source": [
    "W.R.T Checking account --- type \"female\" ~ 39% default ratio; type \"male\" ~ 35% default ratio       \n",
    "W.R.T Saving accounts --- type \"female\" ~ 29% default ratio; type \"male\" ~ 23% default ratio       \n",
    "W.R.T Job --- type \"female\" ~ 38% default ratio; type \"male\" ~ 26% default ratio        \n",
    "W.R.T Housing --- type \"female\" ~ 42% default ratio; type \"male\" ~ 32% default ratio        \n",
    "W.R.T Pupose --- type \"female\" ~ 34% default ratio; type \"male\" ~ 31% default ratio        "
   ]
  },
  {
   "cell_type": "code",
   "execution_count": 12,
   "metadata": {},
   "outputs": [],
   "source": [
    "# Job"
   ]
  },
  {
   "cell_type": "markdown",
   "metadata": {},
   "source": [
    "W.R.T Checking account --- type \"0\" &  \"3\"~ 37% default ratio; type \"1\" ~ 35% default ratio       \n",
    "W.R.T Savinging accounts --- type \"3\"~ 30% default ratio; type \"0\" ~ 11% default ratio                   \n",
    "W.R.T Sex --- type \"3\"~ 37% default ratio; type \"0\" ~ 30% default ratio       \n",
    "W.R.T Housing --- type \"0\"~ 47% default ratio; type \"3\" ~ 32% default ratio           \n",
    "W.R.T Purpose --- type \"0\"~ 81% default ratio; type \"2\" ~ 28% default ratio          "
   ]
  },
  {
   "cell_type": "code",
   "execution_count": 13,
   "metadata": {},
   "outputs": [],
   "source": [
    "# Housing"
   ]
  },
  {
   "cell_type": "markdown",
   "metadata": {},
   "source": [
    "W.R.T Checking account --- type \"free\" ~ 48% default ratio; type \"own\" ~ 38% default ratio          \n",
    "W.R.T Saving accounts --- type \"free\" ~ 57% default ratio; type \"own\" ~ 20% default ratio       \n",
    "W.R.T Sex --- type \"free\" ~ 47% default ratio; type \"own\" ~ 27% default ratio            \n",
    "W.R.T Job --- type \"free\" ~ 40% default ratio; type \"own\" ~ 28% default ratio               \n",
    "W.R.T Purpose --- type \"rent\" ~ 39% default ratio; type \"own\" ~ 31% default ratio"
   ]
  },
  {
   "cell_type": "code",
   "execution_count": 14,
   "metadata": {},
   "outputs": [],
   "source": [
    "# Purpose"
   ]
  },
  {
   "cell_type": "markdown",
   "metadata": {},
   "source": [
    "W.R.T Checking account --- type \"education ~ 48% default ratio; type \"domestic appliance\" ~ 26% default ratio       \n",
    "W.R.T Saving accounts --- type \"education\" ~ 52% default ratio; type \"vaccation/other\" ~ 10% default ratio        \n",
    "W.R.T Sex --- type \"education\" ~ 38% default ratio; type \"repair\" ~ 19% default ratio                          \n",
    "W.R.T Job --- type \"education\" ~ 53% default ratio; type \"vaccation/other\" ~ 14% default ratio            \n",
    "W.R.T Housing --- type \"business\" ~ 51% default ratio; type \"vaccation/other\" ~ 25% default ratio"
   ]
  },
  {
   "cell_type": "markdown",
   "metadata": {},
   "source": [
    "# Analysis Report"
   ]
  },
  {
   "cell_type": "markdown",
   "metadata": {},
   "source": [
    "For Saving and Checking accounts category \"little\" has the maximum defaul ratio, where as \"rich\" has the minimum default ratio.\n",
    "\n",
    "For Sex category \"female\" has the maximum default ratio, where as \"male\" is in the lower side.\n",
    "\n",
    "For Job category \"0\" & \"3\" having maximum defaulter.\n",
    "\n",
    "For Housing category \"free\" is in the heigher side for defaulter where as \"own\" is in the lower side.         \n",
    "\n",
    "For Purpose category \"education\" is in the heigher side for defaulter.\n"
   ]
  },
  {
   "cell_type": "code",
   "execution_count": null,
   "metadata": {},
   "outputs": [],
   "source": []
  }
 ],
 "metadata": {
  "kernelspec": {
   "display_name": "Python 3",
   "language": "python",
   "name": "python3"
  },
  "language_info": {
   "codemirror_mode": {
    "name": "ipython",
    "version": 3
   },
   "file_extension": ".py",
   "mimetype": "text/x-python",
   "name": "python",
   "nbconvert_exporter": "python",
   "pygments_lexer": "ipython3",
   "version": "3.6.5"
  }
 },
 "nbformat": 4,
 "nbformat_minor": 2
}
